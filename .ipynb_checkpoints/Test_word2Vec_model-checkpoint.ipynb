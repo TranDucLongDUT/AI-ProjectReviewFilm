{
 "cells": [
  {
   "cell_type": "code",
   "execution_count": 7,
   "metadata": {},
   "outputs": [
    {
     "name": "stdout",
     "output_type": "stream",
     "text": [
      "[nltk_data] Downloading package punkt to\n",
      "[nltk_data]     C:\\Users\\PC\\AppData\\Roaming\\nltk_data...\n",
      "[nltk_data]   Package punkt is already up-to-date!\n"
     ]
    }
   ],
   "source": [
    "from gensim.models import Word2Vec\n",
    "from gensim.models import KeyedVectors\n",
    "from gensim import models\n",
    "import gensim\n",
    "import os\n",
    "import numpy as np\n",
    "import nltk\n",
    "from nltk.stem import PorterStemmer\n",
    "nltk.download('punkt')\n",
    "stemmer = PorterStemmer()\n",
    "global model\n",
    "# nltk.download('brown')\n",
    "# print(brown.sents())\n",
    "# path = 'A:\\ChuongTrinhKy1Nam5\\HeThongThoiGianThuc\\AI-ProjectReviewFilm\\trieu\\VNTC-master\\Data\\27Topics\\Ver1.1\\new train\\San khau dien anh'\n"
   ]
  },
  {
   "cell_type": "code",
   "execution_count": 62,
   "metadata": {},
   "outputs": [
    {
     "name": "stdout",
     "output_type": "stream",
     "text": [
      "['\\ufeffNguyễn Quang Tuyến ', 'Đỗ Nam  ', 'Phan Minh  ', 'Han Sang-hee  ', 'Tsai Lex  ', 'Đức Thịnh  ', 'Nguyễn Hoàng Anh ', 'Dustin Nguyễn  ', 'Trần Ngọc Giàu ', 'Nguyễn Hà  ', 'Nguyễn Quang Dũng ', 'Lâm Tư  ', 'Võ Thanh Hòa ', 'Văn Công Viễn ', 'Trương Quang Thịnh ', 'Lý Hải  ', 'Vũ Ngọc Phượng ', 'Robie Trường  ', 'Nguyễn Ngọc Hùng ', 'Cao Thúy Nhi ', 'Kawaii Nguyễn Tuấn Anh', 'Hứa Vĩ Văn ', 'Vĩnh Thuyên  ', 'Duy Joseph  ', 'Lương Trung Tín ', 'Leon Quang Lê ', 'Charlie Nguyễn  ', 'Thắng Vũ  ', 'Võ Thanh Hòa ', 'Nguyễn Thành Vinh ', 'Đinh Tuấn Vũ ', 'Trần Nhân Kiên ', 'Swann Dubus  ', 'Nguyễn Hoàng Duy ', 'Victor Vũ  ', 'Roland Nguyễn Nhân ', 'Nguyễn Đức Minh ', 'Cường Ngô  ', 'Bảo Nhân  ', 'Ken Ochiai  ', 'Hàm Trần  ']\n"
     ]
    }
   ],
   "source": [
    "# import csv\n",
    "# with open('dataSpliceTest.csv', newline='', encoding=\"utf8\") as f:\n",
    "#     reader = csv.reader(f)\n",
    "#     print(reader)\n",
    "# #     for row in reader:\n",
    "# #         print(row)\n"
   ]
  },
  {
   "cell_type": "code",
   "execution_count": 44,
   "metadata": {},
   "outputs": [
    {
     "name": "stderr",
     "output_type": "stream",
     "text": [
      "D:\\Computer Program\\Study\\AnacondaPython\\lib\\site-packages\\ipykernel_launcher.py:11: DeprecationWarning: Call to deprecated `wv` (Attribute will be removed in 4.0.0, use self instead).\n",
      "  # This is added back by InteractiveShellApp.init_path()\n"
     ]
    },
    {
     "name": "stdout",
     "output_type": "stream",
     "text": [
      "[array(['chíh', '0.4103713631629944'], dtype='<U19'), array(['chánh', '0.40057504177093506'], dtype='<U19'), array(['chínhh', '0.3639390766620636'], dtype='<U19'), array(['cai', '0.35712096095085144'], dtype='<U19'), array(['thổn', '0.3180791437625885'], dtype='<U19')]\n"
     ]
    },
    {
     "name": "stderr",
     "output_type": "stream",
     "text": [
      "D:\\Computer Program\\Study\\AnacondaPython\\lib\\site-packages\\gensim\\matutils.py:737: FutureWarning: Conversion of the second argument of issubdtype from `int` to `np.signedinteger` is deprecated. In future, it will be treated as `np.int32 == np.dtype(int).type`.\n",
      "  if np.issubdtype(vec.dtype, np.int):\n"
     ]
    }
   ],
   "source": [
    "# with open('SKDA_NLD.txt','r',encoding=\"utf16\", errors='ignore') as k:\n",
    "#     documents = []\n",
    "#     for line in k:\n",
    "#         line = line.split('\\n')\n",
    "#         while '' in line:\n",
    "#             line.remove('')\n",
    "#         documents.append(line)\n",
    "#     documents = numpy.array(documents)\n",
    "# with open('wiki.vi.model.bin','rb') as w:\n",
    "#     model = gensim.models.KeyedVectors.load_word2vec_format(w, binary=True)\n",
    "# vector = numpy.array(model.wv.most_similar(['chính'],topn=5))\n",
    "# print([word for word in vector])"
   ]
  },
  {
   "cell_type": "code",
   "execution_count": null,
   "metadata": {},
   "outputs": [],
   "source": [
    "\n"
   ]
  },
  {
   "cell_type": "code",
   "execution_count": null,
   "metadata": {},
   "outputs": [],
   "source": [
    "   "
   ]
  },
  {
   "cell_type": "code",
   "execution_count": null,
   "metadata": {},
   "outputs": [],
   "source": []
  },
  {
   "cell_type": "code",
   "execution_count": null,
   "metadata": {},
   "outputs": [],
   "source": []
  },
  {
   "cell_type": "code",
   "execution_count": null,
   "metadata": {},
   "outputs": [],
   "source": []
  },
  {
   "cell_type": "code",
   "execution_count": null,
   "metadata": {},
   "outputs": [],
   "source": []
  },
  {
   "cell_type": "code",
   "execution_count": null,
   "metadata": {},
   "outputs": [],
   "source": []
  },
  {
   "cell_type": "code",
   "execution_count": null,
   "metadata": {},
   "outputs": [],
   "source": []
  },
  {
   "cell_type": "code",
   "execution_count": null,
   "metadata": {},
   "outputs": [],
   "source": []
  },
  {
   "cell_type": "code",
   "execution_count": null,
   "metadata": {},
   "outputs": [],
   "source": []
  },
  {
   "cell_type": "code",
   "execution_count": null,
   "metadata": {},
   "outputs": [],
   "source": []
  },
  {
   "cell_type": "code",
   "execution_count": null,
   "metadata": {},
   "outputs": [],
   "source": []
  },
  {
   "cell_type": "code",
   "execution_count": null,
   "metadata": {},
   "outputs": [],
   "source": []
  },
  {
   "cell_type": "code",
   "execution_count": null,
   "metadata": {},
   "outputs": [],
   "source": []
  },
  {
   "cell_type": "code",
   "execution_count": null,
   "metadata": {},
   "outputs": [],
   "source": []
  },
  {
   "cell_type": "code",
   "execution_count": null,
   "metadata": {},
   "outputs": [],
   "source": []
  },
  {
   "cell_type": "code",
   "execution_count": null,
   "metadata": {},
   "outputs": [],
   "source": []
  },
  {
   "cell_type": "code",
   "execution_count": null,
   "metadata": {},
   "outputs": [],
   "source": []
  },
  {
   "cell_type": "code",
   "execution_count": null,
   "metadata": {},
   "outputs": [],
   "source": []
  },
  {
   "cell_type": "code",
   "execution_count": null,
   "metadata": {},
   "outputs": [],
   "source": []
  },
  {
   "cell_type": "code",
   "execution_count": null,
   "metadata": {},
   "outputs": [],
   "source": []
  }
 ],
 "metadata": {
  "kernelspec": {
   "display_name": "Python 3",
   "language": "python",
   "name": "python3"
  },
  "language_info": {
   "codemirror_mode": {
    "name": "ipython",
    "version": 3
   },
   "file_extension": ".py",
   "mimetype": "text/x-python",
   "name": "python",
   "nbconvert_exporter": "python",
   "pygments_lexer": "ipython3",
   "version": "3.6.5"
  }
 },
 "nbformat": 4,
 "nbformat_minor": 2
}
