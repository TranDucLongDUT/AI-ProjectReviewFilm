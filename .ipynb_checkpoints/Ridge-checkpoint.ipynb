{
 "cells": [
  {
   "cell_type": "code",
   "execution_count": 113,
   "metadata": {},
   "outputs": [],
   "source": [
    "import pandas\n",
    "from sklearn.feature_extraction.text import TfidfVectorizer\n",
    "from sklearn.feature_extraction import DictVectorizer\n",
    "from scipy.sparse import hstack\n",
    "from sklearn.linear_model import Ridge\n",
    "import numpy as np\n",
    "import csv\n",
    "from collections import OrderedDict"
   ]
  },
  {
   "cell_type": "code",
   "execution_count": 101,
   "metadata": {},
   "outputs": [],
   "source": [
    "data_train = pandas.read_csv('data_train_2.csv', usecols=['Director', 'Star'])\n",
    "\n",
    "data_train['Director'] = data_train['Director'].str.lower().replace('[^a-zA-Z0-9]', ' ', regex = True)\n",
    "data_train['Star'] = data_train['Star'].str.lower().replace('[^a-zA-Z0-9]', ' ', regex = True)\n",
    "\n",
    "vectorizer = TfidfVectorizer(min_df=5)\n",
    "X_tfidf = vectorizer.fit_transform(data_train['Director']) \n",
    "\n",
    "enc = DictVectorizer()\n",
    "X_train_categ = enc.fit_transform(data_train[['Star']].to_dict('records'))\n",
    "\n",
    "X = hstack([X_tfidf,X_train_categ])"
   ]
  },
  {
   "cell_type": "code",
   "execution_count": 102,
   "metadata": {},
   "outputs": [
    {
     "data": {
      "text/plain": [
       "Ridge(alpha=1.0, copy_X=True, fit_intercept=True, max_iter=None,\n",
       "   normalize=False, random_state=241, solver='auto', tol=0.001)"
      ]
     },
     "execution_count": 102,
     "metadata": {},
     "output_type": "execute_result"
    }
   ],
   "source": [
    "# Classifier: \n",
    "clf = Ridge(alpha=1.0, random_state=241)\n",
    "\n",
    "# The target value (algorithm has to predict) is SalaryNormalized\n",
    "y = pandas.read_csv('data_train_2.csv', usecols=['Imdb'])['Imdb'].tolist()\n",
    "# train model on data\n",
    "clf.fit(X, y)"
   ]
  },
  {
   "cell_type": "code",
   "execution_count": 107,
   "metadata": {},
   "outputs": [],
   "source": [
    "test = pandas.read_csv('data_test_2.csv', usecols=['Director', 'Star'])\n",
    "\n",
    "test['Director'] = test['Director'].str.lower().replace('[^a-zA-Z0-9]', ' ', regex = True)\n",
    "test['Star'] = test['Star'].str.lower().replace('[^a-zA-Z0-9]', ' ', regex = True)\n",
    "\n",
    "X_test = vectorizer.transform(test['Director']) \n",
    "X_test_categ = enc.transform(test[['Star']].to_dict('records'))\n",
    "X_test = hstack([X_test, X_test_categ])\n",
    "\n",
    "# X_test = vectorizer.transform(test['Director'])\n",
    "# X_test_categ = enc.transform(test[['Star']].to_dict('records'))\n",
    "# X_test = hstack([X_test, X_test_categ])\n",
    "rslt = clf.predict(X_test)"
   ]
  },
  {
   "cell_type": "code",
   "execution_count": 112,
   "metadata": {},
   "outputs": [],
   "source": [
    "data = pandas.read_csv('data_test_2.csv')\n",
    "film = data['Film'].tolist()\n",
    "director = data['Director'].tolist()\n",
    "star = data['Star'].tolist()\n",
    "new_data = []\n",
    "for i in range(len(film)):\n",
    "    new_data.append([film[i], director[i], star[i], rslt[i]])\n",
    "    \n",
    "film_name = \"\"\n",
    "count = 0\n",
    "total_point\n",
    "result = OrderedDict()\n",
    "for data in new_data:\n",
    "    if film_name is not data[0]:\n",
    "        count = 0\n",
    "        film_name = data[0]\n",
    "        total_point += data[3]\n",
    "    else:\n",
    "        "
   ]
  },
  {
   "cell_type": "code",
   "execution_count": null,
   "metadata": {},
   "outputs": [],
   "source": []
  }
 ],
 "metadata": {
  "kernelspec": {
   "display_name": "Python 3",
   "language": "python",
   "name": "python3"
  },
  "language_info": {
   "codemirror_mode": {
    "name": "ipython",
    "version": 3
   },
   "file_extension": ".py",
   "mimetype": "text/x-python",
   "name": "python",
   "nbconvert_exporter": "python",
   "pygments_lexer": "ipython3",
   "version": "3.6.5"
  }
 },
 "nbformat": 4,
 "nbformat_minor": 2
}
