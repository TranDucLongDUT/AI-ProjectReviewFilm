{
 "cells": [
  {
   "cell_type": "code",
   "execution_count": 52,
   "metadata": {},
   "outputs": [],
   "source": [
    "import tensorflow as tf\n",
    "import numpy as np\n",
    "import pandas as pd"
   ]
  },
  {
   "cell_type": "code",
   "execution_count": 53,
   "metadata": {},
   "outputs": [],
   "source": [
    "import bs4\n",
    "from urllib.request import urlopen\n",
    "import csv "
   ]
  },
  {
   "cell_type": "code",
   "execution_count": 54,
   "metadata": {},
   "outputs": [],
   "source": [
    "def readUrl(url):\n",
    "    web_data = urlopen(url)\n",
    "    html = web_data.read()\n",
    "    web_data.close()\n",
    "    data = bs4.BeautifulSoup(html, 'html.parser')\n",
    "    return data"
   ]
  },
  {
   "cell_type": "code",
   "execution_count": 55,
   "metadata": {},
   "outputs": [
    {
     "name": "stdout",
     "output_type": "stream",
     "text": [
      "43\n"
     ]
    }
   ],
   "source": [
    "url = \"https://moveek.com/phim-viet-nam/\" \n",
    "soup = readUrl(url) \n",
    "results = soup.findAll('div','panel panel-post panel-movie-grid') \n",
    "print(len(results))"
   ]
  },
  {
   "cell_type": "code",
   "execution_count": 56,
   "metadata": {},
   "outputs": [],
   "source": [
    "rows = [];\n",
    "rows.append(['Director','Star', 'Imdb'])\n",
    "for result in results:\n",
    "    data = result.find('a') \n",
    "    \n",
    "    #Get link film\n",
    "    link = 'https://moveek.com'+data.get('href')\n",
    "    #Get data from link\n",
    "    soup = readUrl(link)\n",
    "    resultFilms = soup.find('div','movie-header-wrapper')\n",
    "    \n",
    "    #2 - Get percents\n",
    "    percent = resultFilms.find('div','action chart-pie chart-pie-small pull-left')\n",
    "    if(percent == None) :\n",
    "        percent = '5'\n",
    "    else :\n",
    "        percent = percent.getText().replace(\"%\",\"\")\n",
    "        percent = int(percent)/10\n",
    "#     print(percent)\n",
    "        \n",
    "    #3 - Get director\n",
    "    srcDirector = resultFilms.findAll('p','text-white')\n",
    "    director = srcDirector[len(srcDirector)-1].find('a');\n",
    "    if(director == None):\n",
    "        director = ''\n",
    "    else:\n",
    "        director = director.getText() \n",
    "    \n",
    "    #4 - Get Actors\n",
    "    resultActorFilms = soup.find('div','movie-actors panel wrapper m-t')\n",
    "    listActor=[];\n",
    "    if(resultActorFilms == None or director=='') : \n",
    "        listActor='No Actor'\n",
    "    else :\n",
    "        actors = resultActorFilms.findAll('img')\n",
    "        for actor in actors:\n",
    "            rows.append([director,actor.get('alt'), percent])"
   ]
  },
  {
   "cell_type": "code",
   "execution_count": 105,
   "metadata": {},
   "outputs": [],
   "source": [
    "# print(tf.feature_column.categorical_column_with_vocabulary_list())"
   ]
  },
  {
   "cell_type": "code",
   "execution_count": 57,
   "metadata": {},
   "outputs": [],
   "source": [
    "directors = []\n",
    "actors = []\n",
    "point = []\n",
    "for row in rows[1:]:\n",
    "    directors.append(row[1])\n",
    "    actors.append(row[2])\n",
    "    point.append(row[0])\n",
    "# print (actors)"
   ]
  },
  {
   "cell_type": "code",
   "execution_count": 58,
   "metadata": {},
   "outputs": [
    {
     "name": "stdout",
     "output_type": "stream",
     "text": [
      "[['Director', 'Star', 'Imdb'], ['Nguyễn Quang Tuyến', 'Nhật Kim Anh', 8.0], ['Nguyễn Quang Tuyến', 'Đông Dương', 8.0], ['Nguyễn Quang Tuyến', 'Xuân Phúc', 8.0], ['Nguyễn Quang Tuyến', 'Quang Hòa', 8.0], ['Nguyễn Quang Tuyến', 'Lâm Trí', 8.0], ['Nguyễn Quang Tuyến', 'Hoàng Tiến Dũng', 8.0], ['Nguyễn Quang Tuyến', 'Hùng Chilhuyn', 8.0], ['Đỗ Nam', 'Huy Khánh', 7.9], ['Đỗ Nam', 'Quý Bình', 7.9], ['Đỗ Nam', 'Lê Bình', 7.9], ['Đỗ Nam', 'Quỳnh Chi', 7.9], ['Đỗ Nam', 'Anh Thơ', 7.9], ['Đỗ Nam', 'bé Gia Bảo', 7.9], ['Đỗ Nam', 'Trương Thanh Long', 7.9], ['Đỗ Nam', 'Hạnh Thúy', 7.9], ['Đỗ Nam', 'Lê Chi Na', 7.9], ['Đỗ Nam', 'Lan Trinh', 7.9], ['Phan Minh', 'Trương Mỹ Nhân', 5.0], ['Phan Minh', 'Tuấn Trần', 5.0], ['Phan Minh', 'Brian Trần', 5.0], ['Phan Minh', 'Jay Nhân', 5.0], ['Han Sang-hee', 'Chi Pu', 4.0], ['Han Sang-hee', 'San E', 4.0], ['Han Sang-hee', 'Chae Yeon', 4.0], ['Han Sang-hee', 'Jin Ju Hyung', 4.0], ['Tsai Lex', 'Sun Wei Lung', '5'], ['Tsai Lex', 'Khả Ngân', '5'], ['Tsai Lex', 'Aki Myung-Hun', '5'], ['Tsai Lex', 'Kha Ly', '5'], ['Tsai Lex', 'Lê Bê La', '5'], ['Tsai Lex', 'Nhất Duy', '5'], ['Tsai Lex', 'Do Tai Wai', '5'], ['Tsai Lex', 'Lu Shi Yong', '5'], ['Đức Thịnh', 'Trường Giang', 9.1], ['Đức Thịnh', 'Thanh Thúy', 9.1], ['Đức Thịnh', 'Đức Thịnh', 9.1], ['Đức Thịnh', 'Mai Tài Phến', 9.1], ['Đức Thịnh', 'Sam', 9.1], ['Nguyễn Hoàng Anh', 'Jun Phạm', 8.8], ['Nguyễn Hoàng Anh', 'Trung Dân', 8.8], ['Nguyễn Hoàng Anh', 'Hải Triều', 8.8], ['Nguyễn Hoàng Anh', 'Tiến Công', 8.8], ['Nguyễn Hoàng Anh', 'Puka', 8.8], ['Nguyễn Hoàng Anh', 'Ngọc Tưởng', 8.8], ['Dustin Nguyễn', 'Dustin Nguyễn', 8.2], ['Dustin Nguyễn', 'Thu Trang', 8.2], ['Dustin Nguyễn', 'Kiều Minh Tuấn', 8.2], ['Dustin Nguyễn', 'Hoàng Sơn', 8.2], ['Dustin Nguyễn', 'Nam Em', 8.2], ['Dustin Nguyễn', 'Tiểu Bảo Quốc', 8.2], ['Dustin Nguyễn', 'Đại Nghĩa', 8.2], ['Dustin Nguyễn', 'Lê Bình', 8.2], ['Dustin Nguyễn', 'Tiết Cương', 8.2], ['Trần Ngọc Giàu', 'Hoài Linh', 6.0], ['Trần Ngọc Giàu', 'Bạch Công Khanh', 6.0], ['Trần Ngọc Giàu', 'Thanh Vy', 6.0], ['Trần Ngọc Giàu', 'Celina Huỳnh', 6.0], ['Trần Ngọc Giàu', 'Lê Lộc', 6.0], ['Trần Ngọc Giàu', 'Xuân Nghị', 6.0], ['Trần Ngọc Giàu', 'Tấn Beo', 6.0], ['Trần Ngọc Giàu', 'Trung Dân', 6.0], ['Trần Ngọc Giàu', 'Bella Mai', 6.0], ['Trần Ngọc Giàu', 'Hứa Minh Đạt', 6.0], ['Trần Ngọc Giàu', 'Thân Thuý Hà', 6.0], ['Trần Ngọc Giàu', 'Tuấn Dũng', 6.0], ['Nguyễn Hà', 'Trương Mỹ Nhân', 2.9], ['Nguyễn Hà', 'Kent Phạm Tùng Anh', 2.9], ['Nguyễn Hà', 'Xuân Phúc', 2.9], ['Nguyễn Hà', 'Ngọc Châu', 2.9], ['Nguyễn Quang Dũng', 'Thanh Hằng', 9.3], ['Nguyễn Quang Dũng', 'Jun Vũ', 9.3], ['Nguyễn Quang Dũng', 'Anh Thư', 9.3], ['Nguyễn Quang Dũng', 'Mỹ Duyên', 9.3], ['Nguyễn Quang Dũng', 'Hoàng Oanh', 9.3], ['Nguyễn Quang Dũng', 'Trịnh Thảo', 9.3], ['Nguyễn Quang Dũng', 'Hồng Ánh', 9.3], ['Nguyễn Quang Dũng', 'Hoàng Yến Chibi', 9.3], ['Nguyễn Quang Dũng', 'Mỹ Uyên', 9.3], ['Nguyễn Quang Dũng', 'Khổng Tú Quỳnh', 9.3], ['Nguyễn Quang Dũng', 'Tuyền Mập', 9.3], ['Nguyễn Quang Dũng', 'Minh Thảo', 9.3], ['Võ Thanh Hòa', 'Trịnh Thăng Bình', 8.2], ['Võ Thanh Hòa', 'Kiều Trinh Xíu', 8.2], ['Võ Thanh Hòa', 'Coca Hoàng Gia Bảo', 8.2], ['Võ Thanh Hòa', 'Hạ Vi', 8.2], ['Võ Thanh Hòa', 'Hoàng Rapper', 8.2], ['Võ Thanh Hòa', 'Hoàng Sơn', 8.2], ['Võ Thanh Hòa', 'Tùng Leo', 8.2], ['Võ Thanh Hòa', 'Võ Cảnh', 8.2], ['Võ Thanh Hòa', 'Hoàng Phi', 8.2], ['Võ Thanh Hòa', 'Phương Trinh Jolie', 8.2], ['Võ Thanh Hòa', 'Chu Diệp Anh', 8.2], ['Võ Thanh Hòa', 'Lou Hoàng', 8.2], ['Văn Công Viễn', 'Ngọc Thanh Tâm', 4.7], ['Văn Công Viễn', 'Hoài Lâm', 4.7], ['Văn Công Viễn', 'Trang Trần', 4.7], ['Văn Công Viễn', 'Đàm Vĩnh Hưng', 4.7], ['Văn Công Viễn', 'Thúy Vy', 4.7], ['Trương Quang Thịnh', 'Quỳnh Hương Venus', '5'], ['Trương Quang Thịnh', 'Huỳnh Hồng Loan', '5'], ['Trương Quang Thịnh', 'Gia Linh', '5'], ['Trương Quang Thịnh', 'Phạm Hoàng Nguyên', '5'], ['Trương Quang Thịnh', 'Gin Tuấn Kiệt', '5'], ['Trương Quang Thịnh', 'Hồng Vân', '5'], ['Trương Quang Thịnh', 'Cát Tường', '5'], ['Trương Quang Thịnh', 'Kiều Minh Tuấn', '5'], ['Lý Hải', 'Kiều Minh Tuấn', 8.1], ['Lý Hải', 'Lý Hải', 8.1], ['Lý Hải', 'Huy Khánh', 8.1], ['Lý Hải', 'Song Luân', 8.1], ['Lý Hải', 'Nene', 8.1], ['Lý Hải', 'Tú Trinh', 8.1], ['Lý Hải', 'Tiết Cương', 8.1], ['Lý Hải', 'Cát Phượng', 8.1], ['Lý Hải', 'Phương Bình', 8.1], ['Lý Hải', 'Diệu Đức', 8.1], ['Lý Hải', 'Hoàng Mèo', 8.1], ['Lý Hải', 'Thanh Tân', 8.1], ['Lý Hải', 'Lương Mỹ', 8.1], ['Lý Hải', 'Phi Điểu', 8.1], ['Vũ Ngọc Phượng', 'Jun Phạm', 8.1], ['Vũ Ngọc Phượng', 'Khả Ngân', 8.1], ['Vũ Ngọc Phượng', 'Lê Tam Triều Dâng', 8.1], ['Vũ Ngọc Phượng', 'B Trần', 8.1], ['Vũ Ngọc Phượng', 'Gin Tuấn Kiệt', 8.1], ['Vũ Ngọc Phượng', 'NSƯT Mỹ Uyên', 8.1], ['Vũ Ngọc Phượng', 'Chiều Xuân', 8.1], ['Robie Trường', 'Nhan Phúc Vinh', 7.4], ['Robie Trường', 'Hoàng Phi', 7.4], ['Robie Trường', 'Hiếu Nguyễn', 7.4], ['Robie Trường', 'Hùng Chilhyun', 7.4], ['Robie Trường', 'Rima Thanh Vy', 7.4], ['Robie Trường', 'Thanh Tú', 7.4], ['Robie Trường', 'Lâm Thắng', 7.4], ['Robie Trường', 'Võ Hoài Nam', 7.4], ['Robie Trường', 'NSUT Công Ninh', 7.4], ['Robie Trường', 'Trọng Hải', 7.4], ['Nguyễn Ngọc Hùng', 'Diệu Nhi', 5.0], ['Nguyễn Ngọc Hùng', 'Thuận Nguyễn', 5.0], ['Nguyễn Ngọc Hùng', 'Khả Như', 5.0], ['Nguyễn Ngọc Hùng', 'Khương Ngọc', 5.0], ['Nguyễn Ngọc Hùng', 'La Thành', 5.0], ['Nguyễn Ngọc Hùng', 'Gia Bảo', 5.0], ['Nguyễn Ngọc Hùng', 'Đỗ Duy Nam', 5.0], ['Nguyễn Ngọc Hùng', 'Hải Triều', 5.0], ['Nguyễn Ngọc Hùng', 'Tiểu Bảo Quốc', 5.0], ['Nguyễn Ngọc Hùng', 'Trung Dân', 5.0], ['Cao Thúy Nhi', 'Phương Anh Đào', 8.7], ['Cao Thúy Nhi', 'Noriki Takimoto', 8.7], ['Cao Thúy Nhi', 'Norihiko Takimoto', 8.7], ['Cao Thúy Nhi', 'chú chó Hana', 8.7], ['Cao Thúy Nhi', 'Ben Phạm', 8.7], ['Cao Thúy Nhi', 'Sayaka Mitsuta', 8.7], ['Cao Thúy Nhi', 'Mizuki Miyauchi', 8.7], ['Cao Thúy Nhi', 'Akira Hatsusegawa', 8.7], ['Cao Thúy Nhi', 'Diễm Thi', 8.7], ['Cao Thúy Nhi', 'Khánh Ngân', 8.7], ['Cao Thúy Nhi', 'Takafumi Akutsu', 8.7], ['Cao Thúy Nhi', 'NSUT Công Ninh', 8.7], ['Kawaii Nguyễn Tuấn Anh', 'Mai Tài Phến', 6.8], ['Kawaii Nguyễn Tuấn Anh', 'Lê Thùy LInh', 6.8], ['Kawaii Nguyễn Tuấn Anh', 'Phương Anh Đào', 6.8], ['Kawaii Nguyễn Tuấn Anh', 'Tiến Vũ', 6.8], ['Kawaii Nguyễn Tuấn Anh', 'Misoa', 6.8], ['Kawaii Nguyễn Tuấn Anh', 'Trang Hý', 6.8], ['Kawaii Nguyễn Tuấn Anh', 'Đan Trường', 6.8], ['Kawaii Nguyễn Tuấn Anh', 'Việt Hương', 6.8], ['Kawaii Nguyễn Tuấn Anh', 'Hương Tràm', 6.8], ['Kawaii Nguyễn Tuấn Anh', 'NSUT Công Ninh', 6.8], ['Kawaii Nguyễn Tuấn Anh', 'Trung Dân', 6.8], ['Hứa Vĩ Văn', 'Hứa Vĩ Văn', 8.3], ['Hứa Vĩ Văn', 'Diễm My 9x', 8.3], ['Hứa Vĩ Văn', 'Kinh Quốc', 8.3], ['Hứa Vĩ Văn', 'Nguyễn Chánh Tín', 8.3], ['Hứa Vĩ Văn', 'Thương Tín', 8.3], ['Hứa Vĩ Văn', 'NSUT Công Ninh', 8.3], ['Hứa Vĩ Văn', 'Quang Sự', 8.3], ['Vĩnh Thuyên', 'Minh Luân', 2.5], ['Vĩnh Thuyên', 'Vĩnh Thuyên Kim', 2.5], ['Vĩnh Thuyên', 'Hứa Minh Đạt', 2.5], ['Vĩnh Thuyên', 'Mạc Văn Khoa', 2.5], ['Vĩnh Thuyên', 'Lâm Vỹ Dạ', 2.5], ['Duy Joseph', 'Wean Lê', 3.6], ['Duy Joseph', 'Lê Hạ Anh', 3.6], ['Duy Joseph', 'Nhan Phúc Vinh', 3.6], ['Duy Joseph', 'Ngọc Thanh Tâm', 3.6], ['Duy Joseph', 'Quỳnh Chi', 3.6], ['Duy Joseph', 'Gin Tuấn Kiệt', 3.6], ['Duy Joseph', 'Tùng Min', 3.6], ['Lương Trung Tín', 'ST 365', 7.3], ['Lương Trung Tín', 'Jang Mi', 7.3], ['Lương Trung Tín', 'POM', 7.3], ['Lương Trung Tín', 'Tiểu Bảo Quốc', 7.3], ['Leon Quang Lê', 'Isaac', 10.0], ['Leon Quang Lê', 'Liên Bỉnh Phát', 10.0], ['Leon Quang Lê', 'Tú Quyên', 10.0], ['Leon Quang Lê', 'Thanh Tú', 10.0], ['Leon Quang Lê', 'Kiều Trinh', 10.0], ['Charlie Nguyễn', 'Thái Hoà', 9.5], ['Charlie Nguyễn', 'Phương Anh Đào', 9.5], ['Charlie Nguyễn', 'Thanh Trúc', 9.5], ['Charlie Nguyễn', 'Hứa Vĩ Văn', 9.5], ['Charlie Nguyễn', 'Vân Trang', 9.5], ['Charlie Nguyễn', 'Hồng Hạnh', 9.5], ['Charlie Nguyễn', 'Diễm My', 9.5], ['Charlie Nguyễn', 'Trung Dũng', 9.5], ['Thắng Vũ', 'Isaac', 9.2], ['Thắng Vũ', 'Phan Ngân', 9.2], ['Thắng Vũ', 'Suni Hạ Linh', 9.2], ['Thắng Vũ', 'Chí Tài', 9.2], ['Thắng Vũ', 'Phi Phụng', 9.2], ['Thắng Vũ', 'Hoàng Phi', 9.2], ['Thắng Vũ', 'Puka', 9.2], ['Võ Thanh Hòa', 'Nabi Nhã Phương', 9.3], ['Võ Thanh Hòa', 'bé Kim Thư', 9.3], ['Võ Thanh Hòa', 'La Thành', 9.3], ['Võ Thanh Hòa', 'Việt Hương', 9.3], ['Võ Thanh Hòa', 'Ngô Kiến Huy', 9.3], ['Võ Thanh Hòa', 'Trấn Thành', 9.3], ['Võ Thanh Hòa', 'Mai Bảo Ngọc', 9.3], ['Võ Thanh Hòa', 'Huỳnh Lập', 9.3], ['Võ Thanh Hòa', 'Hứa Minh Đạt', 9.3], ['Võ Thanh Hòa', 'Khả Như', 9.3], ['Nguyễn Thành Vinh', 'Thúy Vân', 9.1], ['Nguyễn Thành Vinh', 'Đình Quân', 9.1], ['Nguyễn Thành Vinh', 'Nguyễn Anh Tú', 9.1], ['Nguyễn Thành Vinh', 'NSUT Thanh Hằng', 9.1], ['Nguyễn Thành Vinh', 'Đàm Phương Linh', 9.1], ['Nguyễn Thành Vinh', 'NSND Ngọc Giàu', 9.1], ['Nguyễn Thành Vinh', 'NSUT Thoại Mỹ', 9.1], ['Nguyễn Thành Vinh', 'NSƯT Thanh Nam', 9.1], ['Nguyễn Thành Vinh', 'Cẩm Hà', 9.1], ['Nguyễn Thành Vinh', 'Lâm Thắng', 9.1], ['Nguyễn Thành Vinh', 'Hồng Thanh', 9.1], ['Nguyễn Thành Vinh', 'Phát La', 9.1], ['Nguyễn Thành Vinh', 'Hamiza', 9.1], ['Nguyễn Thành Vinh', 'Long Đẹp Trai', 9.1], ['Nguyễn Thành Vinh', 'Sỹ Toàn', 9.1], ['Đinh Tuấn Vũ', 'An Nguy', 1.0], ['Đinh Tuấn Vũ', 'Kiều Minh Tuấn', 1.0], ['Đinh Tuấn Vũ', 'Hữu Khang', 1.0], ['Đinh Tuấn Vũ', 'Will 365', 1.0], ['Đinh Tuấn Vũ', 'Chu Diệp Anh', 1.0], ['Đinh Tuấn Vũ', 'Lilly Nguyễn', 1.0], ['Trần Nhân Kiên', 'Hoàng Yến Chibi', 7.7], ['Trần Nhân Kiên', 'Quang Đăng', 7.7], ['Trần Nhân Kiên', 'Trương Thanh Long', 7.7], ['Swann Dubus', 'Anh Phong le', '5'], ['Swann Dubus', 'Lê Quốc Phong', '5'], ['Nguyễn Hoàng Duy', 'Ngân Khánh', 6.7], ['Nguyễn Hoàng Duy', 'Song Luân', 6.7], ['Nguyễn Hoàng Duy', 'Sĩ Thanh', 6.7], ['Nguyễn Hoàng Duy', 'Quang Minh', 6.7], ['Nguyễn Hoàng Duy', 'Hồng Đào', 6.7], ['Nguyễn Hoàng Duy', 'Liên Bỉnh Phát', 6.7], ['Victor Vũ', 'Quách Ngọc Ngoan', 7.1], ['Victor Vũ', 'Ngọc Diệp', 7.1], ['Victor Vũ', 'Jun Vũ', 7.1], ['Victor Vũ', 'Thanh Tú', 7.1], ['Victor Vũ', 'Cường Seven', 7.1], ['Victor Vũ', 'Trương Thế Vinh', 7.1], ['Victor Vũ', 'Chiều Xuân', 7.1], ['Victor Vũ', 'Bùi Bài Bình', 7.1], ['Victor Vũ', 'Vũ Tuấn Việt', 7.1], ['Victor Vũ', 'Francois Negret', 7.1], ['Roland Nguyễn Nhân', 'Thanh Duy', 8.2], ['Roland Nguyễn Nhân', 'Thanh Tú', 8.2], ['Roland Nguyễn Nhân', 'Lý Bình', 8.2], ['Roland Nguyễn Nhân', 'Đàm Phương Linh', 8.2], ['Roland Nguyễn Nhân', 'Nguyễn Anh Tú', 8.2], ['Nguyễn Đức Minh', 'Thiên Nguyễn', '5'], ['Nguyễn Đức Minh', 'Long Nguyen', '5'], ['Cường Ngô', 'Đan Nguyên', '5'], ['Cường Ngô', 'Marcus Guilhem', '5'], ['Cường Ngô', 'Lilly Nguyễn', '5'], ['Cường Ngô', 'Lâm Vissay', '5'], ['Bảo Nhân', 'Ninh Dương Lan Ngọc', '5'], ['Bảo Nhân', 'Phương Lan', '5'], ['Bảo Nhân', 'Thùy Anh', '5'], ['Bảo Nhân', 'Thoại Tiên', '5'], ['Bảo Nhân', 'Diễm My', '5'], ['Bảo Nhân', 'Hứa Minh Đạt', '5'], ['Bảo Nhân', 'Lê Xuân Tiền', '5'], ['Ken Ochiai', 'Thái Hoà', '5'], ['Ken Ochiai', 'Kaity Nguyễn', '5'], ['Ken Ochiai', 'Vân Trang', '5'], ['Ken Ochiai', 'Trang Hý', '5'], ['Ken Ochiai', 'Huy Khánh', '5'], ['Ken Ochiai', 'NSUT Thành Lộc', '5'], ['Ken Ochiai', 'Hồng Vân', '5'], ['Ken Ochiai', 'Tuyền Mập', '5'], ['Ken Ochiai', 'Chí Tâm', '5'], ['Ken Ochiai', 'Kathy Uyên', '5'], ['Ken Ochiai', 'Trịnh Thảo', '5'], ['Ken Ochiai', 'Tùng Leo', '5'], ['Ken Ochiai', 'Chí Tài', '5'], ['Ken Ochiai', 'Lê Bình', '5'], ['Ken Ochiai', 'Gi A Nguyễn', '5'], ['Hàm Trần', 'Hoàng Yến Chibi', '5']]\n",
      "Success\n"
     ]
    }
   ],
   "source": [
    "print(rows)\n",
    "with open('data_train_2.csv','w', newline='',encoding=\"utf-8-sig\") as f_output:\n",
    "    csv_output = csv.writer(f_output)\n",
    "    csv_output.writerows(rows)\n",
    "print('Success')"
   ]
  },
  {
   "cell_type": "code",
   "execution_count": 24,
   "metadata": {},
   "outputs": [
    {
     "name": "stdout",
     "output_type": "stream",
     "text": [
      "INFO:tensorflow:Using default config.\n",
      "INFO:tensorflow:Using config: {'_model_dir': 'linear regressor', '_tf_random_seed': None, '_save_summary_steps': 100, '_save_checkpoints_steps': None, '_save_checkpoints_secs': 600, '_session_config': None, '_keep_checkpoint_max': 5, '_keep_checkpoint_every_n_hours': 10000, '_log_step_count_steps': 100, '_train_distribute': None, '_device_fn': None, '_service': None, '_cluster_spec': <tensorflow.python.training.server_lib.ClusterSpec object at 0x0000018BE56F74A8>, '_task_type': 'worker', '_task_id': 0, '_global_id_in_cluster': 0, '_master': '', '_evaluation_master': '', '_is_chief': True, '_num_ps_replicas': 0, '_num_worker_replicas': 1}\n"
     ]
    }
   ],
   "source": [
    "X_features = pd.read_csv('data_train_2.csv', usecols = ['Director','Star']) \n",
    "X_train = X_features\n",
    "# print(X_train)\n",
    "# print(y_train)\n",
    "use_feature_columns = ['Director','Star']\n",
    "features = [tf.feature_column.categorical_column_with_vocabulary_list(key = column, vocabulary_list = X_features[column].unique()) \n",
    "                        for column in use_feature_columns]\n",
    "linear_features = features\n",
    "linear_regressor = tf.estimator.LinearRegressor(feature_columns=linear_features,\n",
    "                                                model_dir = 'linear regressor')"
   ]
  },
  {
   "cell_type": "code",
   "execution_count": 49,
   "metadata": {},
   "outputs": [],
   "source": [
    "y_train = pd.read_csv('data_train_2.csv',usecols=['Imdb'])\n",
    "# X_features = pd.read_csv('data_train_2.csv', usecols = ['Director','Star'])\n",
    "# y_train = y_train[\"Imdb\"].tolist()\n",
    "# y_train = np.asarray(y_train)\n",
    "# y_train = y_train.reshape(-1,1)\n",
    "\n",
    "# director = X_train[\"Director\"].tolist()\n",
    "# director = np.asarray(director)\n",
    "# director = director.reshape(-1,1)\n",
    "# star = X_train[\"Star\"].tolist()\n",
    "# star = np.asarray(star)\n",
    "# star = star.reshape(-1,1)\n",
    "\n",
    "# x_train = np.concatenate((director, star), axis=1)"
   ]
  },
  {
   "cell_type": "code",
   "execution_count": 50,
   "metadata": {},
   "outputs": [],
   "source": [
    "training_input = tf.estimator.inputs.pandas_input_fn(x = X_train,\n",
    "                                                        y=y_train,\n",
    "                                                        batch_size=32,\n",
    "                                                        shuffle= True,\n",
    "                                                        num_epochs = None)"
   ]
  },
  {
   "cell_type": "code",
   "execution_count": 51,
   "metadata": {},
   "outputs": [
    {
     "name": "stdout",
     "output_type": "stream",
     "text": [
      "INFO:tensorflow:Calling model_fn.\n"
     ]
    },
    {
     "ename": "TypeError",
     "evalue": "Failed to convert object of type <class 'dict'> to Tensor. Contents: {'Imdb': <tf.Tensor 'random_shuffle_queue_DequeueMany:3' shape=(32,) dtype=float64>}. Consider casting elements to a supported type.",
     "output_type": "error",
     "traceback": [
      "\u001b[1;31m---------------------------------------------------------------------------\u001b[0m",
      "\u001b[1;31mTypeError\u001b[0m                                 Traceback (most recent call last)",
      "\u001b[1;32m~\\Anaconda3\\lib\\site-packages\\tensorflow\\python\\framework\\tensor_util.py\u001b[0m in \u001b[0;36mmake_tensor_proto\u001b[1;34m(values, dtype, shape, verify_shape)\u001b[0m\n\u001b[0;32m    520\u001b[0m     \u001b[1;32mtry\u001b[0m\u001b[1;33m:\u001b[0m\u001b[1;33m\u001b[0m\u001b[0m\n\u001b[1;32m--> 521\u001b[1;33m       \u001b[0mstr_values\u001b[0m \u001b[1;33m=\u001b[0m \u001b[1;33m[\u001b[0m\u001b[0mcompat\u001b[0m\u001b[1;33m.\u001b[0m\u001b[0mas_bytes\u001b[0m\u001b[1;33m(\u001b[0m\u001b[0mx\u001b[0m\u001b[1;33m)\u001b[0m \u001b[1;32mfor\u001b[0m \u001b[0mx\u001b[0m \u001b[1;32min\u001b[0m \u001b[0mproto_values\u001b[0m\u001b[1;33m]\u001b[0m\u001b[1;33m\u001b[0m\u001b[0m\n\u001b[0m\u001b[0;32m    522\u001b[0m     \u001b[1;32mexcept\u001b[0m \u001b[0mTypeError\u001b[0m\u001b[1;33m:\u001b[0m\u001b[1;33m\u001b[0m\u001b[0m\n",
      "\u001b[1;32m~\\Anaconda3\\lib\\site-packages\\tensorflow\\python\\framework\\tensor_util.py\u001b[0m in \u001b[0;36m<listcomp>\u001b[1;34m(.0)\u001b[0m\n\u001b[0;32m    520\u001b[0m     \u001b[1;32mtry\u001b[0m\u001b[1;33m:\u001b[0m\u001b[1;33m\u001b[0m\u001b[0m\n\u001b[1;32m--> 521\u001b[1;33m       \u001b[0mstr_values\u001b[0m \u001b[1;33m=\u001b[0m \u001b[1;33m[\u001b[0m\u001b[0mcompat\u001b[0m\u001b[1;33m.\u001b[0m\u001b[0mas_bytes\u001b[0m\u001b[1;33m(\u001b[0m\u001b[0mx\u001b[0m\u001b[1;33m)\u001b[0m \u001b[1;32mfor\u001b[0m \u001b[0mx\u001b[0m \u001b[1;32min\u001b[0m \u001b[0mproto_values\u001b[0m\u001b[1;33m]\u001b[0m\u001b[1;33m\u001b[0m\u001b[0m\n\u001b[0m\u001b[0;32m    522\u001b[0m     \u001b[1;32mexcept\u001b[0m \u001b[0mTypeError\u001b[0m\u001b[1;33m:\u001b[0m\u001b[1;33m\u001b[0m\u001b[0m\n",
      "\u001b[1;32m~\\Anaconda3\\lib\\site-packages\\tensorflow\\python\\util\\compat.py\u001b[0m in \u001b[0;36mas_bytes\u001b[1;34m(bytes_or_text, encoding)\u001b[0m\n\u001b[0;32m     60\u001b[0m     raise TypeError('Expected binary or unicode string, got %r' %\n\u001b[1;32m---> 61\u001b[1;33m                     (bytes_or_text,))\n\u001b[0m\u001b[0;32m     62\u001b[0m \u001b[1;33m\u001b[0m\u001b[0m\n",
      "\u001b[1;31mTypeError\u001b[0m: Expected binary or unicode string, got {'Imdb': <tf.Tensor 'random_shuffle_queue_DequeueMany:3' shape=(32,) dtype=float64>}",
      "\nDuring handling of the above exception, another exception occurred:\n",
      "\u001b[1;31mTypeError\u001b[0m                                 Traceback (most recent call last)",
      "\u001b[1;32m<ipython-input-51-c36a04e3cd13>\u001b[0m in \u001b[0;36m<module>\u001b[1;34m()\u001b[0m\n\u001b[1;32m----> 1\u001b[1;33m \u001b[0mlinear_regressor\u001b[0m\u001b[1;33m.\u001b[0m\u001b[0mtrain\u001b[0m\u001b[1;33m(\u001b[0m\u001b[0minput_fn\u001b[0m \u001b[1;33m=\u001b[0m \u001b[0mtraining_input\u001b[0m\u001b[1;33m,\u001b[0m\u001b[0msteps\u001b[0m\u001b[1;33m=\u001b[0m\u001b[1;36m2000\u001b[0m\u001b[1;33m)\u001b[0m\u001b[1;33m\u001b[0m\u001b[0m\n\u001b[0m",
      "\u001b[1;32m~\\Anaconda3\\lib\\site-packages\\tensorflow\\python\\estimator\\estimator.py\u001b[0m in \u001b[0;36mtrain\u001b[1;34m(self, input_fn, hooks, steps, max_steps, saving_listeners)\u001b[0m\n\u001b[0;32m    374\u001b[0m \u001b[1;33m\u001b[0m\u001b[0m\n\u001b[0;32m    375\u001b[0m       \u001b[0msaving_listeners\u001b[0m \u001b[1;33m=\u001b[0m \u001b[0m_check_listeners_type\u001b[0m\u001b[1;33m(\u001b[0m\u001b[0msaving_listeners\u001b[0m\u001b[1;33m)\u001b[0m\u001b[1;33m\u001b[0m\u001b[0m\n\u001b[1;32m--> 376\u001b[1;33m       \u001b[0mloss\u001b[0m \u001b[1;33m=\u001b[0m \u001b[0mself\u001b[0m\u001b[1;33m.\u001b[0m\u001b[0m_train_model\u001b[0m\u001b[1;33m(\u001b[0m\u001b[0minput_fn\u001b[0m\u001b[1;33m,\u001b[0m \u001b[0mhooks\u001b[0m\u001b[1;33m,\u001b[0m \u001b[0msaving_listeners\u001b[0m\u001b[1;33m)\u001b[0m\u001b[1;33m\u001b[0m\u001b[0m\n\u001b[0m\u001b[0;32m    377\u001b[0m       \u001b[0mlogging\u001b[0m\u001b[1;33m.\u001b[0m\u001b[0minfo\u001b[0m\u001b[1;33m(\u001b[0m\u001b[1;34m'Loss for final step: %s.'\u001b[0m\u001b[1;33m,\u001b[0m \u001b[0mloss\u001b[0m\u001b[1;33m)\u001b[0m\u001b[1;33m\u001b[0m\u001b[0m\n\u001b[0;32m    378\u001b[0m       \u001b[1;32mreturn\u001b[0m \u001b[0mself\u001b[0m\u001b[1;33m\u001b[0m\u001b[0m\n",
      "\u001b[1;32m~\\Anaconda3\\lib\\site-packages\\tensorflow\\python\\estimator\\estimator.py\u001b[0m in \u001b[0;36m_train_model\u001b[1;34m(self, input_fn, hooks, saving_listeners)\u001b[0m\n\u001b[0;32m   1143\u001b[0m       \u001b[1;32mreturn\u001b[0m \u001b[0mself\u001b[0m\u001b[1;33m.\u001b[0m\u001b[0m_train_model_distributed\u001b[0m\u001b[1;33m(\u001b[0m\u001b[0minput_fn\u001b[0m\u001b[1;33m,\u001b[0m \u001b[0mhooks\u001b[0m\u001b[1;33m,\u001b[0m \u001b[0msaving_listeners\u001b[0m\u001b[1;33m)\u001b[0m\u001b[1;33m\u001b[0m\u001b[0m\n\u001b[0;32m   1144\u001b[0m     \u001b[1;32melse\u001b[0m\u001b[1;33m:\u001b[0m\u001b[1;33m\u001b[0m\u001b[0m\n\u001b[1;32m-> 1145\u001b[1;33m       \u001b[1;32mreturn\u001b[0m \u001b[0mself\u001b[0m\u001b[1;33m.\u001b[0m\u001b[0m_train_model_default\u001b[0m\u001b[1;33m(\u001b[0m\u001b[0minput_fn\u001b[0m\u001b[1;33m,\u001b[0m \u001b[0mhooks\u001b[0m\u001b[1;33m,\u001b[0m \u001b[0msaving_listeners\u001b[0m\u001b[1;33m)\u001b[0m\u001b[1;33m\u001b[0m\u001b[0m\n\u001b[0m\u001b[0;32m   1146\u001b[0m \u001b[1;33m\u001b[0m\u001b[0m\n\u001b[0;32m   1147\u001b[0m   \u001b[1;32mdef\u001b[0m \u001b[0m_train_model_default\u001b[0m\u001b[1;33m(\u001b[0m\u001b[0mself\u001b[0m\u001b[1;33m,\u001b[0m \u001b[0minput_fn\u001b[0m\u001b[1;33m,\u001b[0m \u001b[0mhooks\u001b[0m\u001b[1;33m,\u001b[0m \u001b[0msaving_listeners\u001b[0m\u001b[1;33m)\u001b[0m\u001b[1;33m:\u001b[0m\u001b[1;33m\u001b[0m\u001b[0m\n",
      "\u001b[1;32m~\\Anaconda3\\lib\\site-packages\\tensorflow\\python\\estimator\\estimator.py\u001b[0m in \u001b[0;36m_train_model_default\u001b[1;34m(self, input_fn, hooks, saving_listeners)\u001b[0m\n\u001b[0;32m   1168\u001b[0m       \u001b[0mworker_hooks\u001b[0m\u001b[1;33m.\u001b[0m\u001b[0mextend\u001b[0m\u001b[1;33m(\u001b[0m\u001b[0minput_hooks\u001b[0m\u001b[1;33m)\u001b[0m\u001b[1;33m\u001b[0m\u001b[0m\n\u001b[0;32m   1169\u001b[0m       estimator_spec = self._call_model_fn(\n\u001b[1;32m-> 1170\u001b[1;33m           features, labels, model_fn_lib.ModeKeys.TRAIN, self.config)\n\u001b[0m\u001b[0;32m   1171\u001b[0m       return self._train_with_estimator_spec(estimator_spec, worker_hooks,\n\u001b[0;32m   1172\u001b[0m                                              \u001b[0mhooks\u001b[0m\u001b[1;33m,\u001b[0m \u001b[0mglobal_step_tensor\u001b[0m\u001b[1;33m,\u001b[0m\u001b[1;33m\u001b[0m\u001b[0m\n",
      "\u001b[1;32m~\\Anaconda3\\lib\\site-packages\\tensorflow\\python\\estimator\\estimator.py\u001b[0m in \u001b[0;36m_call_model_fn\u001b[1;34m(self, features, labels, mode, config)\u001b[0m\n\u001b[0;32m   1131\u001b[0m \u001b[1;33m\u001b[0m\u001b[0m\n\u001b[0;32m   1132\u001b[0m     \u001b[0mlogging\u001b[0m\u001b[1;33m.\u001b[0m\u001b[0minfo\u001b[0m\u001b[1;33m(\u001b[0m\u001b[1;34m'Calling model_fn.'\u001b[0m\u001b[1;33m)\u001b[0m\u001b[1;33m\u001b[0m\u001b[0m\n\u001b[1;32m-> 1133\u001b[1;33m     \u001b[0mmodel_fn_results\u001b[0m \u001b[1;33m=\u001b[0m \u001b[0mself\u001b[0m\u001b[1;33m.\u001b[0m\u001b[0m_model_fn\u001b[0m\u001b[1;33m(\u001b[0m\u001b[0mfeatures\u001b[0m\u001b[1;33m=\u001b[0m\u001b[0mfeatures\u001b[0m\u001b[1;33m,\u001b[0m \u001b[1;33m**\u001b[0m\u001b[0mkwargs\u001b[0m\u001b[1;33m)\u001b[0m\u001b[1;33m\u001b[0m\u001b[0m\n\u001b[0m\u001b[0;32m   1134\u001b[0m     \u001b[0mlogging\u001b[0m\u001b[1;33m.\u001b[0m\u001b[0minfo\u001b[0m\u001b[1;33m(\u001b[0m\u001b[1;34m'Done calling model_fn.'\u001b[0m\u001b[1;33m)\u001b[0m\u001b[1;33m\u001b[0m\u001b[0m\n\u001b[0;32m   1135\u001b[0m \u001b[1;33m\u001b[0m\u001b[0m\n",
      "\u001b[1;32m~\\Anaconda3\\lib\\site-packages\\tensorflow\\python\\estimator\\canned\\linear.py\u001b[0m in \u001b[0;36m_model_fn\u001b[1;34m(features, labels, mode, config)\u001b[0m\n\u001b[0;32m    490\u001b[0m           \u001b[0mpartitioner\u001b[0m\u001b[1;33m=\u001b[0m\u001b[0mpartitioner\u001b[0m\u001b[1;33m,\u001b[0m\u001b[1;33m\u001b[0m\u001b[0m\n\u001b[0;32m    491\u001b[0m           \u001b[0mconfig\u001b[0m\u001b[1;33m=\u001b[0m\u001b[0mconfig\u001b[0m\u001b[1;33m,\u001b[0m\u001b[1;33m\u001b[0m\u001b[0m\n\u001b[1;32m--> 492\u001b[1;33m           sparse_combiner=sparse_combiner)\n\u001b[0m\u001b[0;32m    493\u001b[0m \u001b[1;33m\u001b[0m\u001b[0m\n\u001b[0;32m    494\u001b[0m     super(LinearRegressor, self).__init__(\n",
      "\u001b[1;32m~\\Anaconda3\\lib\\site-packages\\tensorflow\\python\\estimator\\canned\\linear.py\u001b[0m in \u001b[0;36m_linear_model_fn\u001b[1;34m(features, labels, mode, head, feature_columns, optimizer, partitioner, config, sparse_combiner)\u001b[0m\n\u001b[0;32m    168\u001b[0m         \u001b[0mlabels\u001b[0m\u001b[1;33m=\u001b[0m\u001b[0mlabels\u001b[0m\u001b[1;33m,\u001b[0m\u001b[1;33m\u001b[0m\u001b[0m\n\u001b[0;32m    169\u001b[0m         \u001b[0moptimizer\u001b[0m\u001b[1;33m=\u001b[0m\u001b[0moptimizer\u001b[0m\u001b[1;33m,\u001b[0m\u001b[1;33m\u001b[0m\u001b[0m\n\u001b[1;32m--> 170\u001b[1;33m         logits=logits)\n\u001b[0m\u001b[0;32m    171\u001b[0m \u001b[1;33m\u001b[0m\u001b[0m\n\u001b[0;32m    172\u001b[0m \u001b[1;33m\u001b[0m\u001b[0m\n",
      "\u001b[1;32m~\\Anaconda3\\lib\\site-packages\\tensorflow\\python\\estimator\\canned\\head.py\u001b[0m in \u001b[0;36mcreate_estimator_spec\u001b[1;34m(self, features, mode, logits, labels, optimizer, train_op_fn, regularization_losses)\u001b[0m\n\u001b[0;32m    237\u001b[0m           self._create_tpu_estimator_spec(\n\u001b[0;32m    238\u001b[0m               \u001b[0mfeatures\u001b[0m\u001b[1;33m,\u001b[0m \u001b[0mmode\u001b[0m\u001b[1;33m,\u001b[0m \u001b[0mlogits\u001b[0m\u001b[1;33m,\u001b[0m \u001b[0mlabels\u001b[0m\u001b[1;33m,\u001b[0m \u001b[0moptimizer\u001b[0m\u001b[1;33m,\u001b[0m \u001b[0mtrain_op_fn\u001b[0m\u001b[1;33m,\u001b[0m\u001b[1;33m\u001b[0m\u001b[0m\n\u001b[1;32m--> 239\u001b[1;33m               regularization_losses))\n\u001b[0m\u001b[0;32m    240\u001b[0m       \u001b[1;32mreturn\u001b[0m \u001b[0mtpu_estimator_spec\u001b[0m\u001b[1;33m.\u001b[0m\u001b[0mas_estimator_spec\u001b[0m\u001b[1;33m(\u001b[0m\u001b[1;33m)\u001b[0m\u001b[1;33m\u001b[0m\u001b[0m\n\u001b[0;32m    241\u001b[0m     \u001b[1;32mexcept\u001b[0m \u001b[0mNotImplementedError\u001b[0m\u001b[1;33m:\u001b[0m\u001b[1;33m\u001b[0m\u001b[0m\n",
      "\u001b[1;32m~\\Anaconda3\\lib\\site-packages\\tensorflow\\python\\estimator\\canned\\head.py\u001b[0m in \u001b[0;36m_create_tpu_estimator_spec\u001b[1;34m(self, features, mode, logits, labels, optimizer, train_op_fn, regularization_losses)\u001b[0m\n\u001b[0;32m   1480\u001b[0m \u001b[1;33m\u001b[0m\u001b[0m\n\u001b[0;32m   1481\u001b[0m       training_loss, unreduced_loss, weights, _ = self.create_loss(\n\u001b[1;32m-> 1482\u001b[1;33m           features=features, mode=mode, logits=logits, labels=labels)\n\u001b[0m\u001b[0;32m   1483\u001b[0m       \u001b[1;32mif\u001b[0m \u001b[0mregularization_losses\u001b[0m\u001b[1;33m:\u001b[0m\u001b[1;33m\u001b[0m\u001b[0m\n\u001b[0;32m   1484\u001b[0m         \u001b[0mregularization_loss\u001b[0m \u001b[1;33m=\u001b[0m \u001b[0mmath_ops\u001b[0m\u001b[1;33m.\u001b[0m\u001b[0madd_n\u001b[0m\u001b[1;33m(\u001b[0m\u001b[0mregularization_losses\u001b[0m\u001b[1;33m)\u001b[0m\u001b[1;33m\u001b[0m\u001b[0m\n",
      "\u001b[1;32m~\\Anaconda3\\lib\\site-packages\\tensorflow\\python\\estimator\\canned\\head.py\u001b[0m in \u001b[0;36mcreate_loss\u001b[1;34m(***failed resolving arguments***)\u001b[0m\n\u001b[0;32m   1379\u001b[0m     labels = _check_dense_labels_match_logits_and_reshape(\n\u001b[0;32m   1380\u001b[0m         \u001b[0mlabels\u001b[0m\u001b[1;33m=\u001b[0m\u001b[0mlabels\u001b[0m\u001b[1;33m,\u001b[0m \u001b[0mlogits\u001b[0m\u001b[1;33m=\u001b[0m\u001b[0mlogits\u001b[0m\u001b[1;33m,\u001b[0m\u001b[1;33m\u001b[0m\u001b[0m\n\u001b[1;32m-> 1381\u001b[1;33m         expected_labels_dimension=self._logits_dimension)\n\u001b[0m\u001b[0;32m   1382\u001b[0m     \u001b[0mlabels\u001b[0m \u001b[1;33m=\u001b[0m \u001b[0mmath_ops\u001b[0m\u001b[1;33m.\u001b[0m\u001b[0mto_float\u001b[0m\u001b[1;33m(\u001b[0m\u001b[0mlabels\u001b[0m\u001b[1;33m)\u001b[0m\u001b[1;33m\u001b[0m\u001b[0m\n\u001b[0;32m   1383\u001b[0m     \u001b[1;32mif\u001b[0m \u001b[0mself\u001b[0m\u001b[1;33m.\u001b[0m\u001b[0m_loss_fn\u001b[0m\u001b[1;33m:\u001b[0m\u001b[1;33m\u001b[0m\u001b[0m\n",
      "\u001b[1;32m~\\Anaconda3\\lib\\site-packages\\tensorflow\\python\\estimator\\canned\\head.py\u001b[0m in \u001b[0;36m_check_dense_labels_match_logits_and_reshape\u001b[1;34m(labels, logits, expected_labels_dimension)\u001b[0m\n\u001b[0;32m    303\u001b[0m         'returns labels.')\n\u001b[0;32m    304\u001b[0m   \u001b[1;32mwith\u001b[0m \u001b[0mops\u001b[0m\u001b[1;33m.\u001b[0m\u001b[0mname_scope\u001b[0m\u001b[1;33m(\u001b[0m\u001b[1;32mNone\u001b[0m\u001b[1;33m,\u001b[0m \u001b[1;34m'labels'\u001b[0m\u001b[1;33m,\u001b[0m \u001b[1;33m(\u001b[0m\u001b[0mlabels\u001b[0m\u001b[1;33m,\u001b[0m \u001b[0mlogits\u001b[0m\u001b[1;33m)\u001b[0m\u001b[1;33m)\u001b[0m \u001b[1;32mas\u001b[0m \u001b[0mscope\u001b[0m\u001b[1;33m:\u001b[0m\u001b[1;33m\u001b[0m\u001b[0m\n\u001b[1;32m--> 305\u001b[1;33m     \u001b[0mlabels\u001b[0m \u001b[1;33m=\u001b[0m \u001b[0msparse_tensor\u001b[0m\u001b[1;33m.\u001b[0m\u001b[0mconvert_to_tensor_or_sparse_tensor\u001b[0m\u001b[1;33m(\u001b[0m\u001b[0mlabels\u001b[0m\u001b[1;33m)\u001b[0m\u001b[1;33m\u001b[0m\u001b[0m\n\u001b[0m\u001b[0;32m    306\u001b[0m     \u001b[1;32mif\u001b[0m \u001b[0misinstance\u001b[0m\u001b[1;33m(\u001b[0m\u001b[0mlabels\u001b[0m\u001b[1;33m,\u001b[0m \u001b[0msparse_tensor\u001b[0m\u001b[1;33m.\u001b[0m\u001b[0mSparseTensor\u001b[0m\u001b[1;33m)\u001b[0m\u001b[1;33m:\u001b[0m\u001b[1;33m\u001b[0m\u001b[0m\n\u001b[0;32m    307\u001b[0m       raise ValueError(\n",
      "\u001b[1;32m~\\Anaconda3\\lib\\site-packages\\tensorflow\\python\\framework\\sparse_tensor.py\u001b[0m in \u001b[0;36mconvert_to_tensor_or_sparse_tensor\u001b[1;34m(value, dtype, name)\u001b[0m\n\u001b[0;32m    258\u001b[0m     \u001b[1;32mreturn\u001b[0m \u001b[0mvalue\u001b[0m\u001b[1;33m\u001b[0m\u001b[0m\n\u001b[0;32m    259\u001b[0m   return ops.internal_convert_to_tensor(\n\u001b[1;32m--> 260\u001b[1;33m       value, dtype=dtype, name=name)\n\u001b[0m\u001b[0;32m    261\u001b[0m \u001b[1;33m\u001b[0m\u001b[0m\n\u001b[0;32m    262\u001b[0m \u001b[1;33m\u001b[0m\u001b[0m\n",
      "\u001b[1;32m~\\Anaconda3\\lib\\site-packages\\tensorflow\\python\\framework\\ops.py\u001b[0m in \u001b[0;36minternal_convert_to_tensor\u001b[1;34m(value, dtype, name, as_ref, preferred_dtype, ctx)\u001b[0m\n\u001b[0;32m   1092\u001b[0m \u001b[1;33m\u001b[0m\u001b[0m\n\u001b[0;32m   1093\u001b[0m     \u001b[1;32mif\u001b[0m \u001b[0mret\u001b[0m \u001b[1;32mis\u001b[0m \u001b[1;32mNone\u001b[0m\u001b[1;33m:\u001b[0m\u001b[1;33m\u001b[0m\u001b[0m\n\u001b[1;32m-> 1094\u001b[1;33m       \u001b[0mret\u001b[0m \u001b[1;33m=\u001b[0m \u001b[0mconversion_func\u001b[0m\u001b[1;33m(\u001b[0m\u001b[0mvalue\u001b[0m\u001b[1;33m,\u001b[0m \u001b[0mdtype\u001b[0m\u001b[1;33m=\u001b[0m\u001b[0mdtype\u001b[0m\u001b[1;33m,\u001b[0m \u001b[0mname\u001b[0m\u001b[1;33m=\u001b[0m\u001b[0mname\u001b[0m\u001b[1;33m,\u001b[0m \u001b[0mas_ref\u001b[0m\u001b[1;33m=\u001b[0m\u001b[0mas_ref\u001b[0m\u001b[1;33m)\u001b[0m\u001b[1;33m\u001b[0m\u001b[0m\n\u001b[0m\u001b[0;32m   1095\u001b[0m \u001b[1;33m\u001b[0m\u001b[0m\n\u001b[0;32m   1096\u001b[0m     \u001b[1;32mif\u001b[0m \u001b[0mret\u001b[0m \u001b[1;32mis\u001b[0m \u001b[0mNotImplemented\u001b[0m\u001b[1;33m:\u001b[0m\u001b[1;33m\u001b[0m\u001b[0m\n",
      "\u001b[1;32m~\\Anaconda3\\lib\\site-packages\\tensorflow\\python\\framework\\constant_op.py\u001b[0m in \u001b[0;36m_constant_tensor_conversion_function\u001b[1;34m(v, dtype, name, as_ref)\u001b[0m\n\u001b[0;32m    215\u001b[0m                                          as_ref=False):\n\u001b[0;32m    216\u001b[0m   \u001b[0m_\u001b[0m \u001b[1;33m=\u001b[0m \u001b[0mas_ref\u001b[0m\u001b[1;33m\u001b[0m\u001b[0m\n\u001b[1;32m--> 217\u001b[1;33m   \u001b[1;32mreturn\u001b[0m \u001b[0mconstant\u001b[0m\u001b[1;33m(\u001b[0m\u001b[0mv\u001b[0m\u001b[1;33m,\u001b[0m \u001b[0mdtype\u001b[0m\u001b[1;33m=\u001b[0m\u001b[0mdtype\u001b[0m\u001b[1;33m,\u001b[0m \u001b[0mname\u001b[0m\u001b[1;33m=\u001b[0m\u001b[0mname\u001b[0m\u001b[1;33m)\u001b[0m\u001b[1;33m\u001b[0m\u001b[0m\n\u001b[0m\u001b[0;32m    218\u001b[0m \u001b[1;33m\u001b[0m\u001b[0m\n\u001b[0;32m    219\u001b[0m \u001b[1;33m\u001b[0m\u001b[0m\n",
      "\u001b[1;32m~\\Anaconda3\\lib\\site-packages\\tensorflow\\python\\framework\\constant_op.py\u001b[0m in \u001b[0;36mconstant\u001b[1;34m(value, dtype, shape, name, verify_shape)\u001b[0m\n\u001b[0;32m    194\u001b[0m   tensor_value.tensor.CopyFrom(\n\u001b[0;32m    195\u001b[0m       tensor_util.make_tensor_proto(\n\u001b[1;32m--> 196\u001b[1;33m           value, dtype=dtype, shape=shape, verify_shape=verify_shape))\n\u001b[0m\u001b[0;32m    197\u001b[0m   \u001b[0mdtype_value\u001b[0m \u001b[1;33m=\u001b[0m \u001b[0mattr_value_pb2\u001b[0m\u001b[1;33m.\u001b[0m\u001b[0mAttrValue\u001b[0m\u001b[1;33m(\u001b[0m\u001b[0mtype\u001b[0m\u001b[1;33m=\u001b[0m\u001b[0mtensor_value\u001b[0m\u001b[1;33m.\u001b[0m\u001b[0mtensor\u001b[0m\u001b[1;33m.\u001b[0m\u001b[0mdtype\u001b[0m\u001b[1;33m)\u001b[0m\u001b[1;33m\u001b[0m\u001b[0m\n\u001b[0;32m    198\u001b[0m   const_tensor = g.create_op(\n",
      "\u001b[1;32m~\\Anaconda3\\lib\\site-packages\\tensorflow\\python\\framework\\tensor_util.py\u001b[0m in \u001b[0;36mmake_tensor_proto\u001b[1;34m(values, dtype, shape, verify_shape)\u001b[0m\n\u001b[0;32m    523\u001b[0m       raise TypeError(\"Failed to convert object of type %s to Tensor. \"\n\u001b[0;32m    524\u001b[0m                       \u001b[1;34m\"Contents: %s. Consider casting elements to a \"\u001b[0m\u001b[1;33m\u001b[0m\u001b[0m\n\u001b[1;32m--> 525\u001b[1;33m                       \"supported type.\" % (type(values), values))\n\u001b[0m\u001b[0;32m    526\u001b[0m     \u001b[0mtensor_proto\u001b[0m\u001b[1;33m.\u001b[0m\u001b[0mstring_val\u001b[0m\u001b[1;33m.\u001b[0m\u001b[0mextend\u001b[0m\u001b[1;33m(\u001b[0m\u001b[0mstr_values\u001b[0m\u001b[1;33m)\u001b[0m\u001b[1;33m\u001b[0m\u001b[0m\n\u001b[0;32m    527\u001b[0m     \u001b[1;32mreturn\u001b[0m \u001b[0mtensor_proto\u001b[0m\u001b[1;33m\u001b[0m\u001b[0m\n",
      "\u001b[1;31mTypeError\u001b[0m: Failed to convert object of type <class 'dict'> to Tensor. Contents: {'Imdb': <tf.Tensor 'random_shuffle_queue_DequeueMany:3' shape=(32,) dtype=float64>}. Consider casting elements to a supported type."
     ]
    }
   ],
   "source": [
    "linear_regressor.train(input_fn = training_input,steps=2000)"
   ]
  },
  {
   "cell_type": "code",
   "execution_count": 61,
   "metadata": {},
   "outputs": [
    {
     "name": "stdout",
     "output_type": "stream",
     "text": [
      "72\n"
     ]
    }
   ],
   "source": [
    "url = \"https://moveek.com/phim-viet-nam-2019/\" \n",
    "soup = readUrl(url) \n",
    "results = soup.findAll('div','panel panel-post panel-movie-grid') \n",
    "print(len(results))"
   ]
  },
  {
   "cell_type": "code",
   "execution_count": 62,
   "metadata": {
    "scrolled": true
   },
   "outputs": [
    {
     "name": "stdout",
     "output_type": "stream",
     "text": [
      "https://moveek.com/phim/thanh-pho-ngu-gat/\n",
      "Thành Phố Ngủ Gật\n",
      "https://moveek.com/phim/3d-cung-tam-ke/\n",
      "3D Cung Tâm Kế\n",
      "https://moveek.com/phim/tao-quay/\n",
      "Táo Quậy\n",
      "https://moveek.com/phim/vu-quy-dai-nao/\n",
      "Vu Quy Đại Náo\n",
      "https://moveek.com/phim/cua-lai-vo-bau/\n",
      "Cua Lại Vợ Bầu\n",
      "https://moveek.com/phim/trang-quynh/\n",
      "Trạng Quỳnh\n",
      "https://moveek.com/phim/hai-phuong/\n",
      "Hai Phượng\n",
      "https://moveek.com/phim/lat-mat-4/\n",
      "Lật Mặt 4\n",
      "https://moveek.com/phim/90-ngay-ha/\n",
      "90 Ngày Hạ\n",
      "https://moveek.com/phim/vu-khuc-thanh-xuan/\n",
      "Vũ Khúc Thanh Xuân\n",
      "https://moveek.com/phim/chi-muoi-ba/\n",
      "Chị Mười Ba\n",
      "https://moveek.com/phim/ngoi-nha-buom-buom/\n",
      "Ngôi Nhà Bươm Bướm\n",
      "https://moveek.com/phim/thien-than-nho-cua-toi/\n",
      "Thiên Thần Nhỏ Của Tôi\n",
      "https://moveek.com/phim/thien-duong/\n",
      "Thiên Đường\n",
      "https://moveek.com/phim/nguoi-lam-phao-hoa/\n",
      "Người Làm Pháo Hoa\n",
      "https://moveek.com/phim/muc-tieu-chet/\n",
      "Mục Tiêu Chết\n",
      "https://moveek.com/phim/nhan-duyen-anh-mai-ben-em/\n",
      "Nhân Duyên: Anh Mãi Bên Em\n",
      "https://moveek.com/phim/ghen/\n",
      "Ghen\n",
      "https://moveek.com/phim/ngoi-khoc-tren-cay/\n",
      "Ngồi Khóc Trên Cây\n",
      "https://moveek.com/phim/moi-tinh-dau-cua-toi/\n",
      "Mối Tình Đầu Của Tôi\n",
      "https://moveek.com/phim/ba-dieu-uoc/\n",
      "Ba Điều Ước\n",
      "https://moveek.com/phim/gio-sao-day/\n",
      "Giờ Sao Đây\n",
      "https://moveek.com/phim/hanh-phuc-khong-danh-cho-tinh-nhan/\n",
      "Hạnh Phúc Không Dành Cho Tình Nhân\n",
      "https://moveek.com/phim/benh-vien-ma-2/\n",
      "Bệnh Viện Ma 2\n",
      "https://moveek.com/phim/mua-tu-dang-yeu-em/\n",
      "Mùa Tử Đằng Yêu Em\n",
      "https://moveek.com/phim/giac-mo-thu-7/\n",
      "Giấc Mơ Thứ 7\n",
      "https://moveek.com/phim/boi-sai-gon-nhieu-nang/\n",
      "Bởi Sài Gòn Nhiều Nắng\n",
      "https://moveek.com/phim/trang-ti/\n",
      "Trạng Tí\n",
      "https://moveek.com/phim/yolo/\n",
      "Yolo\n",
      "https://moveek.com/phim/su-mang-sinh-tu/\n",
      "Sứ Mạng Sinh Tử\n",
      "https://moveek.com/phim/a-xe-om-va-ga-dung-duong/\n",
      "Ả Xe Ôm và Gã Đứng Đường\n",
      "https://moveek.com/phim/thich-la-nhich/\n",
      "Thích Là Nhích\n",
      "https://moveek.com/phim/da-khuc/\n",
      "Dạ Khúc\n",
      "https://moveek.com/phim/yeu-anh-nhe-chang-trai/\n",
      "Yêu Anh Nhé! Chàng Trai\n",
      "https://moveek.com/phim/nguoi-phan-xu/\n",
      "Người Phán Xử\n",
      "https://moveek.com/phim/doi-thu/\n",
      "Đối Thủ\n",
      "https://moveek.com/phim/gameshow-tu-than/\n",
      "Gameshow Tử Thần\n",
      "https://moveek.com/phim/ngoc-oi-tuoi-17/\n",
      "Ngốc Ơi Tuổi 17\n",
      "https://moveek.com/phim/tro-choi-tu-than/\n",
      "Trò Chơi Tử Thần\n",
      "https://moveek.com/phim/son-than/\n",
      "Sơn Thần\n",
      "https://moveek.com/phim/nguoi-yeu-oi/\n",
      "Người Yêu Ơi\n",
      "https://moveek.com/phim/dong-pham-an-danh/\n",
      "Đồng Phạm Ẩn Danh\n",
      "https://moveek.com/phim/the-dreamer/\n",
      "The Dreamer\n",
      "https://moveek.com/phim/dat-rung-phuong-nam/\n",
      "Đất Rừng Phương Nam\n",
      "https://moveek.com/phim/nguoi-la-oi-yeu-mat-roi/\n",
      "Người Lạ Ơi, Yêu Mất Rồi!\n",
      "https://moveek.com/phim/son-tinh-thuy-tinh/\n",
      "Sơn Tinh - Thủy Tinh\n",
      "https://moveek.com/phim/binh-tinh-ma-yeu/\n",
      "Bình Tĩnh Mà Yêu\n",
      "https://moveek.com/phim/uoc-hen-mua-thu/\n",
      "Ước Hẹn Mùa Thu\n",
      "https://moveek.com/phim/578-movies/\n",
      "578 Movies\n",
      "https://moveek.com/phim/chuyen-xe-hanh-phuc/\n",
      "Chuyến Xe Hạnh Phúc\n",
      "https://moveek.com/phim/em-tren-18/\n",
      "Em Trên 18\n",
      "https://moveek.com/phim/em-dep-em-co-quyen/\n",
      "Em Đẹp Em Có Quyền\n",
      "https://moveek.com/phim/hen-yeu/\n",
      "Hẹn Yêu\n",
      "https://moveek.com/phim/mat-troi-con-o-dau/\n",
      "Mặt Trời, Con Ở Đâu\n",
      "https://moveek.com/phim/scandal-3/\n",
      "Scandal 3\n",
      "https://moveek.com/phim/50-first-dates-viet-nam/\n",
      "50 First Dates Việt Nam\n",
      "https://moveek.com/phim/sam-hoi/\n",
      "Sám Hối\n",
      "https://moveek.com/phim/thua-me-con-di/\n",
      "Thưa Mẹ Con Đi\n",
      "https://moveek.com/phim/yeu-em-anh-cham-vao-dau/\n",
      "Yêu Em Anh Chạm Vào Đâu\n",
      "https://moveek.com/phim/tuyet-voi-khi-o-ben-em/\n",
      "Tuyệt Vời Khi Ở Bên Em\n",
      "https://moveek.com/phim/mua-he-nam-ay/\n",
      "Mùa Hè Năm Ấy\n",
      "https://moveek.com/phim/cha-ma/\n",
      "Cha Ma\n",
      "https://moveek.com/phim/nguoi-vo-ba/\n",
      "Người Vợ Ba\n",
      "https://moveek.com/phim/ca-chon-anh-dung-di/\n",
      "Cà Chớn, Anh Đừng Đi\n",
      "https://moveek.com/phim/yeu-nham-dai-ca/\n",
      "Yêu Nhầm Đại Ca\n",
      "https://moveek.com/phim/thang-ngay-thanh-xuan-ay/\n",
      "Tháng Ngày Thanh Xuân Ấy\n",
      "https://moveek.com/phim/tim-han-vet-seo/\n",
      "Tim Hằn Vết Sẹo\n",
      "https://moveek.com/phim/thay-oi-em-co-bau/\n",
      "Thầy Ơi! Em Có Bầu\n",
      "https://moveek.com/phim/trai-tim-quai-vat/\n",
      "Trái Tim Quái Vật\n",
      "https://moveek.com/phim/my-nhan-than-sach/\n",
      "Mỹ Nhân Thần Sách\n",
      "https://moveek.com/phim/ra-gieng-anh-cuoi-em/\n",
      "Ra Giêng Anh Cưới Em\n",
      "https://moveek.com/phim/bong-hong-lua/\n",
      "Bông Hồng Lửa\n"
     ]
    }
   ],
   "source": [
    "rows2 = [];\n",
    "rows2.append(['Film','Director','Star'])\n",
    "for result in results:\n",
    "    data = result.find('a') \n",
    "    #Get link film\n",
    "    link = 'https://moveek.com'+data.get('href')\n",
    "    #Get data from link\n",
    "    soup = readUrl(link)\n",
    "    resultFilms = soup.find('div','movie-header-wrapper')\n",
    "    print(link)  \n",
    "    \n",
    "    #get name film\n",
    "    srcName = resultFilms.find('img')\n",
    "    name = srcName.get('alt')\n",
    "    print(name)\n",
    "    \n",
    "    #2 - Get director\n",
    "    srcDirector = resultFilms.findAll('p','text-white')\n",
    "    director = srcDirector[len(srcDirector)-1].find('a');\n",
    "    if(director == None):\n",
    "        director = ''\n",
    "    else:\n",
    "        director = director.getText()\n",
    "         \n",
    "    #5 - Get Actors\n",
    "    soup3 = readUrl(link)\n",
    "    resultActorFilms = soup.find('div','movie-actors panel wrapper m-t')\n",
    "    listActor=[];\n",
    "\n",
    "    if(resultActorFilms == None or director == '') :\n",
    "        listActor='No Actor';\n",
    "    else :\n",
    "        actors = resultActorFilms.findAll('img')\n",
    "        for actor in actors:\n",
    "            rows2.append([name,director,actor.get('alt')])\n"
   ]
  },
  {
   "cell_type": "code",
   "execution_count": 64,
   "metadata": {},
   "outputs": [
    {
     "name": "stdout",
     "output_type": "stream",
     "text": [
      "[['Film', 'Director', 'Star'], ['Táo Quậy', 'Toàn Joshua', 'Hứa Minh Đạt'], ['Táo Quậy', 'Toàn Joshua', 'POM'], ['Táo Quậy', 'Toàn Joshua', 'Nhi Katy'], ['Táo Quậy', 'Toàn Joshua', 'Katleen'], ['Táo Quậy', 'Toàn Joshua', 'Hoàng Phúc'], ['Táo Quậy', 'Toàn Joshua', 'Tiểu Bảo Quốc'], ['Táo Quậy', 'Toàn Joshua', 'Nguyễn Chánh Tín'], ['Táo Quậy', 'Toàn Joshua', 'Phương Dung'], ['Táo Quậy', 'Toàn Joshua', 'Trung Dân'], ['Táo Quậy', 'Toàn Joshua', 'bé Tin Tin'], ['Táo Quậy', 'Toàn Joshua', 'Vân Trang'], ['Táo Quậy', 'Toàn Joshua', 'Lê Bình'], ['Táo Quậy', 'Toàn Joshua', 'Huỳnh Đông'], ['Táo Quậy', 'Toàn Joshua', 'Ái Châu'], ['Táo Quậy', 'Toàn Joshua', 'Bạch Long'], ['Vu Quy Đại Náo', 'Lê Thiện Viễn', 'Ngọc Trinh'], ['Vu Quy Đại Náo', 'Lê Thiện Viễn', 'Việt Hương'], ['Vu Quy Đại Náo', 'Lê Thiện Viễn', 'Chí Tài'], ['Vu Quy Đại Náo', 'Lê Thiện Viễn', 'Diệu Nhi'], ['Vu Quy Đại Náo', 'Lê Thiện Viễn', 'La Thành'], ['Vu Quy Đại Náo', 'Lê Thiện Viễn', 'Huỳnh Lập'], ['Vu Quy Đại Náo', 'Lê Thiện Viễn', 'Lâm Vinh Hải'], ['Vu Quy Đại Náo', 'Lê Thiện Viễn', 'Quang Đại'], ['Vu Quy Đại Náo', 'Lê Thiện Viễn', 'Thủy Tiên'], ['Vu Quy Đại Náo', 'Lê Thiện Viễn', 'Tài Smile'], ['Cua Lại Vợ Bầu', 'Nhất Trung', 'Trấn Thành'], ['Cua Lại Vợ Bầu', 'Nhất Trung', 'Khả Như'], ['Cua Lại Vợ Bầu', 'Nhất Trung', 'Mạc Văn Khoa'], ['Cua Lại Vợ Bầu', 'Nhất Trung', 'Lê Giang'], ['Cua Lại Vợ Bầu', 'Nhất Trung', 'Hữu Châu'], ['Trạng Quỳnh', 'Đức Thịnh', 'Quốc Anh'], ['Trạng Quỳnh', 'Đức Thịnh', 'Tùng Yuki'], ['Trạng Quỳnh', 'Đức Thịnh', 'Công Dương'], ['Trạng Quỳnh', 'Đức Thịnh', 'Khả Như'], ['Trạng Quỳnh', 'Đức Thịnh', 'Nabi Nhã Phương'], ['Trạng Quỳnh', 'Đức Thịnh', 'Trấn Thành'], ['Hai Phượng', 'Lê Văn Kiệt', 'Ngô Thanh Vân'], ['Hai Phượng', 'Lê Văn Kiệt', 'Phan Thanh Nhiên'], ['Hai Phượng', 'Lê Văn Kiệt', 'Mai Cát Vy'], ['Hai Phượng', 'Lê Văn Kiệt', 'Thạch Kim Long'], ['Chị Mười Ba', 'Khương Ngọc', 'Thu Trang'], ['Chị Mười Ba', 'Khương Ngọc', 'Tiến Luật'], ['Chị Mười Ba', 'Khương Ngọc', 'Khương Ngọc'], ['Chị Mười Ba', 'Khương Ngọc', 'Diệu Nhi'], ['Chị Mười Ba', 'Khương Ngọc', 'B Trần'], ['Chị Mười Ba', 'Khương Ngọc', 'La Thành'], ['Chị Mười Ba', 'Khương Ngọc', 'Lê Quốc Nam'], ['Chị Mười Ba', 'Khương Ngọc', 'Hứa Minh Đạt'], ['Chị Mười Ba', 'Khương Ngọc', 'Hoàng Mèo'], ['Chị Mười Ba', 'Khương Ngọc', 'Hoàng Phi'], ['Chị Mười Ba', 'Khương Ngọc', 'Quách Ngọc Tuyên'], ['Chị Mười Ba', 'Khương Ngọc', 'Thanh Tân'], ['Ngôi Nhà Bươm Bướm', 'Huỳnh Tuấn Anh', 'NSUT Thành Lộc'], ['Ngôi Nhà Bươm Bướm', 'Huỳnh Tuấn Anh', 'Quang Minh'], ['Ngôi Nhà Bươm Bướm', 'Huỳnh Tuấn Anh', 'Hồng Đào'], ['Ngôi Nhà Bươm Bướm', 'Huỳnh Tuấn Anh', 'Vân Trang'], ['Ngôi Nhà Bươm Bướm', 'Huỳnh Tuấn Anh', 'Hoàng Yến Chibi'], ['Ngôi Nhà Bươm Bướm', 'Huỳnh Tuấn Anh', 'Liên Bỉnh Phát'], ['Thiên Đường', 'Hạnh Nhân', 'Han Jae Suk'], ['Thiên Đường', 'Hạnh Nhân', 'Lý Nhã Kỳ'], ['Thiên Đường', 'Hạnh Nhân', 'Kim Tuyến'], ['Thiên Đường', 'Hạnh Nhân', 'Jo Han Sun'], ['Mục Tiêu Chết', 'Cung Le', 'Cung Le'], ['Nhân Duyên: Anh Mãi Bên Em', 'Luk Vân', 'Trịnh Thăng Bình'], ['Nhân Duyên: Anh Mãi Bên Em', 'Luk Vân', 'Midu'], ['Ghen', 'Nguyễn Thành Vinh', 'Quỳnh Thư'], ['Ghen', 'Nguyễn Thành Vinh', 'Thanh Hương'], ['Ghen', 'Nguyễn Thành Vinh', 'Phan Hoàng Kim'], ['Ghen', 'Nguyễn Thành Vinh', 'Vy Timy'], ['Ghen', 'Nguyễn Thành Vinh', 'Vinh Râu'], ['Ghen', 'Nguyễn Thành Vinh', 'Huỳnh Phương'], ['Ghen', 'Nguyễn Thành Vinh', 'Thái Vũ'], ['Hạnh Phúc Không Dành Cho Tình Nhân', 'Nam Đoàn', 'Quỳnh Thư'], ['Giấc Mơ Thứ 7', 'Michael Võ', 'Nguyễn Anh Dũng'], ['Giấc Mơ Thứ 7', 'Michael Võ', 'Trương Thị May'], ['Giấc Mơ Thứ 7', 'Michael Võ', 'Huỳnh Kiến An'], ['Giấc Mơ Thứ 7', 'Michael Võ', 'Việt Lâm Thắng'], ['Giấc Mơ Thứ 7', 'Michael Võ', 'Ginô Tống'], ['Giấc Mơ Thứ 7', 'Michael Võ', 'Võ Khánh Minh'], ['Giấc Mơ Thứ 7', 'Michael Võ', 'Xuân Nghị'], ['Giấc Mơ Thứ 7', 'Michael Võ', 'Bá Đức'], ['Yolo', 'Phan Minh', 'Soobin Hoàng Sơn'], ['Yolo', 'Phan Minh', 'Cường Seven'], ['Yolo', 'Phan Minh', 'Tuấn Trần'], ['Yolo', 'Phan Minh', 'Băng Di'], ['Yolo', 'Phan Minh', 'Khánh Huyền'], ['Yolo', 'Phan Minh', 'Xuân Phúc'], ['Sứ Mạng Sinh Tử', 'Trần Bình', 'Trương Minh Cường'], ['Sứ Mạng Sinh Tử', 'Trần Bình', 'Hứa Minh Đạt'], ['Sứ Mạng Sinh Tử', 'Trần Bình', 'Quách Ngọc Tuyên'], ['Sứ Mạng Sinh Tử', 'Trần Bình', 'Nam Long'], ['Sứ Mạng Sinh Tử', 'Trần Bình', 'Kiều Oanh'], ['Sứ Mạng Sinh Tử', 'Trần Bình', 'Hoàng Mập'], ['Sứ Mạng Sinh Tử', 'Trần Bình', 'Triệu An'], ['Sứ Mạng Sinh Tử', 'Trần Bình', 'Nhi Katy'], ['Sứ Mạng Sinh Tử', 'Trần Bình', 'Kỳ Anh'], ['Sứ Mạng Sinh Tử', 'Trần Bình', 'Nguyễn Trần Duy Nhất'], ['Gameshow Tử Thần', 'Kazuhisa Yusa', 'Katleen Phan Võ'], ['Gameshow Tử Thần', 'Kazuhisa Yusa', 'Thùy Anh'], ['Gameshow Tử Thần', 'Kazuhisa Yusa', 'Hoàng Yến Chibi'], ['Gameshow Tử Thần', 'Kazuhisa Yusa', 'Ngô Kiến Huy'], ['The Dreamer', 'Nguyễn Tiến Thành', 'Lâm Thanh Mỹ'], ['The Dreamer', 'Nguyễn Tiến Thành', 'Nguyễn Thái Sơn'], ['The Dreamer', 'Nguyễn Tiến Thành', 'Huỳnh Kiến An'], ['The Dreamer', 'Nguyễn Tiến Thành', 'Nguyễn Lan Phương'], ['The Dreamer', 'Nguyễn Tiến Thành', 'Phạm Duy Hà Linh'], ['The Dreamer', 'Nguyễn Tiến Thành', 'Lê Nguyễn Bảo Nghi'], ['The Dreamer', 'Nguyễn Tiến Thành', 'Lê Chi'], ['Bình Tĩnh Mà Yêu', 'Huỳnh Tuấn Anh', 'Mai Thanh Hà'], ['Bình Tĩnh Mà Yêu', 'Huỳnh Tuấn Anh', 'Huy Khánh'], ['Bình Tĩnh Mà Yêu', 'Huỳnh Tuấn Anh', 'Nguyễn Quốc Trường Thịnh'], ['Bình Tĩnh Mà Yêu', 'Huỳnh Tuấn Anh', 'Hải Triều'], ['Bình Tĩnh Mà Yêu', 'Huỳnh Tuấn Anh', 'Phi Ngọc Ánh'], ['Bình Tĩnh Mà Yêu', 'Huỳnh Tuấn Anh', 'Mạc Can'], ['Chuyến Xe Hạnh Phúc', 'Huỳnh Đông', 'Kiều Minh Tuấn'], ['Chuyến Xe Hạnh Phúc', 'Huỳnh Đông', 'Cát Phượng'], ['Chuyến Xe Hạnh Phúc', 'Huỳnh Đông', 'bé Huy Khang'], ['Chuyến Xe Hạnh Phúc', 'Huỳnh Đông', 'Lâm Vinh Hải'], ['Mặt Trời, Con Ở Đâu', 'Nguyễn Hữu Tuấn', 'Huỳnh Đông'], ['Mặt Trời, Con Ở Đâu', 'Nguyễn Hữu Tuấn', 'Bảo Bảo'], ['Mặt Trời, Con Ở Đâu', 'Nguyễn Hữu Tuấn', 'Mai Cát Vi'], ['Mặt Trời, Con Ở Đâu', 'Nguyễn Hữu Tuấn', 'Việt Hương'], ['Sám Hối', 'Peter Hiền', 'Bình Minh'], ['Sám Hối', 'Peter Hiền', 'Anh Thư'], ['Sám Hối', 'Peter Hiền', 'Khả Ngân'], ['Sám Hối', 'Peter Hiền', 'Việt Hương'], ['Yêu Em Anh Chạm Vào Đâu', 'Đinh Thái Thụy', 'Hà Việt Dũng'], ['Yêu Em Anh Chạm Vào Đâu', 'Đinh Thái Thụy', 'Khánh Như'], ['Yêu Em Anh Chạm Vào Đâu', 'Đinh Thái Thụy', 'Vân Trang'], ['Yêu Em Anh Chạm Vào Đâu', 'Đinh Thái Thụy', 'Vân Anh'], ['Yêu Em Anh Chạm Vào Đâu', 'Đinh Thái Thụy', 'Hồng Đào'], ['Tuyệt Vời Khi Ở Bên Em', 'Luk Vân', 'Harry Lu'], ['Tuyệt Vời Khi Ở Bên Em', 'Luk Vân', 'B Trần'], ['Mùa Hè Năm Ấy', 'Nguyễn Phúc Huy Cương', 'Gin Tuấn Kiệt'], ['Mùa Hè Năm Ấy', 'Nguyễn Phúc Huy Cương', 'Ngọc Trai'], ['Mùa Hè Năm Ấy', 'Nguyễn Phúc Huy Cương', 'Tuyền Tăng'], ['Mùa Hè Năm Ấy', 'Nguyễn Phúc Huy Cương', 'Hoài Khánh'], ['Mùa Hè Năm Ấy', 'Nguyễn Phúc Huy Cương', 'Thanh Phong'], ['Mùa Hè Năm Ấy', 'Nguyễn Phúc Huy Cương', 'Quang Minh'], ['Người Vợ Ba', 'Ash Mayfair', 'Tran Nu Yên-Khê'], ['Người Vợ Ba', 'Ash Mayfair', 'Long Le Vu'], ['Người Vợ Ba', 'Ash Mayfair', 'Maya Mai Thu Huong'], ['Người Vợ Ba', 'Ash Mayfair', 'My Nguyen Phuong Tra'], ['Người Vợ Ba', 'Ash Mayfair', 'Như Quỳnh Nguyễn'], ['Tim Hằn Vết Sẹo', 'Lưu Huỳnh', 'Bùi Bài Bình'], ['Tim Hằn Vết Sẹo', 'Lưu Huỳnh', 'Tạ Minh Thảo'], ['Tim Hằn Vết Sẹo', 'Lưu Huỳnh', 'Hoa Thúy'], ['Tim Hằn Vết Sẹo', 'Lưu Huỳnh', 'Xuân Phúc'], ['Tim Hằn Vết Sẹo', 'Lưu Huỳnh', 'Đinh Y Nhung'], ['Mỹ Nhân Thần Sách', 'Nguyễn Phương', 'Nanon Korapat'], ['Mỹ Nhân Thần Sách', 'Nguyễn Phương', 'Việt Linh'], ['Mỹ Nhân Thần Sách', 'Nguyễn Phương', 'Minh Beta'], ['Mỹ Nhân Thần Sách', 'Nguyễn Phương', 'Trúc Anh Burin'], ['Mỹ Nhân Thần Sách', 'Nguyễn Phương', 'Thiên Nga'], ['Mỹ Nhân Thần Sách', 'Nguyễn Phương', 'Alex'], ['Mỹ Nhân Thần Sách', 'Nguyễn Phương', 'Yori'], ['Mỹ Nhân Thần Sách', 'Nguyễn Phương', 'Hà Hương'], ['Mỹ Nhân Thần Sách', 'Nguyễn Phương', 'Ginô Tống'], ['Mỹ Nhân Thần Sách', 'Nguyễn Phương', 'Củ Tỏi'], ['Mỹ Nhân Thần Sách', 'Nguyễn Phương', 'Phi Phụng'], ['Ra Giêng Anh Cưới Em', 'Cường Ngô', 'jason ninh cao']]\n"
     ]
    }
   ],
   "source": [
    "with open('data_test_2.csv','w', newline='',encoding=\"utf-8-sig\") as f_output:\n",
    "    csv_output = csv.writer(f_output)\n",
    "    csv_output.writerows(rows2)\n",
    "\n",
    "#Kien\n",
    "# X_test = pd.read_csv('data_test_2.csv', usecols = ['Director','Star']) \n",
    "# predicts = linear_regressor.predict(X_test) \n",
    "# predictions_dict = next(predicts)\n",
    "# pred = list(predicts)\n",
    "print(rows2)\n",
    "# predicts = linear_regressor.predict(X_test)"
   ]
  },
  {
   "cell_type": "code",
   "execution_count": null,
   "metadata": {},
   "outputs": [],
   "source": []
  }
 ],
 "metadata": {
  "kernelspec": {
   "display_name": "Python 3",
   "language": "python",
   "name": "python3"
  },
  "language_info": {
   "codemirror_mode": {
    "name": "ipython",
    "version": 3
   },
   "file_extension": ".py",
   "mimetype": "text/x-python",
   "name": "python",
   "nbconvert_exporter": "python",
   "pygments_lexer": "ipython3",
   "version": "3.6.5"
  }
 },
 "nbformat": 4,
 "nbformat_minor": 2
}
