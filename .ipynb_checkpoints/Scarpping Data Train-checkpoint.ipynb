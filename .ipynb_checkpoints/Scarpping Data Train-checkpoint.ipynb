{
 "cells": [
  {
   "cell_type": "code",
   "execution_count": 2,
   "metadata": {},
   "outputs": [],
   "source": [
    "import bs4\n",
    "from urllib.request import urlopen\n",
    "import csv"
   ]
  },
  {
   "cell_type": "code",
   "execution_count": 3,
   "metadata": {},
   "outputs": [],
   "source": [
    "def readUrl(url):\n",
    "    web_data = urlopen(url)\n",
    "    html = web_data.read()\n",
    "    web_data.close()\n",
    "    data = bs4.BeautifulSoup(html, 'html.parser')\n",
    "    return data"
   ]
  },
  {
   "cell_type": "code",
   "execution_count": 4,
   "metadata": {},
   "outputs": [
    {
     "name": "stdout",
     "output_type": "stream",
     "text": [
      "43\n"
     ]
    }
   ],
   "source": [
    "url = \"https://moveek.com/phim-viet-nam/\" \n",
    "soup = readUrl(url) \n",
    "results = soup.findAll('div','panel panel-post panel-movie-grid') \n",
    "print(len(results))"
   ]
  },
  {
   "cell_type": "code",
   "execution_count": 5,
   "metadata": {},
   "outputs": [
    {
     "name": "stdout",
     "output_type": "stream",
     "text": [
      "\n",
      "\n",
      "80%\n",
      "\n",
      "\n",
      "Nguyễn Quang Tuyến\n",
      "['Nhật Kim Anh', 'Đông Dương', 'Xuân Phúc', 'Quang Hòa', 'Lâm Trí', 'Hoàng Tiến Dũng', 'Hùng Chilhuyn']\n"
     ]
    }
   ],
   "source": [
    "#Get percent \n",
    "def getPercent(link):\n",
    "    soup2 = readUrl(link)\n",
    "    resultFilms = soup2.find('div','movie-header-wrapper')\n",
    "    #Get percents\n",
    "    percent = resultFilms.find('div','action chart-pie chart-pie-small pull-left') \n",
    "    return percent.getText();\n",
    "\n",
    "#Get Director \n",
    "def getDirector(link):\n",
    "    soup3 = readUrl(link)\n",
    "    resultFilms = soup3.find('div','movie-header-wrapper') \n",
    "    srcDirector = resultFilms.findAll('p','text-white')\n",
    "    director = srcDirector[len(srcDirector)-1].find('a').getText();\n",
    "    return director\n",
    "#Get actor\n",
    "def getActor(link):\n",
    "    soup = readUrl(link)\n",
    "    resultActorFilms = soup.find('div','movie-actors panel wrapper m-t')\n",
    "    actors = resultActorFilms.findAll('img')\n",
    "    data = []\n",
    "    for actor in actors:\n",
    "        data.append(actor.get('alt'))\n",
    "    return data\n",
    "#example\n",
    "link2 = 'https://moveek.com/phim/cam-bay-hoi-tho-cua-quy/'\n",
    "percent = getPercent(link2)\n",
    "director = getDirector(link2)\n",
    "actor = getActor(link2)\n",
    "print(percent)\n",
    "print(director)\n",
    "print(actor)"
   ]
  },
  {
   "cell_type": "code",
   "execution_count": 6,
   "metadata": {},
   "outputs": [
    {
     "name": "stdout",
     "output_type": "stream",
     "text": [
      "https://moveek.com/phim/cam-bay-hoi-tho-cua-quy/\n",
      "https://moveek.com/phim/o-day-co-nang/\n",
      "https://moveek.com/phim/xuong-13/\n",
      "https://moveek.com/phim/lala-hay-de-em-yeu-anh/\n",
      "https://moveek.com/phim/the-vietnamese-bride/\n",
      "https://moveek.com/phim/sieu-sao-sieu-ngo/\n",
      "https://moveek.com/phim/ve-que-an-tet/\n",
      "https://moveek.com/phim/798-muoi/\n",
      "https://moveek.com/phim/dich-ton-doc-dac/\n",
      "https://moveek.com/phim/thu-yeu-roi-biet/\n",
      "https://moveek.com/phim/thang-nam-ruc-ro/\n",
      "https://moveek.com/phim/phan-van-khai-nguoi-con-dat-thep/\n",
      "https://moveek.com/phim/ong-ngoai-tuoi-30/\n",
      "https://moveek.com/phim/yeu-em-bat-chap/\n",
      "https://moveek.com/phim/ha-cuoi-tinh-dau/\n",
      "https://moveek.com/phim/lat-mat-3-ba-chang-khuyet/\n",
      "https://moveek.com/phim/100-ngay-ben-em/\n",
      "https://moveek.com/phim/11-niem-hy-vong/\n",
      "https://moveek.com/phim/yeu-nu-sieu-quay/\n",
      "https://moveek.com/phim/nham-mat-thay-mua-he/\n",
      "https://moveek.com/phim/em-gai-mua/\n",
      "https://moveek.com/phim/ong-kinh-sat-nhan/\n",
      "https://moveek.com/phim/lo-mat/\n",
      "https://moveek.com/phim/truong-hoc-ba-vuong/\n",
      "https://moveek.com/phim/tim-vo-cho-ba/\n",
      "https://moveek.com/phim/song-lang/\n",
      "https://moveek.com/phim/chang-vo-cua-em/\n",
      "https://moveek.com/phim/mua-viet-tinh-ca/\n",
      "https://moveek.com/phim/hoan-doi-1/\n",
      "https://moveek.com/phim/bao-gio-het-e/\n",
      "https://moveek.com/phim/chu-oi-dung-lay-me-con/\n",
      "https://moveek.com/phim/ke-hoach-doi-chong/\n",
      "https://moveek.com/phim/finding-phong/\n",
      "https://moveek.com/phim/quy-co-thua-ke/\n",
      "https://moveek.com/phim/nguoi-bat-tu/\n",
      "https://moveek.com/phim/loi-ket-ban-chet-choc/\n",
      "https://moveek.com/phim/thach-thao/\n",
      "https://moveek.com/phim/vai-dien-doi-doi/\n",
      "https://moveek.com/phim/chi-tro-ly-cua-anh/\n",
      "https://moveek.com/phim/canh-dieu-mua/\n",
      "https://moveek.com/phim/gai-gia-lam-chieu-2/\n",
      "https://moveek.com/phim/hon-papa-da-con-gai/\n",
      "https://moveek.com/phim/thien-linh-cai/\n"
     ]
    }
   ],
   "source": [
    "rows = [];\n",
    "rows.append(['Imdb','Director','Star'])\n",
    "for result in results:\n",
    "    data = result.find('a') \n",
    "    \n",
    "    #Get link film\n",
    "    link = 'https://moveek.com'+data.get('href')\n",
    "    #Get data from link\n",
    "    soup = readUrl(link)\n",
    "    resultFilms = soup.find('div','movie-header-wrapper')\n",
    "    print(link)\n",
    "     \n",
    "    #2 - Get percents\n",
    "    percent = resultFilms.find('div','action chart-pie chart-pie-small pull-left')\n",
    "    if(percent == None) :\n",
    "        percent = '50%'\n",
    "    else :\n",
    "        percent = percent.getText()\n",
    "        \n",
    "    #3 - Get director\n",
    "    srcDirector = resultFilms.findAll('p','text-white')\n",
    "    director = srcDirector[len(srcDirector)-1].find('a');\n",
    "    if(director == None):\n",
    "        director = ''\n",
    "    else:\n",
    "        director = director.getText() \n",
    "    \n",
    "    #4 - Get Actors\n",
    "    resultActorFilms = soup.find('div','movie-actors panel wrapper m-t')\n",
    "    listActor=[];\n",
    "    if(resultActorFilms == None) : \n",
    "        rows.append([''+percent.strip(), director,'No Actor'])\n",
    "    else :\n",
    "        actors = resultActorFilms.findAll('img')\n",
    "        for actor in actors:\n",
    "            rows.append([''+percent.strip(), director,actor.get('alt')])"
   ]
  },
  {
   "cell_type": "code",
   "execution_count": 7,
   "metadata": {},
   "outputs": [
    {
     "name": "stdout",
     "output_type": "stream",
     "text": [
      "[['Imdb', 'Director', 'Star'], ['80%', 'Nguyễn Quang Tuyến', 'Nhật Kim Anh'], ['80%', 'Nguyễn Quang Tuyến', 'Đông Dương'], ['80%', 'Nguyễn Quang Tuyến', 'Xuân Phúc'], ['80%', 'Nguyễn Quang Tuyến', 'Quang Hòa'], ['80%', 'Nguyễn Quang Tuyến', 'Lâm Trí'], ['80%', 'Nguyễn Quang Tuyến', 'Hoàng Tiến Dũng'], ['80%', 'Nguyễn Quang Tuyến', 'Hùng Chilhuyn'], ['79%', 'Đỗ Nam', 'Huy Khánh'], ['79%', 'Đỗ Nam', 'Quý Bình'], ['79%', 'Đỗ Nam', 'Lê Bình'], ['79%', 'Đỗ Nam', 'Quỳnh Chi'], ['79%', 'Đỗ Nam', 'Anh Thơ'], ['79%', 'Đỗ Nam', 'bé Gia Bảo'], ['79%', 'Đỗ Nam', 'Trương Thanh Long'], ['79%', 'Đỗ Nam', 'Hạnh Thúy'], ['79%', 'Đỗ Nam', 'Lê Chi Na'], ['79%', 'Đỗ Nam', 'Lan Trinh'], ['50%', 'Phan Minh', 'Trương Mỹ Nhân'], ['50%', 'Phan Minh', 'Tuấn Trần'], ['50%', 'Phan Minh', 'Brian Trần'], ['50%', 'Phan Minh', 'Jay Nhân'], ['40%', 'Han Sang-hee', 'Chi Pu'], ['40%', 'Han Sang-hee', 'San E'], ['40%', 'Han Sang-hee', 'Chae Yeon'], ['40%', 'Han Sang-hee', 'Jin Ju Hyung'], ['50%', 'Tsai Lex', 'Sun Wei Lung'], ['50%', 'Tsai Lex', 'Khả Ngân'], ['50%', 'Tsai Lex', 'Aki Myung-Hun'], ['50%', 'Tsai Lex', 'Kha Ly'], ['50%', 'Tsai Lex', 'Lê Bê La'], ['50%', 'Tsai Lex', 'Nhất Duy'], ['50%', 'Tsai Lex', 'Do Tai Wai'], ['50%', 'Tsai Lex', 'Lu Shi Yong'], ['91%', 'Đức Thịnh', 'Trường Giang'], ['91%', 'Đức Thịnh', 'Thanh Thúy'], ['91%', 'Đức Thịnh', 'Đức Thịnh'], ['91%', 'Đức Thịnh', 'Mai Tài Phến'], ['91%', 'Đức Thịnh', 'Sam'], ['88%', 'Nguyễn Hoàng Anh', 'Jun Phạm'], ['88%', 'Nguyễn Hoàng Anh', 'Trung Dân'], ['88%', 'Nguyễn Hoàng Anh', 'Hải Triều'], ['88%', 'Nguyễn Hoàng Anh', 'Tiến Công'], ['88%', 'Nguyễn Hoàng Anh', 'Puka'], ['88%', 'Nguyễn Hoàng Anh', 'Ngọc Tưởng'], ['82%', 'Dustin Nguyễn', 'Dustin Nguyễn'], ['82%', 'Dustin Nguyễn', 'Thu Trang'], ['82%', 'Dustin Nguyễn', 'Kiều Minh Tuấn'], ['82%', 'Dustin Nguyễn', 'Hoàng Sơn'], ['82%', 'Dustin Nguyễn', 'Nam Em'], ['82%', 'Dustin Nguyễn', 'Tiểu Bảo Quốc'], ['82%', 'Dustin Nguyễn', 'Đại Nghĩa'], ['82%', 'Dustin Nguyễn', 'Lê Bình'], ['82%', 'Dustin Nguyễn', 'Tiết Cương'], ['60%', 'Trần Ngọc Giàu', 'Hoài Linh'], ['60%', 'Trần Ngọc Giàu', 'Bạch Công Khanh'], ['60%', 'Trần Ngọc Giàu', 'Thanh Vy'], ['60%', 'Trần Ngọc Giàu', 'Celina Huỳnh'], ['60%', 'Trần Ngọc Giàu', 'Lê Lộc'], ['60%', 'Trần Ngọc Giàu', 'Xuân Nghị'], ['60%', 'Trần Ngọc Giàu', 'Tấn Beo'], ['60%', 'Trần Ngọc Giàu', 'Trung Dân'], ['60%', 'Trần Ngọc Giàu', 'Bella Mai'], ['60%', 'Trần Ngọc Giàu', 'Hứa Minh Đạt'], ['60%', 'Trần Ngọc Giàu', 'Thân Thuý Hà'], ['60%', 'Trần Ngọc Giàu', 'Tuấn Dũng'], ['29%', 'Nguyễn Hà', 'Trương Mỹ Nhân'], ['29%', 'Nguyễn Hà', 'Kent Phạm Tùng Anh'], ['29%', 'Nguyễn Hà', 'Xuân Phúc'], ['29%', 'Nguyễn Hà', 'Ngọc Châu'], ['93%', 'Nguyễn Quang Dũng', 'Thanh Hằng'], ['93%', 'Nguyễn Quang Dũng', 'Jun Vũ'], ['93%', 'Nguyễn Quang Dũng', 'Anh Thư'], ['93%', 'Nguyễn Quang Dũng', 'Mỹ Duyên'], ['93%', 'Nguyễn Quang Dũng', 'Hoàng Oanh'], ['93%', 'Nguyễn Quang Dũng', 'Trịnh Thảo'], ['93%', 'Nguyễn Quang Dũng', 'Hồng Ánh'], ['93%', 'Nguyễn Quang Dũng', 'Hoàng Yến Chibi'], ['93%', 'Nguyễn Quang Dũng', 'Mỹ Uyên'], ['93%', 'Nguyễn Quang Dũng', 'Khổng Tú Quỳnh'], ['93%', 'Nguyễn Quang Dũng', 'Tuyền Mập'], ['93%', 'Nguyễn Quang Dũng', 'Minh Thảo'], ['50%', 'Lâm Tư', 'No Actor'], ['82%', 'Võ Thanh Hòa', 'Trịnh Thăng Bình'], ['82%', 'Võ Thanh Hòa', 'Kiều Trinh Xíu'], ['82%', 'Võ Thanh Hòa', 'Coca Hoàng Gia Bảo'], ['82%', 'Võ Thanh Hòa', 'Hạ Vi'], ['82%', 'Võ Thanh Hòa', 'Hoàng Rapper'], ['82%', 'Võ Thanh Hòa', 'Hoàng Sơn'], ['82%', 'Võ Thanh Hòa', 'Tùng Leo'], ['82%', 'Võ Thanh Hòa', 'Võ Cảnh'], ['82%', 'Võ Thanh Hòa', 'Hoàng Phi'], ['82%', 'Võ Thanh Hòa', 'Phương Trinh Jolie'], ['82%', 'Võ Thanh Hòa', 'Chu Diệp Anh'], ['82%', 'Võ Thanh Hòa', 'Lou Hoàng'], ['47%', 'Văn Công Viễn', 'Ngọc Thanh Tâm'], ['47%', 'Văn Công Viễn', 'Hoài Lâm'], ['47%', 'Văn Công Viễn', 'Trang Trần'], ['47%', 'Văn Công Viễn', 'Đàm Vĩnh Hưng'], ['47%', 'Văn Công Viễn', 'Thúy Vy'], ['50%', 'Trương Quang Thịnh', 'Quỳnh Hương Venus'], ['50%', 'Trương Quang Thịnh', 'Huỳnh Hồng Loan'], ['50%', 'Trương Quang Thịnh', 'Gia Linh'], ['50%', 'Trương Quang Thịnh', 'Phạm Hoàng Nguyên'], ['50%', 'Trương Quang Thịnh', 'Gin Tuấn Kiệt'], ['50%', 'Trương Quang Thịnh', 'Hồng Vân'], ['50%', 'Trương Quang Thịnh', 'Cát Tường'], ['50%', 'Trương Quang Thịnh', 'Kiều Minh Tuấn'], ['81%', 'Lý Hải', 'Kiều Minh Tuấn'], ['81%', 'Lý Hải', 'Lý Hải'], ['81%', 'Lý Hải', 'Huy Khánh'], ['81%', 'Lý Hải', 'Song Luân'], ['81%', 'Lý Hải', 'Nene'], ['81%', 'Lý Hải', 'Tú Trinh'], ['81%', 'Lý Hải', 'Tiết Cương'], ['81%', 'Lý Hải', 'Cát Phượng'], ['81%', 'Lý Hải', 'Phương Bình'], ['81%', 'Lý Hải', 'Diệu Đức'], ['81%', 'Lý Hải', 'Hoàng Mèo'], ['81%', 'Lý Hải', 'Thanh Tân'], ['81%', 'Lý Hải', 'Lương Mỹ'], ['81%', 'Lý Hải', 'Phi Điểu'], ['81%', 'Vũ Ngọc Phượng', 'Jun Phạm'], ['81%', 'Vũ Ngọc Phượng', 'Khả Ngân'], ['81%', 'Vũ Ngọc Phượng', 'Lê Tam Triều Dâng'], ['81%', 'Vũ Ngọc Phượng', 'B Trần'], ['81%', 'Vũ Ngọc Phượng', 'Gin Tuấn Kiệt'], ['81%', 'Vũ Ngọc Phượng', 'NSƯT Mỹ Uyên'], ['81%', 'Vũ Ngọc Phượng', 'Chiều Xuân'], ['74%', 'Robie Trường', 'Nhan Phúc Vinh'], ['74%', 'Robie Trường', 'Hoàng Phi'], ['74%', 'Robie Trường', 'Hiếu Nguyễn'], ['74%', 'Robie Trường', 'Hùng Chilhyun'], ['74%', 'Robie Trường', 'Rima Thanh Vy'], ['74%', 'Robie Trường', 'Thanh Tú'], ['74%', 'Robie Trường', 'Lâm Thắng'], ['74%', 'Robie Trường', 'Võ Hoài Nam'], ['74%', 'Robie Trường', 'NSUT Công Ninh'], ['74%', 'Robie Trường', 'Trọng Hải'], ['50%', 'Nguyễn Ngọc Hùng', 'Diệu Nhi'], ['50%', 'Nguyễn Ngọc Hùng', 'Thuận Nguyễn'], ['50%', 'Nguyễn Ngọc Hùng', 'Khả Như'], ['50%', 'Nguyễn Ngọc Hùng', 'Khương Ngọc'], ['50%', 'Nguyễn Ngọc Hùng', 'La Thành'], ['50%', 'Nguyễn Ngọc Hùng', 'Gia Bảo'], ['50%', 'Nguyễn Ngọc Hùng', 'Đỗ Duy Nam'], ['50%', 'Nguyễn Ngọc Hùng', 'Hải Triều'], ['50%', 'Nguyễn Ngọc Hùng', 'Tiểu Bảo Quốc'], ['50%', 'Nguyễn Ngọc Hùng', 'Trung Dân'], ['87%', 'Cao Thúy Nhi', 'Phương Anh Đào'], ['87%', 'Cao Thúy Nhi', 'Noriki Takimoto'], ['87%', 'Cao Thúy Nhi', 'Norihiko Takimoto'], ['87%', 'Cao Thúy Nhi', 'chú chó Hana'], ['87%', 'Cao Thúy Nhi', 'Ben Phạm'], ['87%', 'Cao Thúy Nhi', 'Sayaka Mitsuta'], ['87%', 'Cao Thúy Nhi', 'Mizuki Miyauchi'], ['87%', 'Cao Thúy Nhi', 'Akira Hatsusegawa'], ['87%', 'Cao Thúy Nhi', 'Diễm Thi'], ['87%', 'Cao Thúy Nhi', 'Khánh Ngân'], ['87%', 'Cao Thúy Nhi', 'Takafumi Akutsu'], ['87%', 'Cao Thúy Nhi', 'NSUT Công Ninh'], ['68%', 'Kawaii Nguyễn Tuấn Anh', 'Mai Tài Phến'], ['68%', 'Kawaii Nguyễn Tuấn Anh', 'Lê Thùy LInh'], ['68%', 'Kawaii Nguyễn Tuấn Anh', 'Phương Anh Đào'], ['68%', 'Kawaii Nguyễn Tuấn Anh', 'Tiến Vũ'], ['68%', 'Kawaii Nguyễn Tuấn Anh', 'Misoa'], ['68%', 'Kawaii Nguyễn Tuấn Anh', 'Trang Hý'], ['68%', 'Kawaii Nguyễn Tuấn Anh', 'Đan Trường'], ['68%', 'Kawaii Nguyễn Tuấn Anh', 'Việt Hương'], ['68%', 'Kawaii Nguyễn Tuấn Anh', 'Hương Tràm'], ['68%', 'Kawaii Nguyễn Tuấn Anh', 'NSUT Công Ninh'], ['68%', 'Kawaii Nguyễn Tuấn Anh', 'Trung Dân'], ['83%', 'Hứa Vĩ Văn', 'Hứa Vĩ Văn'], ['83%', 'Hứa Vĩ Văn', 'Diễm My 9x'], ['83%', 'Hứa Vĩ Văn', 'Kinh Quốc'], ['83%', 'Hứa Vĩ Văn', 'Nguyễn Chánh Tín'], ['83%', 'Hứa Vĩ Văn', 'Thương Tín'], ['83%', 'Hứa Vĩ Văn', 'NSUT Công Ninh'], ['83%', 'Hứa Vĩ Văn', 'Quang Sự'], ['25%', 'Vĩnh Thuyên', 'Minh Luân'], ['25%', 'Vĩnh Thuyên', 'Vĩnh Thuyên Kim'], ['25%', 'Vĩnh Thuyên', 'Hứa Minh Đạt'], ['25%', 'Vĩnh Thuyên', 'Mạc Văn Khoa'], ['25%', 'Vĩnh Thuyên', 'Lâm Vỹ Dạ'], ['36%', 'Duy Joseph', 'Wean Lê'], ['36%', 'Duy Joseph', 'Lê Hạ Anh'], ['36%', 'Duy Joseph', 'Nhan Phúc Vinh'], ['36%', 'Duy Joseph', 'Ngọc Thanh Tâm'], ['36%', 'Duy Joseph', 'Quỳnh Chi'], ['36%', 'Duy Joseph', 'Gin Tuấn Kiệt'], ['36%', 'Duy Joseph', 'Tùng Min'], ['73%', 'Lương Trung Tín', 'ST 365'], ['73%', 'Lương Trung Tín', 'Jang Mi'], ['73%', 'Lương Trung Tín', 'POM'], ['73%', 'Lương Trung Tín', 'Tiểu Bảo Quốc'], ['100%', 'Leon Quang Lê', 'Isaac'], ['100%', 'Leon Quang Lê', 'Liên Bỉnh Phát'], ['100%', 'Leon Quang Lê', 'Tú Quyên'], ['100%', 'Leon Quang Lê', 'Thanh Tú'], ['100%', 'Leon Quang Lê', 'Kiều Trinh'], ['95%', 'Charlie Nguyễn', 'Thái Hoà'], ['95%', 'Charlie Nguyễn', 'Phương Anh Đào'], ['95%', 'Charlie Nguyễn', 'Thanh Trúc'], ['95%', 'Charlie Nguyễn', 'Hứa Vĩ Văn'], ['95%', 'Charlie Nguyễn', 'Vân Trang'], ['95%', 'Charlie Nguyễn', 'Hồng Hạnh'], ['95%', 'Charlie Nguyễn', 'Diễm My'], ['95%', 'Charlie Nguyễn', 'Trung Dũng'], ['92%', 'Thắng Vũ', 'Isaac'], ['92%', 'Thắng Vũ', 'Phan Ngân'], ['92%', 'Thắng Vũ', 'Suni Hạ Linh'], ['92%', 'Thắng Vũ', 'Chí Tài'], ['92%', 'Thắng Vũ', 'Phi Phụng'], ['92%', 'Thắng Vũ', 'Hoàng Phi'], ['92%', 'Thắng Vũ', 'Puka'], ['93%', 'Võ Thanh Hòa', 'Nabi Nhã Phương'], ['93%', 'Võ Thanh Hòa', 'bé Kim Thư'], ['93%', 'Võ Thanh Hòa', 'La Thành'], ['93%', 'Võ Thanh Hòa', 'Việt Hương'], ['93%', 'Võ Thanh Hòa', 'Ngô Kiến Huy'], ['93%', 'Võ Thanh Hòa', 'Trấn Thành'], ['93%', 'Võ Thanh Hòa', 'Mai Bảo Ngọc'], ['93%', 'Võ Thanh Hòa', 'Huỳnh Lập'], ['93%', 'Võ Thanh Hòa', 'Hứa Minh Đạt'], ['93%', 'Võ Thanh Hòa', 'Khả Như'], ['91%', 'Nguyễn Thành Vinh', 'Thúy Vân'], ['91%', 'Nguyễn Thành Vinh', 'Đình Quân'], ['91%', 'Nguyễn Thành Vinh', 'Nguyễn Anh Tú'], ['91%', 'Nguyễn Thành Vinh', 'NSUT Thanh Hằng'], ['91%', 'Nguyễn Thành Vinh', 'Đàm Phương Linh'], ['91%', 'Nguyễn Thành Vinh', 'NSND Ngọc Giàu'], ['91%', 'Nguyễn Thành Vinh', 'NSUT Thoại Mỹ'], ['91%', 'Nguyễn Thành Vinh', 'NSƯT Thanh Nam'], ['91%', 'Nguyễn Thành Vinh', 'Cẩm Hà'], ['91%', 'Nguyễn Thành Vinh', 'Lâm Thắng'], ['91%', 'Nguyễn Thành Vinh', 'Hồng Thanh'], ['91%', 'Nguyễn Thành Vinh', 'Phát La'], ['91%', 'Nguyễn Thành Vinh', 'Hamiza'], ['91%', 'Nguyễn Thành Vinh', 'Long Đẹp Trai'], ['91%', 'Nguyễn Thành Vinh', 'Sỹ Toàn'], ['10%', 'Đinh Tuấn Vũ', 'An Nguy'], ['10%', 'Đinh Tuấn Vũ', 'Kiều Minh Tuấn'], ['10%', 'Đinh Tuấn Vũ', 'Hữu Khang'], ['10%', 'Đinh Tuấn Vũ', 'Will 365'], ['10%', 'Đinh Tuấn Vũ', 'Chu Diệp Anh'], ['10%', 'Đinh Tuấn Vũ', 'Lilly Nguyễn'], ['77%', 'Trần Nhân Kiên', 'Hoàng Yến Chibi'], ['77%', 'Trần Nhân Kiên', 'Quang Đăng'], ['77%', 'Trần Nhân Kiên', 'Trương Thanh Long'], ['50%', 'Swann Dubus', 'Anh Phong le'], ['50%', 'Swann Dubus', 'Lê Quốc Phong'], ['67%', 'Nguyễn Hoàng Duy', 'Ngân Khánh'], ['67%', 'Nguyễn Hoàng Duy', 'Song Luân'], ['67%', 'Nguyễn Hoàng Duy', 'Sĩ Thanh'], ['67%', 'Nguyễn Hoàng Duy', 'Quang Minh'], ['67%', 'Nguyễn Hoàng Duy', 'Hồng Đào'], ['67%', 'Nguyễn Hoàng Duy', 'Liên Bỉnh Phát'], ['71%', 'Victor Vũ', 'Quách Ngọc Ngoan'], ['71%', 'Victor Vũ', 'Ngọc Diệp'], ['71%', 'Victor Vũ', 'Jun Vũ'], ['71%', 'Victor Vũ', 'Thanh Tú'], ['71%', 'Victor Vũ', 'Cường Seven'], ['71%', 'Victor Vũ', 'Trương Thế Vinh'], ['71%', 'Victor Vũ', 'Chiều Xuân'], ['71%', 'Victor Vũ', 'Bùi Bài Bình'], ['71%', 'Victor Vũ', 'Vũ Tuấn Việt'], ['71%', 'Victor Vũ', 'Francois Negret'], ['80%', 'Roland Nguyễn Nhân', 'Thanh Duy'], ['80%', 'Roland Nguyễn Nhân', 'Thanh Tú'], ['80%', 'Roland Nguyễn Nhân', 'Lý Bình'], ['80%', 'Roland Nguyễn Nhân', 'Đàm Phương Linh'], ['80%', 'Roland Nguyễn Nhân', 'Nguyễn Anh Tú'], ['50%', '', 'Tùng Maru'], ['50%', '', 'Lâm Văn Quốc'], ['50%', '', 'Nguyễn Gia Linh'], ['50%', '', 'Võ Ngọc Diệu Minh'], ['50%', '', 'Lê Ngọc Phương Quỳnh'], ['50%', '', 'Hứa Nhật Khánh Uyên'], ['50%', '', 'Mai Ngô'], ['50%', '', 'Quốc Thái'], ['50%', '', 'Nguyễn Anh Tú'], ['50%', '', 'Bích Ngọc'], ['50%', '', 'Khắc Minh'], ['50%', 'Nguyễn Đức Minh', 'Thiên Nguyễn'], ['50%', 'Nguyễn Đức Minh', 'Long Nguyen'], ['50%', '', 'No Actor'], ['50%', 'Cường Ngô', 'Đan Nguyên'], ['50%', 'Cường Ngô', 'Marcus Guilhem'], ['50%', 'Cường Ngô', 'Lilly Nguyễn'], ['50%', 'Cường Ngô', 'Lâm Vissay'], ['50%', 'Bảo Nhân', 'Ninh Dương Lan Ngọc'], ['50%', 'Bảo Nhân', 'Phương Lan'], ['50%', 'Bảo Nhân', 'Thùy Anh'], ['50%', 'Bảo Nhân', 'Thoại Tiên'], ['50%', 'Bảo Nhân', 'Diễm My'], ['50%', 'Bảo Nhân', 'Hứa Minh Đạt'], ['50%', 'Bảo Nhân', 'Lê Xuân Tiền'], ['50%', 'Ken Ochiai', 'Thái Hoà'], ['50%', 'Ken Ochiai', 'Kaity Nguyễn'], ['50%', 'Ken Ochiai', 'Kathy Uyên'], ['50%', 'Ken Ochiai', 'Vân Trang'], ['50%', 'Ken Ochiai', 'Trang Hý'], ['50%', 'Ken Ochiai', 'Trịnh Thảo'], ['50%', 'Ken Ochiai', 'Huy Khánh'], ['50%', 'Ken Ochiai', 'Chí Tài'], ['50%', 'Ken Ochiai', 'NSUT Thành Lộc'], ['50%', 'Ken Ochiai', 'Hồng Vân'], ['50%', 'Ken Ochiai', 'Tuyền Mập'], ['50%', 'Ken Ochiai', 'Chí Tâm'], ['50%', 'Ken Ochiai', 'Tùng Leo'], ['50%', 'Ken Ochiai', 'Lê Bình'], ['50%', 'Hàm Trần', 'Hoàng Yến Chibi']]\n"
     ]
    }
   ],
   "source": [
    "# Create csv and write rows to output file\n",
    "# print(rows)\n",
    "# with open('ScrappingDataTrain.csv','w', newline='',encoding=\"utf-8\") as f_output:\n",
    "#     csv_output = csv.writer(f_output)\n",
    "#     csv_output.writerows(rows)\n",
    "# print('Success')"
   ]
  },
  {
   "cell_type": "code",
   "execution_count": null,
   "metadata": {},
   "outputs": [],
   "source": []
  }
 ],
 "metadata": {
  "kernelspec": {
   "display_name": "Python 3",
   "language": "python",
   "name": "python3"
  },
  "language_info": {
   "codemirror_mode": {
    "name": "ipython",
    "version": 3
   },
   "file_extension": ".py",
   "mimetype": "text/x-python",
   "name": "python",
   "nbconvert_exporter": "python",
   "pygments_lexer": "ipython3",
   "version": "3.6.5"
  }
 },
 "nbformat": 4,
 "nbformat_minor": 2
}
