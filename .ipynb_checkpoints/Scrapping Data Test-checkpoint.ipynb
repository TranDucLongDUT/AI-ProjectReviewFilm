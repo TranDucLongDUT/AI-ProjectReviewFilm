{
 "cells": [
  {
   "cell_type": "code",
   "execution_count": 1,
   "metadata": {},
   "outputs": [],
   "source": [
    "import bs4\n",
    "from urllib.request import urlopen\n",
    "import csv"
   ]
  },
  {
   "cell_type": "code",
   "execution_count": 2,
   "metadata": {},
   "outputs": [],
   "source": [
    "def readUrl(url):\n",
    "    web_data = urlopen(url)\n",
    "    html = web_data.read()\n",
    "    web_data.close()\n",
    "    data = bs4.BeautifulSoup(html, 'html.parser')\n",
    "    return data"
   ]
  },
  {
   "cell_type": "code",
   "execution_count": 3,
   "metadata": {},
   "outputs": [
    {
     "name": "stdout",
     "output_type": "stream",
     "text": [
      "72\n"
     ]
    }
   ],
   "source": [
    "url = \"https://moveek.com/phim-viet-nam-2019/\" \n",
    "soup = readUrl(url) \n",
    "results = soup.findAll('div','panel panel-post panel-movie-grid') \n",
    "print(len(results))"
   ]
  },
  {
   "cell_type": "code",
   "execution_count": 6,
   "metadata": {},
   "outputs": [
    {
     "name": "stdout",
     "output_type": "stream",
     "text": [
      "Lê Thiện Viễn\n"
     ]
    }
   ],
   "source": [
    "#Get Director\n",
    "def getDirector(link):\n",
    "    soup3 = readUrl(link)\n",
    "    resultFilms = soup3.find('div','movie-header-wrapper') \n",
    "    srcDirector = resultFilms.findAll('a')\n",
    "    director = srcDirector[3].getText()\n",
    "    return director;\n",
    "#example\n",
    "link2 = 'https://moveek.com/phim/vu-quy-dai-nao/'\n",
    "director = getDirector(link2)\n",
    "print(director)"
   ]
  },
  {
   "cell_type": "code",
   "execution_count": 8,
   "metadata": {},
   "outputs": [
    {
     "data": {
      "text/plain": [
       "['Ngọc Trinh',\n",
       " 'Việt Hương',\n",
       " 'Chí Tài',\n",
       " 'Diệu Nhi',\n",
       " 'La Thành',\n",
       " 'Huỳnh Lập',\n",
       " 'Lâm Vinh Hải',\n",
       " 'Quang Đại',\n",
       " 'Thủy Tiên',\n",
       " 'Tài Smile']"
      ]
     },
     "execution_count": 8,
     "metadata": {},
     "output_type": "execute_result"
    }
   ],
   "source": [
    "#Get actor\n",
    "def getActor(link):\n",
    "    soup2 = readUrl(link)\n",
    "    resultActorFilms = soup2.find('div','movie-actors panel wrapper m-t')\n",
    "    actors = resultActorFilms.findAll('img')\n",
    "    data = []\n",
    "    for actor in actors:\n",
    "        data.append(actor.get('alt'))\n",
    "    return data\n",
    "#example\n",
    "link3 = 'https://moveek.com/phim/vu-quy-dai-nao'\n",
    "actors = getActor(link3)\n",
    "actors"
   ]
  },
  {
   "cell_type": "code",
   "execution_count": 9,
   "metadata": {},
   "outputs": [
    {
     "name": "stdout",
     "output_type": "stream",
     "text": [
      "https://moveek.com/phim/thanh-pho-ngu-gat/\n",
      "https://moveek.com/phim/3d-cung-tam-ke/\n",
      "https://moveek.com/phim/tao-quay/\n",
      "https://moveek.com/phim/vu-quy-dai-nao/\n",
      "https://moveek.com/phim/cua-lai-vo-bau/\n",
      "https://moveek.com/phim/trang-quynh/\n",
      "https://moveek.com/phim/hai-phuong/\n",
      "https://moveek.com/phim/ngoi-nha-buom-buom/\n",
      "https://moveek.com/phim/lat-mat-4/\n",
      "https://moveek.com/phim/90-ngay-ha/\n",
      "https://moveek.com/phim/vu-khuc-thanh-xuan/\n",
      "https://moveek.com/phim/chi-muoi-ba/\n",
      "https://moveek.com/phim/thien-than-nho-cua-toi/\n",
      "https://moveek.com/phim/thien-duong/\n",
      "https://moveek.com/phim/nguoi-lam-phao-hoa/\n",
      "https://moveek.com/phim/muc-tieu-chet/\n",
      "https://moveek.com/phim/nhan-duyen-anh-mai-ben-em/\n",
      "https://moveek.com/phim/ghen/\n",
      "https://moveek.com/phim/ngoi-khoc-tren-cay/\n",
      "https://moveek.com/phim/moi-tinh-dau-cua-toi/\n",
      "https://moveek.com/phim/ba-dieu-uoc/\n",
      "https://moveek.com/phim/gio-sao-day/\n",
      "https://moveek.com/phim/hanh-phuc-khong-danh-cho-tinh-nhan/\n",
      "https://moveek.com/phim/benh-vien-ma-2/\n",
      "https://moveek.com/phim/mua-tu-dang-yeu-em/\n",
      "https://moveek.com/phim/giac-mo-thu-7/\n",
      "https://moveek.com/phim/boi-sai-gon-nhieu-nang/\n",
      "https://moveek.com/phim/trang-ti/\n",
      "https://moveek.com/phim/yolo/\n",
      "https://moveek.com/phim/su-mang-sinh-tu/\n",
      "https://moveek.com/phim/a-xe-om-va-ga-dung-duong/\n",
      "https://moveek.com/phim/thich-la-nhich/\n",
      "https://moveek.com/phim/da-khuc/\n",
      "https://moveek.com/phim/yeu-anh-nhe-chang-trai/\n",
      "https://moveek.com/phim/nguoi-phan-xu/\n",
      "https://moveek.com/phim/doi-thu/\n",
      "https://moveek.com/phim/gameshow-tu-than/\n",
      "https://moveek.com/phim/ngoc-oi-tuoi-17/\n",
      "https://moveek.com/phim/tro-choi-tu-than/\n",
      "https://moveek.com/phim/son-than/\n",
      "https://moveek.com/phim/nguoi-yeu-oi/\n",
      "https://moveek.com/phim/dong-pham-an-danh/\n",
      "https://moveek.com/phim/the-dreamer/\n",
      "https://moveek.com/phim/dat-rung-phuong-nam/\n",
      "https://moveek.com/phim/nguoi-la-oi-yeu-mat-roi/\n",
      "https://moveek.com/phim/son-tinh-thuy-tinh/\n",
      "https://moveek.com/phim/binh-tinh-ma-yeu/\n",
      "https://moveek.com/phim/uoc-hen-mua-thu/\n",
      "https://moveek.com/phim/578-movies/\n",
      "https://moveek.com/phim/chuyen-xe-hanh-phuc/\n",
      "https://moveek.com/phim/em-tren-18/\n",
      "https://moveek.com/phim/em-dep-em-co-quyen/\n",
      "https://moveek.com/phim/hen-yeu/\n",
      "https://moveek.com/phim/mat-troi-con-o-dau/\n",
      "https://moveek.com/phim/scandal-3/\n",
      "https://moveek.com/phim/50-first-dates-remake/\n",
      "https://moveek.com/phim/sam-hoi/\n",
      "https://moveek.com/phim/thua-me-con-di/\n",
      "https://moveek.com/phim/yeu-em-anh-cham-vao-dau/\n",
      "https://moveek.com/phim/tuyet-voi-khi-o-ben-em/\n",
      "https://moveek.com/phim/mua-he-nam-ay/\n",
      "https://moveek.com/phim/cha-ma/\n",
      "https://moveek.com/phim/nguoi-vo-ba/\n",
      "https://moveek.com/phim/ca-chon-anh-dung-di/\n",
      "https://moveek.com/phim/yeu-nham-dai-ca/\n",
      "https://moveek.com/phim/thang-ngay-thanh-xuan-ay/\n",
      "https://moveek.com/phim/tim-han-vet-seo/\n",
      "https://moveek.com/phim/thay-oi-em-co-bau/\n",
      "https://moveek.com/phim/trai-tim-quai-vat/\n",
      "https://moveek.com/phim/my-nhan-than-sach/\n",
      "https://moveek.com/phim/ra-gieng-anh-cuoi-em/\n",
      "https://moveek.com/phim/bong-hong-lua/\n"
     ]
    }
   ],
   "source": [
    "rows = [];\n",
    "i = 1;\n",
    "rows.append(['Film','Director','Star'])\n",
    "for result in results:\n",
    "    data = result.find('a') \n",
    "    #Get link film\n",
    "    link = 'https://moveek.com'+data.get('href')\n",
    "    #Get data from link\n",
    "    soup2 = readUrl(link)\n",
    "    resultFilms = soup2.find('div','movie-header-wrapper')\n",
    "    print(link)\n",
    "    #1 - Get director\n",
    "    srcDirector = resultFilms.findAll('a')\n",
    "    director = srcDirector[3].getText()\n",
    "    #2 - Get Actors\n",
    "    soup3 = readUrl(link)\n",
    "    resultActorFilms = soup2.find('div','movie-actors panel wrapper m-t')\n",
    "    if(resultActorFilms == None) :\n",
    "        rows.append([i, director,'No actor'])\n",
    "        i = i + 1;\n",
    "    else :\n",
    "        actors = resultActorFilms.findAll('img')\n",
    "        for actor in actors:\n",
    "            rows.append([i,director,actor.get('alt')])\n",
    "            i = i + 1;"
   ]
  },
  {
   "cell_type": "code",
   "execution_count": 10,
   "metadata": {},
   "outputs": [
    {
     "name": "stdout",
     "output_type": "stream",
     "text": [
      "[['Film', 'Director', 'Star'], [1, 'Lương Đình Dũng', 'No actor'], [2, '\\n\\n\\n', 'No actor'], [3, 'Toàn Joshua', 'Hứa Minh Đạt'], [4, 'Toàn Joshua', 'POM'], [5, 'Toàn Joshua', 'Nhi Katy'], [6, 'Toàn Joshua', 'Katleen'], [7, 'Toàn Joshua', 'Hoàng Phúc'], [8, 'Toàn Joshua', 'Tiểu Bảo Quốc'], [9, 'Toàn Joshua', 'Nguyễn Chánh Tín'], [10, 'Toàn Joshua', 'Phương Dung'], [11, 'Toàn Joshua', 'Trung Dân'], [12, 'Toàn Joshua', 'bé Tin Tin'], [13, 'Toàn Joshua', 'Vân Trang'], [14, 'Toàn Joshua', 'Lê Bình'], [15, 'Toàn Joshua', 'Huỳnh Đông'], [16, 'Toàn Joshua', 'Ái Châu'], [17, 'Toàn Joshua', 'Bạch Long'], [18, 'Lê Thiện Viễn', 'Ngọc Trinh'], [19, 'Lê Thiện Viễn', 'Việt Hương'], [20, 'Lê Thiện Viễn', 'Chí Tài'], [21, 'Lê Thiện Viễn', 'Diệu Nhi'], [22, 'Lê Thiện Viễn', 'La Thành'], [23, 'Lê Thiện Viễn', 'Huỳnh Lập'], [24, 'Lê Thiện Viễn', 'Lâm Vinh Hải'], [25, 'Lê Thiện Viễn', 'Quang Đại'], [26, 'Lê Thiện Viễn', 'Thủy Tiên'], [27, 'Lê Thiện Viễn', 'Tài Smile'], [28, 'Nhất Trung', 'Trấn Thành'], [29, 'Nhất Trung', 'Khả Như'], [30, 'Nhất Trung', 'Mạc Văn Khoa'], [31, 'Nhất Trung', 'Lê Giang'], [32, 'Nhất Trung', 'Hữu Châu'], [33, '\\n\\n\\n                                                Chấm điểm\\n                                            \\n', 'Quốc Anh'], [34, '\\n\\n\\n                                                Chấm điểm\\n                                            \\n', 'Tùng Yuki'], [35, '\\n\\n\\n                                                Chấm điểm\\n                                            \\n', 'Công Dương'], [36, '\\n\\n\\n                                                Chấm điểm\\n                                            \\n', 'Khả Như'], [37, '\\n\\n\\n                                                Chấm điểm\\n                                            \\n', 'Nabi Nhã Phương'], [38, '\\n\\n\\n                                                Chấm điểm\\n                                            \\n', 'Trấn Thành'], [39, '\\n\\n\\n                                                Chấm điểm\\n                                            \\n', 'Ngô Thanh Vân'], [40, '\\n\\n\\n                                                Chấm điểm\\n                                            \\n', 'Phan Thanh Nhiên'], [41, '\\n\\n\\n                                                Chấm điểm\\n                                            \\n', 'Mai Cát Vy'], [42, '\\n\\n\\n                                                Chấm điểm\\n                                            \\n', 'Thạch Kim Long'], [43, '\\n\\n\\n', 'No actor'], [44, 'Lý Hải', 'No actor'], [45, 'Huỳnh Tuấn Anh', 'No actor'], [46, '\\n\\n\\n', 'No actor'], [47, 'Khương Ngọc', 'Thu Trang'], [48, 'Khương Ngọc', 'Tiến Luật'], [49, 'Khương Ngọc', 'Khương Ngọc'], [50, 'Khương Ngọc', 'Diệu Nhi'], [51, 'Khương Ngọc', 'B Trần'], [52, 'Khương Ngọc', 'La Thành'], [53, 'Khương Ngọc', 'Lê Quốc Nam'], [54, 'Khương Ngọc', 'Hứa Minh Đạt'], [55, 'Khương Ngọc', 'Hoàng Mèo'], [56, 'Khương Ngọc', 'Hoàng Phi'], [57, 'Khương Ngọc', 'Quách Ngọc Tuyên'], [58, 'Khương Ngọc', 'Thanh Tân'], [59, '\\n\\n\\n', 'No actor'], [60, 'Hạnh Nhân', 'Han Jae Suk'], [61, 'Hạnh Nhân', 'Lý Nhã Kỳ'], [62, 'Hạnh Nhân', 'Kim Tuyến'], [63, 'Hạnh Nhân', 'Jo Han Sun'], [64, 'Huỳnh Tuấn Anh', 'No actor'], [65, 'Cung Le', 'Cung Le'], [66, 'Luk Vân', 'Trịnh Thăng Bình'], [67, 'Luk Vân', 'Midu'], [68, 'Nguyễn Thành Vinh', 'Quỳnh Thư'], [69, 'Nguyễn Thành Vinh', 'Thanh Hương'], [70, 'Nguyễn Thành Vinh', 'Phan Hoàng Kim'], [71, 'Nguyễn Thành Vinh', 'Vy Timy'], [72, 'Nguyễn Thành Vinh', 'Vinh Râu'], [73, 'Nguyễn Thành Vinh', 'Huỳnh Phương'], [74, 'Nguyễn Thành Vinh', 'Thái Vũ'], [75, '\\n\\n\\n', 'No actor'], [76, '\\n\\n\\n', 'No actor'], [77, 'Hwi Sung Kim', 'No actor'], [78, 'Hiếu Romeo', 'No actor'], [79, 'Nam Đoàn', 'Quỳnh Thư'], [80, '\\n\\n\\n', 'No actor'], [81, 'Bùi Nam Yên', 'No actor'], [82, 'Michael Võ', 'Nguyễn Anh Dũng'], [83, 'Michael Võ', 'Trương Thị May'], [84, 'Michael Võ', 'Huỳnh Kiến An'], [85, 'Michael Võ', 'Việt Lâm Thắng'], [86, 'Michael Võ', 'Ginô Tống'], [87, 'Michael Võ', 'Võ Khánh Minh'], [88, 'Michael Võ', 'Xuân Nghị'], [89, 'Michael Võ', 'Bá Đức'], [90, '\\n\\n\\n', 'Ngô Thanh Vân'], [91, 'Ngô Thanh Vân', 'No actor'], [92, 'Phan Minh', 'Soobin Hoàng Sơn'], [93, 'Phan Minh', 'Cường Seven'], [94, 'Phan Minh', 'Tuấn Trần'], [95, 'Phan Minh', 'Băng Di'], [96, 'Phan Minh', 'Khánh Huyền'], [97, 'Phan Minh', 'Xuân Phúc'], [98, '\\n\\n\\n                                                Chấm điểm\\n                                            \\n', 'Trương Minh Cường'], [99, '\\n\\n\\n                                                Chấm điểm\\n                                            \\n', 'Hứa Minh Đạt'], [100, '\\n\\n\\n                                                Chấm điểm\\n                                            \\n', 'Quách Ngọc Tuyên'], [101, '\\n\\n\\n                                                Chấm điểm\\n                                            \\n', 'Nam Long'], [102, '\\n\\n\\n                                                Chấm điểm\\n                                            \\n', 'Kiều Oanh'], [103, '\\n\\n\\n                                                Chấm điểm\\n                                            \\n', 'Hoàng Mập'], [104, '\\n\\n\\n                                                Chấm điểm\\n                                            \\n', 'Triệu An'], [105, '\\n\\n\\n                                                Chấm điểm\\n                                            \\n', 'Nhi Katy'], [106, '\\n\\n\\n                                                Chấm điểm\\n                                            \\n', 'Kỳ Anh'], [107, '\\n\\n\\n                                                Chấm điểm\\n                                            \\n', 'Nguyễn Trần Duy Nhất'], [108, '\\n\\n\\n', 'No actor'], [109, 'Nguyễn Bá Cường', 'No actor'], [110, 'Ngô Thanh Vân', 'No actor'], [111, 'Sĩ Đăng', 'No actor'], [112, 'Nguyễn Quang Huy', 'No actor'], [113, 'Ngô Thanh Vân', 'No actor'], [114, 'Kazuhisa Yusa', 'Katleen Phan Võ'], [115, 'Kazuhisa Yusa', 'Thùy Anh'], [116, 'Kazuhisa Yusa', 'Hoàng Yến Chibi'], [117, 'Kazuhisa Yusa', 'Ngô Kiến Huy'], [118, 'Chu Thiện', 'No actor'], [119, '\\n\\n\\n', 'No actor'], [120, '\\n\\n\\n', 'No actor'], [121, 'Bùi Trung Hải', 'No actor'], [122, 'Trần Thượng Anh', 'No actor'], [123, 'Nguyễn Tiến Thành', 'Lâm Thanh Mỹ'], [124, 'Nguyễn Tiến Thành', 'Nguyễn Thái Sơn'], [125, 'Nguyễn Tiến Thành', 'Huỳnh Kiến An'], [126, 'Nguyễn Tiến Thành', 'Nguyễn Lan Phương'], [127, 'Nguyễn Tiến Thành', 'Phạm Duy Hà Linh'], [128, 'Nguyễn Tiến Thành', 'Lê Nguyễn Bảo Nghi'], [129, 'Nguyễn Tiến Thành', 'Lê Chi'], [130, 'Nguyễn Quang Dũng', 'No actor'], [131, 'Cát Phượng', 'No actor'], [132, 'Victor Vũ', 'No actor'], [133, 'Huỳnh Tuấn Anh', 'Mai Thanh Hà'], [134, 'Huỳnh Tuấn Anh', 'Huy Khánh'], [135, 'Huỳnh Tuấn Anh', 'Nguyễn Quốc Trường Thịnh'], [136, 'Huỳnh Tuấn Anh', 'Hải Triều'], [137, 'Huỳnh Tuấn Anh', 'Phi Ngọc Ánh'], [138, 'Huỳnh Tuấn Anh', 'Mạc Can'], [139, 'Nguyễn Quang Dũng', 'No actor'], [140, 'Lương Đình Dũng', 'No actor'], [141, 'Huỳnh Đông', 'Kiều Minh Tuấn'], [142, 'Huỳnh Đông', 'Cát Phượng'], [143, 'Huỳnh Đông', 'bé Huy Khang'], [144, 'Huỳnh Đông', 'Lâm Vinh Hải'], [145, '\\n\\n\\n', 'Kaity Nguyễn'], [146, '\\n\\n\\n', 'Kiều Minh Tuấn'], [147, 'Nguyễn Hoàng Vũ', 'No actor'], [148, 'Trực Nguyễn', 'No actor'], [149, 'Nguyễn Hữu Tuấn', 'Huỳnh Đông'], [150, 'Nguyễn Hữu Tuấn', 'Bảo Bảo'], [151, 'Nguyễn Hữu Tuấn', 'Mai Cát Vi'], [152, 'Nguyễn Hữu Tuấn', 'Việt Hương'], [153, '\\n\\n\\n', 'No actor'], [154, 'Nguyễn Quang Dũng', 'No actor'], [155, 'Peter Hiền', 'Bình Minh'], [156, 'Peter Hiền', 'Anh Thư'], [157, 'Peter Hiền', 'Khả Ngân'], [158, 'Peter Hiền', 'Việt Hương'], [159, 'Trịnh Đình Lê Minh', 'No actor'], [160, 'Đinh Thái Thụy', 'Hà Việt Dũng'], [161, 'Đinh Thái Thụy', 'Khánh Như'], [162, 'Đinh Thái Thụy', 'Vân Trang'], [163, 'Đinh Thái Thụy', 'Vân Anh'], [164, 'Đinh Thái Thụy', 'Hồng Đào'], [165, 'Luk Vân', 'Harry Lu'], [166, 'Luk Vân', 'B Trần'], [167, 'Nguyễn Phúc Huy Cương', 'Gin Tuấn Kiệt'], [168, 'Nguyễn Phúc Huy Cương', 'Ngọc Trai'], [169, 'Nguyễn Phúc Huy Cương', 'Tuyền Tăng'], [170, 'Nguyễn Phúc Huy Cương', 'Hoài Khánh'], [171, 'Nguyễn Phúc Huy Cương', 'Thanh Phong'], [172, 'Nguyễn Phúc Huy Cương', 'Quang Minh'], [173, 'Bá Vũ', 'No actor'], [174, '\\n\\n\\n                                                Chấm điểm\\n                                            \\n', 'Tran Nu Yên-Khê'], [175, '\\n\\n\\n                                                Chấm điểm\\n                                            \\n', 'Long Le Vu'], [176, '\\n\\n\\n                                                Chấm điểm\\n                                            \\n', 'Maya Mai Thu Huong'], [177, '\\n\\n\\n                                                Chấm điểm\\n                                            \\n', 'My Nguyen Phuong Tra'], [178, '\\n\\n\\n                                                Chấm điểm\\n                                            \\n', 'Như Quỳnh Nguyễn'], [179, '\\n\\n\\n', 'Xuân Phúc'], [180, 'Nguyễn Huy Cường', 'No actor'], [181, 'Bảo Nhân', 'No actor'], [182, 'Lưu Huỳnh', 'Bùi Bài Bình'], [183, 'Lưu Huỳnh', 'Tạ Minh Thảo'], [184, 'Lưu Huỳnh', 'Hoa Thúy'], [185, 'Lưu Huỳnh', 'Xuân Phúc'], [186, 'Lưu Huỳnh', 'Đinh Y Nhung'], [187, 'Đức Thịnh', 'No actor'], [188, 'Tạ Nguyên Hiệp', 'No actor'], [189, 'Nguyễn Phương', 'Nanon Korapat'], [190, 'Nguyễn Phương', 'Việt Linh'], [191, 'Nguyễn Phương', 'Minh Beta'], [192, 'Nguyễn Phương', 'Trúc Anh Burin'], [193, 'Nguyễn Phương', 'Thiên Nga'], [194, 'Nguyễn Phương', 'Alex'], [195, 'Nguyễn Phương', 'Yori'], [196, 'Nguyễn Phương', 'Hà Hương'], [197, 'Nguyễn Phương', 'Ginô Tống'], [198, 'Nguyễn Phương', 'Củ Tỏi'], [199, 'Nguyễn Phương', 'Phi Phụng'], [200, 'Cường Ngô', 'jason ninh cao'], [201, '\\n\\n\\n', 'Trương Ngọc Ánh']]\n"
     ]
    }
   ],
   "source": [
    "# Create csv and write rows to output file\n",
    "# print(rows)\n",
    "with open('ScrappingDataTest.csv','w', newline='',encoding=\"utf-8\") as f_output:\n",
    "    csv_output = csv.writer(f_output)\n",
    "    csv_output.writerows(rows)\n",
    "print('Success')"
   ]
  },
  {
   "cell_type": "code",
   "execution_count": null,
   "metadata": {},
   "outputs": [],
   "source": []
  }
 ],
 "metadata": {
  "kernelspec": {
   "display_name": "Python 3",
   "language": "python",
   "name": "python3"
  },
  "language_info": {
   "codemirror_mode": {
    "name": "ipython",
    "version": 3
   },
   "file_extension": ".py",
   "mimetype": "text/x-python",
   "name": "python",
   "nbconvert_exporter": "python",
   "pygments_lexer": "ipython3",
   "version": "3.6.5"
  }
 },
 "nbformat": 4,
 "nbformat_minor": 2
}
