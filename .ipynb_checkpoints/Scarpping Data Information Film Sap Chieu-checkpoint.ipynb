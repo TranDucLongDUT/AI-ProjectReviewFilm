{
 "cells": [
  {
   "cell_type": "code",
   "execution_count": 1,
   "metadata": {},
   "outputs": [],
   "source": [
    "import bs4\n",
    "from urllib.request import urlopen\n",
    "import csv"
   ]
  },
  {
   "cell_type": "code",
   "execution_count": 2,
   "metadata": {},
   "outputs": [],
   "source": [
    "def readUrl(url):\n",
    "    web_data = urlopen(url)\n",
    "    html = web_data.read()\n",
    "    web_data.close()\n",
    "    data = bs4.BeautifulSoup(html, 'html.parser')\n",
    "    return data"
   ]
  },
  {
   "cell_type": "code",
   "execution_count": 3,
   "metadata": {},
   "outputs": [
    {
     "name": "stdout",
     "output_type": "stream",
     "text": [
      "72\n"
     ]
    }
   ],
   "source": [
    "url = \"https://moveek.com/phim-viet-nam-2019/\" \n",
    "soup = readUrl(url) \n",
    "results = soup.findAll('div','panel panel-post panel-movie-grid') \n",
    "print(len(results))"
   ]
  },
  {
   "cell_type": "code",
   "execution_count": 7,
   "metadata": {},
   "outputs": [
    {
     "name": "stdout",
     "output_type": "stream",
     "text": [
      "Cua Lại Vợ Bầu\n",
      "Nhất Trung\n",
      "Khởi chiếu: 05/02/2019 tại Việt Nam\n",
      "\n",
      "Cua lại vợ bầu kể về câu chuyện của Thành, hành nghề sửa xe máy trong một cửa hàng chuyên độ xe. Thành yêu Khánh, một nhà thiết kế thời trang và xem Khánh là cả cuộc đời mình. Cho đến một ngày, Khánh đột nhiên mang bầu và... đòi chia tay Thành với lý do đứa bé trong bụng không phải là con của anh mà là con người yêu cũ...\n",
      "\n"
     ]
    },
    {
     "data": {
      "text/plain": [
       "['Trấn Thành', 'Khả Như', 'Mạc Văn Khoa', 'Lê Giang', 'Hữu Châu']"
      ]
     },
     "execution_count": 7,
     "metadata": {},
     "output_type": "execute_result"
    }
   ],
   "source": [
    "#Get Name\n",
    "def getName(link):\n",
    "    soup = readUrl(link)\n",
    "    resultFilms = soup.find('div','movie-header-wrapper') \n",
    "    srcName = resultFilms.find('img')\n",
    "    name = srcName.get('alt')\n",
    "    return name;\n",
    "\n",
    "#Get Director\n",
    "def getDirector(link):\n",
    "    soup3 = readUrl(link)\n",
    "    resultFilms = soup3.find('div','movie-header-wrapper') \n",
    "    srcDirector = resultFilms.findAll('p','text-white')\n",
    "    director = srcDirector[len(srcDirector)-1].find('a').getText();\n",
    "    return director;\n",
    "\n",
    "#Get actor\n",
    "def getActor(link):\n",
    "    soup2 = readUrl(link)\n",
    "    resultActorFilms = soup2.find('div','movie-actors panel wrapper m-t')\n",
    "    actors = resultActorFilms.findAll('img')\n",
    "    data = []\n",
    "    for actor in actors:\n",
    "        data.append(actor.get('alt'))\n",
    "    return data\n",
    "\n",
    "#Get dateCreate\n",
    "def getDateCreate(link):\n",
    "    soup = readUrl(link)\n",
    "    resultFilms = soup.find('div','movie-header-wrapper') \n",
    "    srcDateCreate = resultFilms.findAll('p','text-white')\n",
    "    dateCreate = srcDateCreate[len(srcDateCreate)-1].getText();\n",
    "    indexStart = dateCreate.find('Khởi')\n",
    "    indexEnd = dateCreate.find('Việt Nam') \n",
    "    return dateCreate[indexStart:indexEnd+8];\n",
    "\n",
    "#Get description\n",
    "def getDescription(link):\n",
    "    soup = readUrl(link)\n",
    "    resultDescription = soup.find('div','synopsis m-t m-b-xs')\n",
    "    description = resultDescription.getText()\n",
    "    return description\n",
    "\n",
    "#example\n",
    "link2 = 'https://moveek.com/phim/cua-lai-vo-bau/'\n",
    "name = getName(link2)\n",
    "director = getDirector(link2)\n",
    "dateCreate = getDateCreate(link2)\n",
    "description = getDescription(link2)\n",
    "print(name)\n",
    "print(director)\n",
    "print(dateCreate)\n",
    "print(description)\n",
    "actors = getActor(link2)\n",
    "actors \n"
   ]
  },
  {
   "cell_type": "code",
   "execution_count": 10,
   "metadata": {},
   "outputs": [
    {
     "name": "stdout",
     "output_type": "stream",
     "text": [
      "https://moveek.com/phim/thanh-pho-ngu-gat/\n",
      "https://moveek.com/phim/3d-cung-tam-ke/\n",
      "https://moveek.com/phim/tao-quay/\n",
      "https://moveek.com/phim/vu-quy-dai-nao/\n",
      "https://moveek.com/phim/cua-lai-vo-bau/\n",
      "https://moveek.com/phim/trang-quynh/\n",
      "https://moveek.com/phim/hai-phuong/\n",
      "https://moveek.com/phim/ngoi-nha-buom-buom/\n",
      "https://moveek.com/phim/lat-mat-4/\n",
      "https://moveek.com/phim/90-ngay-ha/\n",
      "https://moveek.com/phim/vu-khuc-thanh-xuan/\n",
      "https://moveek.com/phim/chi-muoi-ba/\n",
      "https://moveek.com/phim/thien-than-nho-cua-toi/\n",
      "https://moveek.com/phim/thien-duong/\n",
      "https://moveek.com/phim/nguoi-lam-phao-hoa/\n",
      "https://moveek.com/phim/muc-tieu-chet/\n",
      "https://moveek.com/phim/nhan-duyen-anh-mai-ben-em/\n",
      "https://moveek.com/phim/ghen/\n",
      "https://moveek.com/phim/ngoi-khoc-tren-cay/\n",
      "https://moveek.com/phim/moi-tinh-dau-cua-toi/\n",
      "https://moveek.com/phim/ba-dieu-uoc/\n",
      "https://moveek.com/phim/gio-sao-day/\n",
      "https://moveek.com/phim/hanh-phuc-khong-danh-cho-tinh-nhan/\n",
      "https://moveek.com/phim/benh-vien-ma-2/\n",
      "https://moveek.com/phim/mua-tu-dang-yeu-em/\n",
      "https://moveek.com/phim/giac-mo-thu-7/\n",
      "https://moveek.com/phim/boi-sai-gon-nhieu-nang/\n",
      "https://moveek.com/phim/trang-ti/\n",
      "https://moveek.com/phim/yolo/\n",
      "https://moveek.com/phim/su-mang-sinh-tu/\n",
      "https://moveek.com/phim/a-xe-om-va-ga-dung-duong/\n",
      "https://moveek.com/phim/thich-la-nhich/\n",
      "https://moveek.com/phim/da-khuc/\n",
      "https://moveek.com/phim/yeu-anh-nhe-chang-trai/\n",
      "https://moveek.com/phim/nguoi-phan-xu/\n",
      "https://moveek.com/phim/doi-thu/\n",
      "https://moveek.com/phim/gameshow-tu-than/\n",
      "https://moveek.com/phim/ngoc-oi-tuoi-17/\n",
      "https://moveek.com/phim/tro-choi-tu-than/\n",
      "https://moveek.com/phim/son-than/\n",
      "https://moveek.com/phim/nguoi-yeu-oi/\n",
      "https://moveek.com/phim/dong-pham-an-danh/\n",
      "https://moveek.com/phim/the-dreamer/\n",
      "https://moveek.com/phim/dat-rung-phuong-nam/\n",
      "https://moveek.com/phim/nguoi-la-oi-yeu-mat-roi/\n",
      "https://moveek.com/phim/son-tinh-thuy-tinh/\n",
      "https://moveek.com/phim/binh-tinh-ma-yeu/\n",
      "https://moveek.com/phim/uoc-hen-mua-thu/\n",
      "https://moveek.com/phim/578-movies/\n",
      "https://moveek.com/phim/chuyen-xe-hanh-phuc/\n",
      "https://moveek.com/phim/em-tren-18/\n",
      "https://moveek.com/phim/em-dep-em-co-quyen/\n",
      "https://moveek.com/phim/hen-yeu/\n",
      "https://moveek.com/phim/mat-troi-con-o-dau/\n",
      "https://moveek.com/phim/scandal-3/\n",
      "https://moveek.com/phim/50-first-dates-viet-nam/\n",
      "https://moveek.com/phim/sam-hoi/\n",
      "https://moveek.com/phim/thua-me-con-di/\n",
      "https://moveek.com/phim/yeu-em-anh-cham-vao-dau/\n",
      "https://moveek.com/phim/tuyet-voi-khi-o-ben-em/\n",
      "https://moveek.com/phim/mua-he-nam-ay/\n",
      "https://moveek.com/phim/cha-ma/\n",
      "https://moveek.com/phim/nguoi-vo-ba/\n",
      "https://moveek.com/phim/ca-chon-anh-dung-di/\n",
      "https://moveek.com/phim/yeu-nham-dai-ca/\n",
      "https://moveek.com/phim/thang-ngay-thanh-xuan-ay/\n",
      "https://moveek.com/phim/tim-han-vet-seo/\n",
      "https://moveek.com/phim/thay-oi-em-co-bau/\n",
      "https://moveek.com/phim/trai-tim-quai-vat/\n",
      "https://moveek.com/phim/my-nhan-than-sach/\n",
      "https://moveek.com/phim/ra-gieng-anh-cuoi-em/\n",
      "https://moveek.com/phim/bong-hong-lua/\n"
     ]
    }
   ],
   "source": [
    "rows = [];\n",
    "rows.append(['Film','Director','Star'])\n",
    "for result in results:\n",
    "    data = result.find('a') \n",
    "    \n",
    "    #Get link film\n",
    "    link = 'https://moveek.com'+data.get('href')\n",
    "    #Get data from link\n",
    "    soup = readUrl(link)\n",
    "    resultFilms = soup.find('div','movie-header-wrapper')\n",
    "    print(link) \n",
    "    \n",
    "     #1- Get Namme Film\n",
    "    srcName = resultFilms.find('img')\n",
    "    name = srcName.get('alt')\n",
    "    \n",
    "    #2 - Get director\n",
    "    srcDirector = resultFilms.findAll('p','text-white')\n",
    "    director = srcDirector[len(srcDirector)-1].find('a');\n",
    "    if(director == None):\n",
    "        director = ''\n",
    "    else:\n",
    "        director = director.getText()\n",
    "        \n",
    "    #3 - Get Description\n",
    "    description = soup.find('div','synopsis m-t m-b-xs')\n",
    "    if(description == None):\n",
    "        description = ''\n",
    "    else:\n",
    "        description = description.getText()\n",
    "    \n",
    "    #4 - Get Date Create\n",
    "    srcDateCreate = resultFilms.findAll('p','text-white')\n",
    "    dateCreate = srcDateCreate[len(srcDateCreate)-1].getText();\n",
    "    if(dateCreate == None):\n",
    "        dateCreate = ''\n",
    "    else:\n",
    "        indexStart = dateCreate.find('Khởi')\n",
    "        indexEnd = dateCreate.find('Việt Nam') \n",
    "        dateCreate = dateCreate[indexStart:indexEnd+8];\n",
    "        \n",
    "    #5 - Get Actors\n",
    "    soup3 = readUrl(link)\n",
    "    resultActorFilms = soup.find('div','movie-actors panel wrapper m-t')\n",
    "    if(resultActorFilms == None) :\n",
    "        rows.append([name, director,''+description.strip(),dateCreate,'No actor'])\n",
    "    else :\n",
    "        actors = resultActorFilms.findAll('img')\n",
    "        for actor in actors:\n",
    "            rows.append([name,director,''+description.strip(),dateCreate,actor.get('alt')])\n"
   ]
  },
  {
   "cell_type": "code",
   "execution_count": 12,
   "metadata": {},
   "outputs": [
    {
     "name": "stdout",
     "output_type": "stream",
     "text": [
      "[['Film', 'Director', 'Star'], ['Thành Phố Ngủ Gật', 'Lương Đình Dũng', '\\nLong - một người làm nghề tự do với sở thích tắm mưa, sống trong một khu nhà cũ gần như bỏ hoang với nhiều mảng tranh vẽ dở. Cuộc sống của Long cứ thế lặp đi lặp lại cho đến khi có một nhóm đàn ông cùng người phụ nữ lạ xuất hiện trong khu ngõ. Mọi thứ bỗng bị xáo trộn và trở nên phức tạp vì những nhân vật mới đến…\\n', '', 'No actor'], ['3D Cung Tâm Kế', '', '\\nChưa có thông tin\\n', 'Khởi chiếu: 05/02/2019 tại Việt Nam', 'No actor'], ['Táo Quậy', 'Toàn Joshua', 'Khởi chiếu: 05/02/2019 tại Việt Nam', 'Hứa Minh Đạt'], ['Táo Quậy', 'Toàn Joshua', 'Khởi chiếu: 05/02/2019 tại Việt Nam', 'POM'], ['Táo Quậy', 'Toàn Joshua', 'Khởi chiếu: 05/02/2019 tại Việt Nam', 'Nhi Katy'], ['Táo Quậy', 'Toàn Joshua', 'Khởi chiếu: 05/02/2019 tại Việt Nam', 'Katleen'], ['Táo Quậy', 'Toàn Joshua', 'Khởi chiếu: 05/02/2019 tại Việt Nam', 'Hoàng Phúc'], ['Táo Quậy', 'Toàn Joshua', 'Khởi chiếu: 05/02/2019 tại Việt Nam', 'Tiểu Bảo Quốc'], ['Táo Quậy', 'Toàn Joshua', 'Khởi chiếu: 05/02/2019 tại Việt Nam', 'Nguyễn Chánh Tín'], ['Táo Quậy', 'Toàn Joshua', 'Khởi chiếu: 05/02/2019 tại Việt Nam', 'Phương Dung'], ['Táo Quậy', 'Toàn Joshua', 'Khởi chiếu: 05/02/2019 tại Việt Nam', 'Trung Dân'], ['Táo Quậy', 'Toàn Joshua', 'Khởi chiếu: 05/02/2019 tại Việt Nam', 'bé Tin Tin'], ['Táo Quậy', 'Toàn Joshua', 'Khởi chiếu: 05/02/2019 tại Việt Nam', 'Vân Trang'], ['Táo Quậy', 'Toàn Joshua', 'Khởi chiếu: 05/02/2019 tại Việt Nam', 'Lê Bình'], ['Táo Quậy', 'Toàn Joshua', 'Khởi chiếu: 05/02/2019 tại Việt Nam', 'Huỳnh Đông'], ['Táo Quậy', 'Toàn Joshua', 'Khởi chiếu: 05/02/2019 tại Việt Nam', 'Ái Châu'], ['Táo Quậy', 'Toàn Joshua', 'Khởi chiếu: 05/02/2019 tại Việt Nam', 'Bạch Long'], ['Vu Quy Đại Náo', 'Lê Thiện Viễn', 'Khởi chiếu: 05/02/2019 tại Việt Nam', 'Ngọc Trinh'], ['Vu Quy Đại Náo', 'Lê Thiện Viễn', 'Khởi chiếu: 05/02/2019 tại Việt Nam', 'Việt Hương'], ['Vu Quy Đại Náo', 'Lê Thiện Viễn', 'Khởi chiếu: 05/02/2019 tại Việt Nam', 'Chí Tài'], ['Vu Quy Đại Náo', 'Lê Thiện Viễn', 'Khởi chiếu: 05/02/2019 tại Việt Nam', 'Diệu Nhi'], ['Vu Quy Đại Náo', 'Lê Thiện Viễn', 'Khởi chiếu: 05/02/2019 tại Việt Nam', 'La Thành'], ['Vu Quy Đại Náo', 'Lê Thiện Viễn', 'Khởi chiếu: 05/02/2019 tại Việt Nam', 'Huỳnh Lập'], ['Vu Quy Đại Náo', 'Lê Thiện Viễn', 'Khởi chiếu: 05/02/2019 tại Việt Nam', 'Lâm Vinh Hải'], ['Vu Quy Đại Náo', 'Lê Thiện Viễn', 'Khởi chiếu: 05/02/2019 tại Việt Nam', 'Quang Đại'], ['Vu Quy Đại Náo', 'Lê Thiện Viễn', 'Khởi chiếu: 05/02/2019 tại Việt Nam', 'Thủy Tiên'], ['Vu Quy Đại Náo', 'Lê Thiện Viễn', 'Khởi chiếu: 05/02/2019 tại Việt Nam', 'Tài Smile'], ['Cua Lại Vợ Bầu', 'Nhất Trung', 'Khởi chiếu: 05/02/2019 tại Việt Nam', 'Trấn Thành'], ['Cua Lại Vợ Bầu', 'Nhất Trung', 'Khởi chiếu: 05/02/2019 tại Việt Nam', 'Khả Như'], ['Cua Lại Vợ Bầu', 'Nhất Trung', 'Khởi chiếu: 05/02/2019 tại Việt Nam', 'Mạc Văn Khoa'], ['Cua Lại Vợ Bầu', 'Nhất Trung', 'Khởi chiếu: 05/02/2019 tại Việt Nam', 'Lê Giang'], ['Cua Lại Vợ Bầu', 'Nhất Trung', 'Khởi chiếu: 05/02/2019 tại Việt Nam', 'Hữu Châu'], ['Trạng Quỳnh', 'Đức Thịnh', 'Khởi chiếu: 05/02/2019 tại Việt Nam', 'Quốc Anh'], ['Trạng Quỳnh', 'Đức Thịnh', 'Khởi chiếu: 05/02/2019 tại Việt Nam', 'Tùng Yuki'], ['Trạng Quỳnh', 'Đức Thịnh', 'Khởi chiếu: 05/02/2019 tại Việt Nam', 'Công Dương'], ['Trạng Quỳnh', 'Đức Thịnh', 'Khởi chiếu: 05/02/2019 tại Việt Nam', 'Khả Như'], ['Trạng Quỳnh', 'Đức Thịnh', 'Khởi chiếu: 05/02/2019 tại Việt Nam', 'Nabi Nhã Phương'], ['Trạng Quỳnh', 'Đức Thịnh', 'Khởi chiếu: 05/02/2019 tại Việt Nam', 'Trấn Thành'], ['Hai Phượng', 'Lê Văn Kiệt', 'Khởi chiếu: 22/02/2019 tại Việt Nam', 'Ngô Thanh Vân'], ['Hai Phượng', 'Lê Văn Kiệt', 'Khởi chiếu: 22/02/2019 tại Việt Nam', 'Phan Thanh Nhiên'], ['Hai Phượng', 'Lê Văn Kiệt', 'Khởi chiếu: 22/02/2019 tại Việt Nam', 'Mai Cát Vy'], ['Hai Phượng', 'Lê Văn Kiệt', 'Khởi chiếu: 22/02/2019 tại Việt Nam', 'Thạch Kim Long'], ['Ngôi Nhà Bươm Bướm', '', '\\nChưa có thông tin\\n', '', 'No actor'], ['Lật Mặt 4', 'Lý Hải', '\\nChưa có thông tin\\n', '', 'No actor'], ['90 Ngày Hạ', 'Huỳnh Tuấn Anh', '\\nLấy cảm hứng từ hình tượng của nhưng giai nhân tài sắc một thời của Sài Gòn ngày cũ : như Thẫm Thuý Hằng, Thanh Nga, Kim Cương . . .  Với những biến cố nghiệt ngã, những đoạn tình nồng nàn của người xưa bộ phim khai thác sâu sắc thân phận con người và đời sống của Sài Gòn 1970\\n', '', 'No actor'], ['Vũ Khúc Thanh Xuân', '', '\\nĐây là dự án Remake từ phim điện ảnh đình đám và vô cùng ăn khách của đạo diễn Hà Cảnh : “Forever Young- Cây Dành Dành Nở Hoa”\\n', '', 'No actor'], ['Chị Mười Ba', 'Khương Ngọc', 'Khởi chiếu: 12/04/2019 tại Việt Nam', 'Thu Trang'], ['Chị Mười Ba', 'Khương Ngọc', 'Khởi chiếu: 12/04/2019 tại Việt Nam', 'Tiến Luật'], ['Chị Mười Ba', 'Khương Ngọc', 'Khởi chiếu: 12/04/2019 tại Việt Nam', 'Khương Ngọc'], ['Chị Mười Ba', 'Khương Ngọc', 'Khởi chiếu: 12/04/2019 tại Việt Nam', 'Diệu Nhi'], ['Chị Mười Ba', 'Khương Ngọc', 'Khởi chiếu: 12/04/2019 tại Việt Nam', 'B Trần'], ['Chị Mười Ba', 'Khương Ngọc', 'Khởi chiếu: 12/04/2019 tại Việt Nam', 'La Thành'], ['Chị Mười Ba', 'Khương Ngọc', 'Khởi chiếu: 12/04/2019 tại Việt Nam', 'Lê Quốc Nam'], ['Chị Mười Ba', 'Khương Ngọc', 'Khởi chiếu: 12/04/2019 tại Việt Nam', 'Hứa Minh Đạt'], ['Chị Mười Ba', 'Khương Ngọc', 'Khởi chiếu: 12/04/2019 tại Việt Nam', 'Hoàng Mèo'], ['Chị Mười Ba', 'Khương Ngọc', 'Khởi chiếu: 12/04/2019 tại Việt Nam', 'Hoàng Phi'], ['Chị Mười Ba', 'Khương Ngọc', 'Khởi chiếu: 12/04/2019 tại Việt Nam', 'Quách Ngọc Tuyên'], ['Chị Mười Ba', 'Khương Ngọc', 'Khởi chiếu: 12/04/2019 tại Việt Nam', 'Thanh Tân'], ['Thiên Thần Nhỏ Của Tôi', '', '\\nThiên Thần Nhỏ Của Tôi là câu chuyện đượm buồn về cuộc gặp gỡ và chia tay của đôi bạn Kha – Hồng Hoa khi Kha cùng bố mẹ và anh trai chuyển đến ngôi nhà mới do bố Kha được cấp. Kha - nhân vật chính - là cậu bé mười tuổi, thích đọc sách, yêu thiên nhiên, có con sáo biết nói... Hồng Hoa là cô bé tám tuổi ngây thơ, duyên dáng...  Vốn có thời gian sống với bà ngoại ở quê từ nhỏ, Kha nhanh chóng yêu thích vườn cây phía sau nhà mới, biến nó thành “vương quốc bí mật” riêng cho đến ngày có “cô bé lạ mặt” chui vào khu vườn...\\n', 'Khởi chiếu: 31/05/2019 tại Việt Nam', 'No actor'], ['Thiên Đường', 'Hạnh Nhân', '', 'Han Jae Suk'], ['Thiên Đường', 'Hạnh Nhân', '', 'Lý Nhã Kỳ'], ['Thiên Đường', 'Hạnh Nhân', '', 'Kim Tuyến'], ['Thiên Đường', 'Hạnh Nhân', '', 'Jo Han Sun'], ['Người Làm Pháo Hoa', 'Huỳnh Tuấn Anh', '\\nChưa có thông tin\\n', '', 'No actor'], ['Mục Tiêu Chết', 'Cung Le', '', 'Cung Le'], ['Nhân Duyên: Anh Mãi Bên Em', 'Luk Vân', '', 'Trịnh Thăng Bình'], ['Nhân Duyên: Anh Mãi Bên Em', 'Luk Vân', '', 'Midu'], ['Ghen', 'Nguyễn Thành Vinh', '', 'Quỳnh Thư'], ['Ghen', 'Nguyễn Thành Vinh', '', 'Thanh Hương'], ['Ghen', 'Nguyễn Thành Vinh', '', 'Phan Hoàng Kim'], ['Ghen', 'Nguyễn Thành Vinh', '', 'Vy Timy'], ['Ghen', 'Nguyễn Thành Vinh', '', 'Vinh Râu'], ['Ghen', 'Nguyễn Thành Vinh', '', 'Huỳnh Phương'], ['Ghen', 'Nguyễn Thành Vinh', '', 'Thái Vũ'], ['Ngồi Khóc Trên Cây', '', '\\nNgồi khóc trên cây sẽ là tiểu thuyết thứ 3 của Nguyễn Nhật Anh được chuyển thể thành phim điện ảnh. Phim dự kiến được bấm máy vào tháng 9.\\n', '', 'No actor'], ['Mối Tình Đầu Của Tôi', '', '\\nChưa có thông tin\\n', '', 'No actor'], ['Ba Điều Ước', 'Hwi Sung Kim', '\\nChưa có thông tin\\n', '', 'No actor'], ['Giờ Sao Đây', 'Hiếu Romeo', '\\nChưa có thông tin\\n', '', 'No actor'], ['Hạnh Phúc Không Dành Cho Tình Nhân', 'Nam Đoàn', '', 'Quỳnh Thư'], ['Bệnh Viện Ma 2', '', '\\nChưa có thông tin\\n', '', 'No actor'], ['Mùa Tử Đằng Yêu Em', 'Bùi Nam Yên', '\\nMùa Xuân, phố núi ngập tràn trong những cánh mai anh đào, và đôi má ửng hồng của Nhã Ca đã khiến Lam say đắm. Tình yêu từ đó nảy nở, như những ngọn lộc non, tươi xanh thanh xuân của đôi lứa. Mùa hè, trời trong như mật ngọt. Trái tim của Nhã Ca được bao bọc bằng sự tha thiết của người yêu. Mặc kệ cha mẹ ngăn cấm, Lam vẫn bên Nhã Ca, thề nguyền bên cô mãi mãi. Tình yêu nóng bỏng và say mê.\\r\\nMùa thu rực rỡ, dưới những vòm hoa bát ngát, Nhã Ca trao anh nụ hôn, trao cho anh hơi thở, quấn đời nhau bằng sự chân thật mà mãnh liệt. Họ cùng chờ mùa tử đằng trên đỉnh núi, đến nơi hai ngôi mộ từ xa xưa, để được những linh hồn cũ tác thành. Và cũng mùa thu ấy, khi Lam chở Nhã Ca về, họ gặp một tai nạn xe nguy hiểm, khiến Nhã Ca sống đời thực vật, trong nỗi tuyệt vọng của Lam.\\r\\nNhững ngày ảm đạm đến, sương mù phủ tràn khắp chốn, Đà Lạt vào đông tịch liêu, giá buốt. Lam từng ngày sống bằng ký ức. Anh lại chờ tử đằng nở, lại co ro lạc lõng đi lên đỉnh núi, rải kỷ vật tình yêu của mình và Nhã Ca, mong một lần gặp lại nàng, dù nàng chỉ là một linh hồn đi nữa.\\n', '', 'No actor'], ['Giấc Mơ Thứ 7', 'Michael Võ', '', 'Nguyễn Anh Dũng'], ['Giấc Mơ Thứ 7', 'Michael Võ', '', 'Trương Thị May'], ['Giấc Mơ Thứ 7', 'Michael Võ', '', 'Huỳnh Kiến An'], ['Giấc Mơ Thứ 7', 'Michael Võ', '', 'Việt Lâm Thắng'], ['Giấc Mơ Thứ 7', 'Michael Võ', '', 'Ginô Tống'], ['Giấc Mơ Thứ 7', 'Michael Võ', '', 'Võ Khánh Minh'], ['Giấc Mơ Thứ 7', 'Michael Võ', '', 'Xuân Nghị'], ['Giấc Mơ Thứ 7', 'Michael Võ', '', 'Bá Đức'], ['Bởi Sài Gòn Nhiều Nắng', '', '', 'Ngô Thanh Vân'], ['Trạng Tí', 'Ngô Thanh Vân', '\\nKhông chỉ ra mắt phần đầu tiên vào dịp Tết Nguyên đán 2019, Trạng Tí sẽ là sequel của nhà sản xuất cho nhiều phần vào những dịp hè hoặc Tết Nguyên đán.\\n', '', 'No actor'], ['Yolo', 'Phan Minh', '', 'Soobin Hoàng Sơn'], ['Yolo', 'Phan Minh', '', 'Cường Seven'], ['Yolo', 'Phan Minh', '', 'Tuấn Trần'], ['Yolo', 'Phan Minh', '', 'Băng Di'], ['Yolo', 'Phan Minh', '', 'Khánh Huyền'], ['Yolo', 'Phan Minh', '', 'Xuân Phúc'], ['Sứ Mạng Sinh Tử', 'Trần Bình', '', 'Trương Minh Cường'], ['Sứ Mạng Sinh Tử', 'Trần Bình', '', 'Hứa Minh Đạt'], ['Sứ Mạng Sinh Tử', 'Trần Bình', '', 'Quách Ngọc Tuyên'], ['Sứ Mạng Sinh Tử', 'Trần Bình', '', 'Nam Long'], ['Sứ Mạng Sinh Tử', 'Trần Bình', '', 'Kiều Oanh'], ['Sứ Mạng Sinh Tử', 'Trần Bình', '', 'Hoàng Mập'], ['Sứ Mạng Sinh Tử', 'Trần Bình', '', 'Triệu An'], ['Sứ Mạng Sinh Tử', 'Trần Bình', '', 'Nhi Katy'], ['Sứ Mạng Sinh Tử', 'Trần Bình', '', 'Kỳ Anh'], ['Sứ Mạng Sinh Tử', 'Trần Bình', '', 'Nguyễn Trần Duy Nhất'], ['Ả Xe Ôm và Gã Đứng Đường', '', '\\nCâu chuyện kể về một ả xe ôm và gã đứng đường. Cuộc đời của cả hai bắt đầu như không hề có mối liên quan nào. Gã đứng đường với thân phận và thực tại rõ ràng, cứ từng ngày đi trên con đường đời chán nản không lối thoát của mình. Ả xe ôm có thân phận được che giấu với nhiều uẩn khuất, mỗi lúc một rõ ràng hơn qua những bước đi từ hiện tại ngược về quá khứ.\\n', '', 'No actor'], ['Thích Là Nhích', 'Nguyễn Bá Cường', '\\nPhim điện ảnh THÍCH LÀ NHÍCH - một bộ phim với chủ đề học đường võ thuật hứa hẹn sẽ mở ra một trào lưu phim võ thuật Việt Nam.\\n', '', 'No actor'], ['Dạ Khúc', 'Ngô Thanh Vân', '\\nChưa có thông tin\\n', '', 'No actor'], ['Yêu Anh Nhé! Chàng Trai', 'Sĩ Đăng', '\\nMột phim hài tình huống dành cho cộng đồng LGBT.\\n', '', 'No actor'], ['Người Phán Xử', 'Nguyễn Quang Huy', '\\nChuyển thể từ phim truyền hình cùng tên - Người Phán Xử.\\n', '', 'No actor'], ['Đối Thủ', 'Ngô Thanh Vân', '\\nChưa có thông tin\\n', '', 'No actor'], ['Gameshow Tử Thần', 'Kazuhisa Yusa', '', 'Katleen Phan Võ'], ['Gameshow Tử Thần', 'Kazuhisa Yusa', '', 'Thùy Anh'], ['Gameshow Tử Thần', 'Kazuhisa Yusa', '', 'Hoàng Yến Chibi'], ['Gameshow Tử Thần', 'Kazuhisa Yusa', '', 'Ngô Kiến Huy'], ['Ngốc Ơi Tuổi 17', 'Chu Thiện', '\\nKịch bản được chuyển thể từ truyện ngắn Võ Anh Thơ.\\n', '', 'No actor'], ['Trò Chơi Tử Thần', '', '\\nChưa có thông tin\\n', '', 'No actor'], ['Sơn Thần', '', '\\nSơn Thần là dự án phim hoạt hình 3D chất lượng cao do Việt Nam sản xuất, được đầu tư công phu nhất từ trước tới nay, phim có thời lượng 90 phút dự kiến ra rạp vào năm 2018. Nội dung phim được phóng tác dựa trên câu truyện cổ tích “Sơn Tinh – Thủy Tinh”. Bộ phim được thực hiện hoàn toàn trên máy tính và là lần đầu tiên áp dụng thử nghiệm phương pháp sản xuất công nghiệp hóa phim hoạt hình 3D hiện đại tại Việt Nam.\\n', '', 'No actor'], ['Người Yêu Ơi', 'Bùi Trung Hải', '\\nNhững thân phận tình yêu của người H’Mong.\\n', '', 'No actor'], ['Đồng Phạm Ẩn Danh', 'Trần Thượng Anh', '\\nChưa có thông tin\\n', '', 'No actor'], ['The Dreamer', 'Nguyễn Tiến Thành', '', 'Lâm Thanh Mỹ'], ['The Dreamer', 'Nguyễn Tiến Thành', '', 'Nguyễn Thái Sơn'], ['The Dreamer', 'Nguyễn Tiến Thành', '', 'Huỳnh Kiến An'], ['The Dreamer', 'Nguyễn Tiến Thành', '', 'Nguyễn Lan Phương'], ['The Dreamer', 'Nguyễn Tiến Thành', '', 'Phạm Duy Hà Linh'], ['The Dreamer', 'Nguyễn Tiến Thành', '', 'Lê Nguyễn Bảo Nghi'], ['The Dreamer', 'Nguyễn Tiến Thành', '', 'Lê Chi'], ['Đất Rừng Phương Nam', 'Nguyễn Quang Dũng', '\\nPhiên bản điện ảnh của Đất Phương Nam.\\n', '', 'No actor'], ['Người Lạ Ơi, Yêu Mất Rồi!', 'Cát Phượng', '\\nChưa có thông tin\\n', '', 'No actor'], ['Sơn Tinh - Thủy Tinh', 'Victor Vũ', '\\nChưa có thông tin\\n', '', 'No actor'], ['Bình Tĩnh Mà Yêu', 'Huỳnh Tuấn Anh', '', 'Mai Thanh Hà'], ['Bình Tĩnh Mà Yêu', 'Huỳnh Tuấn Anh', '', 'Huy Khánh'], ['Bình Tĩnh Mà Yêu', 'Huỳnh Tuấn Anh', '', 'Nguyễn Quốc Trường Thịnh'], ['Bình Tĩnh Mà Yêu', 'Huỳnh Tuấn Anh', '', 'Hải Triều'], ['Bình Tĩnh Mà Yêu', 'Huỳnh Tuấn Anh', '', 'Phi Ngọc Ánh'], ['Bình Tĩnh Mà Yêu', 'Huỳnh Tuấn Anh', '', 'Mạc Can'], ['Ước Hẹn Mùa Thu', 'Nguyễn Quang Dũng', '\\nChưa có thông tin\\n', '', 'No actor'], ['578 Movies', 'Lương Đình Dũng', '\\n578 là Bộ phim kể về câu chuyện của một người lái xe container và cô con gái nhỏ của mình. Cuộc sống của 2 cha con trên chiếc xe màu đỏ cứ êm đềm diễn ra cho đến ngày cô bé xa cha đi học. Mọi thứ bỗng đảo lộn khi người cha nhận được tin cô con gái của mình bị trầm cảm nặng. Càng đau đớn hơn khi ông biết rằng con mình bị xâm hại. Trên hành trình đi tìm công lý cho con, những màn đấu trí căng thẳng, những cuộc rượt đuổi khốc liệt và rồi người cha chợt nhận ra rằng ông không chỉ đối đầu với một kẻ xâm hại.\\n', '', 'No actor'], ['Chuyến Xe Hạnh Phúc', 'Huỳnh Đông', '', 'Kiều Minh Tuấn'], ['Chuyến Xe Hạnh Phúc', 'Huỳnh Đông', '', 'Cát Phượng'], ['Chuyến Xe Hạnh Phúc', 'Huỳnh Đông', '', 'bé Huy Khang'], ['Chuyến Xe Hạnh Phúc', 'Huỳnh Đông', '', 'Lâm Vinh Hải'], ['Em Trên 18', '', '', 'Kaity Nguyễn'], ['Em Trên 18', '', '', 'Kiều Minh Tuấn'], ['Em Đẹp Em Có Quyền', 'Nguyễn Hoàng Vũ', '\\nXoay quanh bốn nhân vật trung tâm, mỗi người một hoàn cảnh khác nhau, nhưng điểm chung là những người rất đỗi cô đơn trên mạng. Họ dẫn dắt người khác vào những câu chuyện thêu dệt nhằm nổi tiếng hơn, đôi khi đạp lên người khác một cách “bất chấp”.\\n', '', 'No actor'], ['Hẹn Yêu', 'Trực Nguyễn', '\\nChưa có thông tin\\n', '', 'No actor'], ['Mặt Trời, Con Ở Đâu', 'Nguyễn Hữu Tuấn', '', 'Huỳnh Đông'], ['Mặt Trời, Con Ở Đâu', 'Nguyễn Hữu Tuấn', '', 'Bảo Bảo'], ['Mặt Trời, Con Ở Đâu', 'Nguyễn Hữu Tuấn', '', 'Mai Cát Vi'], ['Mặt Trời, Con Ở Đâu', 'Nguyễn Hữu Tuấn', '', 'Việt Hương'], ['Scandal 3', '', '\\nChưa có thông tin\\n', '', 'No actor'], ['50 First Dates Việt Nam', 'Nguyễn Quang Dũng', '\\nChưa có thông tin\\n', '', 'No actor'], ['Sám Hối', 'Peter Hiền', '', 'Bình Minh'], ['Sám Hối', 'Peter Hiền', '', 'Anh Thư'], ['Sám Hối', 'Peter Hiền', '', 'Khả Ngân'], ['Sám Hối', 'Peter Hiền', '', 'Việt Hương'], ['Thưa Mẹ Con Đi', 'Trịnh Đình Lê Minh', '\\nChàng thanh niên đứng giữa lựa chọn tương lai là cuộc sống cá nhân ở nước Mỹ, hay trở về Việt Nam với những ràng buộc trong đại gia đình.\\n', '', 'No actor'], ['Yêu Em Anh Chạm Vào Đâu', 'Đinh Thái Thụy', '', 'Hà Việt Dũng'], ['Yêu Em Anh Chạm Vào Đâu', 'Đinh Thái Thụy', '', 'Khánh Như'], ['Yêu Em Anh Chạm Vào Đâu', 'Đinh Thái Thụy', '', 'Vân Trang'], ['Yêu Em Anh Chạm Vào Đâu', 'Đinh Thái Thụy', '', 'Vân Anh'], ['Yêu Em Anh Chạm Vào Đâu', 'Đinh Thái Thụy', '', 'Hồng Đào'], ['Tuyệt Vời Khi Ở Bên Em', 'Luk Vân', '', 'Harry Lu'], ['Tuyệt Vời Khi Ở Bên Em', 'Luk Vân', '', 'B Trần'], ['Mùa Hè Năm Ấy', 'Nguyễn Phúc Huy Cương', '', 'Gin Tuấn Kiệt'], ['Mùa Hè Năm Ấy', 'Nguyễn Phúc Huy Cương', '', 'Ngọc Trai'], ['Mùa Hè Năm Ấy', 'Nguyễn Phúc Huy Cương', '', 'Tuyền Tăng'], ['Mùa Hè Năm Ấy', 'Nguyễn Phúc Huy Cương', '', 'Hoài Khánh'], ['Mùa Hè Năm Ấy', 'Nguyễn Phúc Huy Cương', '', 'Thanh Phong'], ['Mùa Hè Năm Ấy', 'Nguyễn Phúc Huy Cương', '', 'Quang Minh'], ['Cha Ma', 'Bá Vũ', '\\nDựa theo truyện ngắn của HOÀNG ANH TÚ\\n', '', 'No actor'], ['Người Vợ Ba', 'Ash Mayfair', '', 'Tran Nu Yên-Khê'], ['Người Vợ Ba', 'Ash Mayfair', '', 'Long Le Vu'], ['Người Vợ Ba', 'Ash Mayfair', '', 'Maya Mai Thu Huong'], ['Người Vợ Ba', 'Ash Mayfair', '', 'My Nguyen Phuong Tra'], ['Người Vợ Ba', 'Ash Mayfair', '', 'Như Quỳnh Nguyễn'], ['Cà Chớn, Anh Đừng Đi', '', '', 'Xuân Phúc'], ['Yêu Nhầm Đại Ca', 'Nguyễn Huy Cường', '\\nChưa có thông tin\\n', '', 'No actor'], ['Tháng Ngày Thanh Xuân Ấy', 'Bảo Nhân', '\\nChưa có thông tin\\n', '', 'No actor'], ['Tim Hằn Vết Sẹo', 'Lưu Huỳnh', '', 'Bùi Bài Bình'], ['Tim Hằn Vết Sẹo', 'Lưu Huỳnh', '', 'Tạ Minh Thảo'], ['Tim Hằn Vết Sẹo', 'Lưu Huỳnh', '', 'Hoa Thúy'], ['Tim Hằn Vết Sẹo', 'Lưu Huỳnh', '', 'Xuân Phúc'], ['Tim Hằn Vết Sẹo', 'Lưu Huỳnh', '', 'Đinh Y Nhung'], ['Thầy Ơi! Em Có Bầu', 'Đức Thịnh', '\\nPhải biết làm chủ bản thân trong quan hệ yêu đương, tình cảm.\\n', '', 'No actor'], ['Trái Tim Quái Vật', 'Tạ Nguyên Hiệp', '\\nMột vụ án mạng, một gia đình bị truy nã, một hung thủ đứng đằng sau tất cả.\\n', '', 'No actor'], ['Mỹ Nhân Thần Sách', 'Nguyễn Phương', '', 'Nanon Korapat'], ['Mỹ Nhân Thần Sách', 'Nguyễn Phương', '', 'Việt Linh'], ['Mỹ Nhân Thần Sách', 'Nguyễn Phương', '', 'Minh Beta'], ['Mỹ Nhân Thần Sách', 'Nguyễn Phương', '', 'Trúc Anh Burin'], ['Mỹ Nhân Thần Sách', 'Nguyễn Phương', '', 'Thiên Nga'], ['Mỹ Nhân Thần Sách', 'Nguyễn Phương', '', 'Alex'], ['Mỹ Nhân Thần Sách', 'Nguyễn Phương', '', 'Yori'], ['Mỹ Nhân Thần Sách', 'Nguyễn Phương', '', 'Hà Hương'], ['Mỹ Nhân Thần Sách', 'Nguyễn Phương', '', 'Ginô Tống'], ['Mỹ Nhân Thần Sách', 'Nguyễn Phương', '', 'Củ Tỏi'], ['Mỹ Nhân Thần Sách', 'Nguyễn Phương', '', 'Phi Phụng'], ['Ra Giêng Anh Cưới Em', 'Cường Ngô', '', 'jason ninh cao'], ['Bông Hồng Lửa', '', '', 'Trương Ngọc Ánh']]\n"
     ]
    }
   ],
   "source": [
    "# Create csv and write rows to output file\n",
    "print(rows)\n",
    "# with open('ScrappingDataFullTest.csv','w', newline='',encoding=\"utf-8\") as f_output:\n",
    "#     csv_output = csv.writer(f_output)\n",
    "#     csv_output.writerows(rows)\n",
    "# print('Success')"
   ]
  },
  {
   "cell_type": "code",
   "execution_count": null,
   "metadata": {},
   "outputs": [],
   "source": []
  }
 ],
 "metadata": {
  "kernelspec": {
   "display_name": "Python 3",
   "language": "python",
   "name": "python3"
  },
  "language_info": {
   "codemirror_mode": {
    "name": "ipython",
    "version": 3
   },
   "file_extension": ".py",
   "mimetype": "text/x-python",
   "name": "python",
   "nbconvert_exporter": "python",
   "pygments_lexer": "ipython3",
   "version": "3.6.5"
  }
 },
 "nbformat": 4,
 "nbformat_minor": 2
}
