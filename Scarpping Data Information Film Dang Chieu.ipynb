{
 "cells": [
  {
   "cell_type": "code",
   "execution_count": 15,
   "metadata": {},
   "outputs": [],
   "source": [
    "import bs4\n",
    "from urllib.request import urlopen\n",
    "import csv\n",
    "import dateutil.parser as dparser"
   ]
  },
  {
   "cell_type": "code",
   "execution_count": 16,
   "metadata": {},
   "outputs": [],
   "source": [
    "def readUrl(url):\n",
    "    web_data = urlopen(url)\n",
    "    html = web_data.read()\n",
    "    web_data.close()\n",
    "    data = bs4.BeautifulSoup(html, 'html.parser')\n",
    "    return data"
   ]
  },
  {
   "cell_type": "code",
   "execution_count": 17,
   "metadata": {},
   "outputs": [
    {
     "name": "stdout",
     "output_type": "stream",
     "text": [
      "43\n"
     ]
    }
   ],
   "source": [
    "url = \"https://moveek.com/phim-viet-nam/\" \n",
    "soup = readUrl(url) \n",
    "results = soup.findAll('div','panel panel-post panel-movie-grid') \n",
    "print(len(results))"
   ]
  },
  {
   "cell_type": "code",
   "execution_count": 34,
   "metadata": {},
   "outputs": [
    {
     "name": "stdout",
     "output_type": "stream",
     "text": [
      "Nguyễn Quang Tuyến\n"
     ]
    }
   ],
   "source": [
    "#Get Name\n",
    "def getName(link):\n",
    "    soup = readUrl(link)\n",
    "    resultFilms = soup.find('div','movie-header-wrapper') \n",
    "    srcName = resultFilms.find('img')\n",
    "    name = srcName.get('alt')\n",
    "    return name;\n",
    "\n",
    "#Get percent \n",
    "def getPercent(link):\n",
    "    soup2 = readUrl(link)\n",
    "    resultFilms = soup2.find('div','movie-header-wrapper')\n",
    "    #Get percents\n",
    "    percent = resultFilms.find('div','action chart-pie chart-pie-small pull-left') \n",
    "    return percent.getText();\n",
    "\n",
    "#Get Director \n",
    "def getDirector(link):\n",
    "    soup3 = readUrl(link)\n",
    "    resultFilms = soup3.find('div','movie-header-wrapper') \n",
    "    srcDirector = resultFilms.findAll('p','text-white')\n",
    "    director = srcDirector[len(srcDirector)-1].find('a').getText();\n",
    "    return director\n",
    "\n",
    "#Get Description\n",
    "def getDescription(link):\n",
    "    soup = readUrl(link)\n",
    "    resultDescription = soup.find('div','synopsis m-t m-b-xs')\n",
    "    description = resultDescription.getText()\n",
    "    return description\n",
    "    \n",
    "#Get actor\n",
    "def getActor(link):\n",
    "    soup = readUrl(link)\n",
    "    resultActorFilms = soup.find('div','movie-actors panel wrapper m-t')\n",
    "    actors = resultActorFilms.findAll('img')\n",
    "    data = []\n",
    "    for actor in actors:\n",
    "        data.append(actor.get('alt'))\n",
    "    return data\n",
    "\n",
    "#Get time\n",
    "def getTime(link) :\n",
    "    soup = readUrl(link)\n",
    "    resultTime = soup.find('div','movie-header-wrapper')\n",
    "    srcTime = resultTime.find('a','action action-imdb btn btn-rounded btn-lg btn-icon btn-default')\n",
    "    time = srcTime.getText()\n",
    "    return time\n",
    "#example\n",
    "link2 = 'https://moveek.com/phim/cam-bay-hoi-tho-cua-quy/'\n",
    "name = getName(link2)\n",
    "percent = getPercent(link2)\n",
    "director = getDirector(link2)\n",
    "description = getDescription(link2)\n",
    "actors = getActor(link2)\n",
    "time = getTime(link2)\n",
    "# print(name)\n",
    "# print(percent)\n",
    "print(director)\n",
    "# print(description)\n",
    "# print(time)\n",
    "\n",
    "# actors"
   ]
  },
  {
   "cell_type": "code",
   "execution_count": 67,
   "metadata": {},
   "outputs": [
    {
     "name": "stdout",
     "output_type": "stream",
     "text": [
      "8.0\n",
      "7.9\n",
      "5.0\n",
      "4.0\n",
      "5\n",
      "9.1\n",
      "8.8\n",
      "8.2\n",
      "6.0\n",
      "2.9\n",
      "9.3\n",
      "5\n",
      "8.2\n",
      "4.7\n",
      "5\n",
      "8.1\n",
      "8.1\n",
      "7.4\n",
      "5.0\n",
      "8.7\n",
      "6.8\n",
      "8.3\n",
      "2.5\n",
      "3.6\n",
      "7.3\n",
      "10.0\n",
      "9.5\n",
      "9.2\n",
      "9.3\n",
      "9.1\n",
      "1.0\n",
      "7.7\n",
      "5\n",
      "6.7\n",
      "7.1\n",
      "8.0\n",
      "5\n",
      "5\n",
      "5\n",
      "5\n",
      "5\n",
      "5\n",
      "5\n"
     ]
    }
   ],
   "source": [
    "rows = [];\n",
    "rows.append(['Film', 'Imdb','Director','Description','Star', 'Time', 'Poster', 'Date'])\n",
    "for result in results:\n",
    "    data = result.find('a')\n",
    "    \n",
    "    #Get link film\n",
    "    link = 'https://moveek.com'+data.get('href')\n",
    "    #Get data from link\n",
    "    soup = readUrl(link)\n",
    "    resultFilms = soup.find('div','movie-header-wrapper')\n",
    "    \n",
    "    #1- Get Namme Film\n",
    "    srcName = resultFilms.find('img')\n",
    "    name = srcName.get('alt')\n",
    "    \n",
    "    #2 get poster\n",
    "    srcPoster = resultFilms.find('img')\n",
    "    poster = srcPoster.get('data-srcset')\n",
    "    if poster == None:\n",
    "        linkPoster = ''\n",
    "    else:\n",
    "        poster = poster.split(\", \")\n",
    "        linkPoster = poster[1].replace(\"2x\",\"\")\n",
    "    \n",
    "    #2 - Get percents\n",
    "    percent = resultFilms.find('div','action chart-pie chart-pie-small pull-left')\n",
    "    if(percent == None) :\n",
    "        percent = '5'\n",
    "    else :\n",
    "        percent = percent.getText().replace(\"%\",\"\")\n",
    "        percent = int(percent)/10\n",
    "    print(percent)\n",
    "        \n",
    "    # get date\n",
    "    srcDate = resultFilms.findAll('p','text-white')\n",
    "    date = srcDate[-1].getText().split(\"\\n\")[1].strip()\n",
    "    date = dparser.parse(date,fuzzy=True)\n",
    "    date = str(date.date())\n",
    "    \n",
    "        \n",
    "    #3 - Get director\n",
    "    srcDirector = resultFilms.findAll('p','text-white')\n",
    "    director = srcDirector[len(srcDirector)-1].find('a');\n",
    "    if(director == None):\n",
    "        director = ''\n",
    "    else:\n",
    "        director = director.getText()\n",
    "    \n",
    "    #4 - Get description\n",
    "    description = soup.find('div','synopsis m-t m-b-xs')\n",
    "    if(description == None):\n",
    "        description=''\n",
    "    else :\n",
    "        description = description.getText()\n",
    "\n",
    "    #5 Get Time\n",
    "    time = resultFilms.find('a','action action-imdb btn btn-rounded btn-lg btn-icon btn-default')\n",
    "    if(time == None):\n",
    "        time = '100phút'\n",
    "    else :\n",
    "        time = time.getText()\n",
    "        if \"ph\" not in time:\n",
    "            time = '100phút'\n",
    "    \n",
    "    #6 - Get Actors\n",
    "    resultActorFilms = soup.find('div','movie-actors panel wrapper m-t')\n",
    "    listActor=[];\n",
    "    if(resultActorFilms == None) :\n",
    "        listActor= 'No actor'\n",
    "    else :\n",
    "        actors = resultActorFilms.findAll('img')\n",
    "        for actor in actors:\n",
    "            listActor.append(actor.get('alt'))\n",
    "    rows.append([name,percent, director,''+description.strip(),listActor,time, linkPoster, date])"
   ]
  },
  {
   "cell_type": "code",
   "execution_count": 68,
   "metadata": {},
   "outputs": [
    {
     "name": "stdout",
     "output_type": "stream",
     "text": [
      "Success\n"
     ]
    }
   ],
   "source": [
    "# Create csv and write rows to output file\n",
    "# print(rows)\n",
    "with open('FullInfoFilmTrain.csv','w', newline='',encoding=\"utf-8-sig\") as f_output:\n",
    "    csv_output = csv.writer(f_output)\n",
    "    csv_output.writerows(rows)\n",
    "print('Success')"
   ]
  },
  {
   "cell_type": "code",
   "execution_count": 31,
   "metadata": {},
   "outputs": [
    {
     "name": "stdout",
     "output_type": "stream",
     "text": [
      "https://moveek.com/phim/cam-bay-hoi-tho-cua-quy/\n",
      "https://moveek.com/phim/o-day-co-nang/\n",
      "https://moveek.com/phim/xuong-13/\n",
      "https://moveek.com/phim/lala-hay-de-em-yeu-anh/\n",
      "https://moveek.com/phim/the-vietnamese-bride/\n",
      "https://moveek.com/phim/sieu-sao-sieu-ngo/\n",
      "https://moveek.com/phim/ve-que-an-tet/\n",
      "https://moveek.com/phim/798-muoi/\n",
      "https://moveek.com/phim/dich-ton-doc-dac/\n",
      "https://moveek.com/phim/thu-yeu-roi-biet/\n",
      "https://moveek.com/phim/thang-nam-ruc-ro/\n",
      "https://moveek.com/phim/phan-van-khai-nguoi-con-dat-thep/\n",
      "https://moveek.com/phim/ong-ngoai-tuoi-30/\n",
      "https://moveek.com/phim/yeu-em-bat-chap/\n",
      "https://moveek.com/phim/ha-cuoi-tinh-dau/\n",
      "https://moveek.com/phim/lat-mat-3-ba-chang-khuyet/\n",
      "https://moveek.com/phim/100-ngay-ben-em/\n",
      "https://moveek.com/phim/11-niem-hy-vong/\n",
      "https://moveek.com/phim/yeu-nu-sieu-quay/\n",
      "https://moveek.com/phim/nham-mat-thay-mua-he/\n",
      "https://moveek.com/phim/em-gai-mua/\n",
      "https://moveek.com/phim/ong-kinh-sat-nhan/\n",
      "https://moveek.com/phim/lo-mat/\n",
      "https://moveek.com/phim/truong-hoc-ba-vuong/\n",
      "https://moveek.com/phim/tim-vo-cho-ba/\n",
      "https://moveek.com/phim/song-lang/\n",
      "https://moveek.com/phim/chang-vo-cua-em/\n",
      "https://moveek.com/phim/mua-viet-tinh-ca/\n",
      "https://moveek.com/phim/hoan-doi-1/\n",
      "https://moveek.com/phim/bao-gio-het-e/\n",
      "https://moveek.com/phim/chu-oi-dung-lay-me-con/\n",
      "https://moveek.com/phim/ke-hoach-doi-chong/\n",
      "https://moveek.com/phim/finding-phong/\n",
      "https://moveek.com/phim/quy-co-thua-ke/\n",
      "https://moveek.com/phim/nguoi-bat-tu/\n",
      "https://moveek.com/phim/loi-ket-ban-chet-choc/\n",
      "https://moveek.com/phim/thach-thao/\n",
      "https://moveek.com/phim/vai-dien-doi-doi/\n",
      "https://moveek.com/phim/chi-tro-ly-cua-anh/\n",
      "https://moveek.com/phim/canh-dieu-mua/\n",
      "https://moveek.com/phim/gai-gia-lam-chieu-2/\n",
      "https://moveek.com/phim/hon-papa-da-con-gai/\n",
      "https://moveek.com/phim/thien-linh-cai/\n"
     ]
    }
   ],
   "source": [
    "#Kien-Get Director\n",
    "rows = [];\n",
    "for result in results:\n",
    "    data = result.find('a')\n",
    "    #Get link film\n",
    "    link = 'https://moveek.com'+data.get('href')\n",
    "    #Get data from link\n",
    "    soup = readUrl(link)\n",
    "    resultFilms = soup.find('div','movie-header-wrapper')\n",
    "    print(link)\n",
    "    #3 - Get director\n",
    "    srcDirector = resultFilms.findAll('p','text-white')\n",
    "    director = srcDirector[len(srcDirector)-1].find('a');\n",
    "    if(director == None):\n",
    "        director = ''\n",
    "    else:\n",
    "        director = director.getText()\n",
    "    rows.append(director)"
   ]
  },
  {
   "cell_type": "code",
   "execution_count": 32,
   "metadata": {},
   "outputs": [
    {
     "name": "stdout",
     "output_type": "stream",
     "text": [
      "['anh', 'bảo', 'cao', 'charlie', 'công', 'cường', 'dubus', 'dustin', 'duy', 'dũng', 'giàu', 'han', 'hoàng', 'hà', 'hàm', 'hòa', 'hùng', 'hải', 'hứa', 'joseph', 'kawaii', 'ken', 'kiên', 'leon', 'lex', 'lâm', 'lê', 'lý', 'lương', 'minh', 'nam', 'nguyễn', 'ngô', 'ngọc', 'nhi', 'nhân', 'ochiai', 'phan', 'phượng', 'quang', 'robie', 'roland', 'sang-hee', 'swann', 'thanh', 'thuyên', 'thành', 'thúy', 'thắng', 'thịnh', 'trung', 'trương', 'trường', 'trần', 'tsai', 'tuyến', 'tuấn', 'tín', 'tư', 'victor', 'vinh', 'viễn', 'võ', 'văn', 'vĩ', 'vĩnh', 'vũ', 'đinh', 'đỗ', 'đức']\n"
     ]
    }
   ],
   "source": [
    "#trieu \n",
    "resultDirector = []\n",
    "for row in rows:\n",
    "    if len(row) is not 0:\n",
    "        split_name = row.split()\n",
    "        for name in split_name:\n",
    "            resultDirector.append(name.lower())\n",
    "resultDirector = sorted(list(set(resultDirector)))\n",
    "print(resultDirector)"
   ]
  },
  {
   "cell_type": "code",
   "execution_count": 33,
   "metadata": {},
   "outputs": [
    {
     "name": "stdout",
     "output_type": "stream",
     "text": [
      "https://moveek.com/phim/cam-bay-hoi-tho-cua-quy/\n",
      "https://moveek.com/phim/o-day-co-nang/\n",
      "https://moveek.com/phim/xuong-13/\n",
      "https://moveek.com/phim/lala-hay-de-em-yeu-anh/\n",
      "https://moveek.com/phim/the-vietnamese-bride/\n",
      "https://moveek.com/phim/sieu-sao-sieu-ngo/\n",
      "https://moveek.com/phim/ve-que-an-tet/\n",
      "https://moveek.com/phim/798-muoi/\n",
      "https://moveek.com/phim/dich-ton-doc-dac/\n",
      "https://moveek.com/phim/thu-yeu-roi-biet/\n",
      "https://moveek.com/phim/thang-nam-ruc-ro/\n",
      "https://moveek.com/phim/phan-van-khai-nguoi-con-dat-thep/\n",
      "https://moveek.com/phim/ong-ngoai-tuoi-30/\n",
      "https://moveek.com/phim/yeu-em-bat-chap/\n",
      "https://moveek.com/phim/ha-cuoi-tinh-dau/\n",
      "https://moveek.com/phim/lat-mat-3-ba-chang-khuyet/\n",
      "https://moveek.com/phim/100-ngay-ben-em/\n",
      "https://moveek.com/phim/11-niem-hy-vong/\n",
      "https://moveek.com/phim/yeu-nu-sieu-quay/\n",
      "https://moveek.com/phim/nham-mat-thay-mua-he/\n",
      "https://moveek.com/phim/em-gai-mua/\n",
      "https://moveek.com/phim/ong-kinh-sat-nhan/\n",
      "https://moveek.com/phim/lo-mat/\n",
      "https://moveek.com/phim/truong-hoc-ba-vuong/\n",
      "https://moveek.com/phim/tim-vo-cho-ba/\n",
      "https://moveek.com/phim/song-lang/\n",
      "https://moveek.com/phim/chang-vo-cua-em/\n",
      "https://moveek.com/phim/mua-viet-tinh-ca/\n",
      "https://moveek.com/phim/hoan-doi-1/\n",
      "https://moveek.com/phim/bao-gio-het-e/\n",
      "https://moveek.com/phim/chu-oi-dung-lay-me-con/\n",
      "https://moveek.com/phim/ke-hoach-doi-chong/\n",
      "https://moveek.com/phim/finding-phong/\n",
      "https://moveek.com/phim/quy-co-thua-ke/\n",
      "https://moveek.com/phim/nguoi-bat-tu/\n",
      "https://moveek.com/phim/loi-ket-ban-chet-choc/\n",
      "https://moveek.com/phim/thach-thao/\n",
      "https://moveek.com/phim/vai-dien-doi-doi/\n",
      "https://moveek.com/phim/chi-tro-ly-cua-anh/\n",
      "https://moveek.com/phim/canh-dieu-mua/\n",
      "https://moveek.com/phim/gai-gia-lam-chieu-2/\n",
      "https://moveek.com/phim/hon-papa-da-con-gai/\n",
      "https://moveek.com/phim/thien-linh-cai/\n",
      "['Nhật Kim Anh', 'Đông Dương', 'Xuân Phúc', 'Quang Hòa', 'Lâm Trí', 'Hoàng Tiến Dũng', 'Hùng Chilhuyn', 'Huy Khánh', 'Quý Bình', 'Lê Bình', 'Quỳnh Chi', 'Anh Thơ', 'bé Gia Bảo', 'Trương Thanh Long', 'Hạnh Thúy', 'Lê Chi Na', 'Lan Trinh', 'Trương Mỹ Nhân', 'Tuấn Trần', 'Brian Trần', 'Jay Nhân', 'Chi Pu', 'San E', 'Chae Yeon', 'Jin Ju Hyung', 'Sun Wei Lung', 'Khả Ngân', 'Aki Myung-Hun', 'Kha Ly', 'Lê Bê La', 'Nhất Duy', 'Do Tai Wai', 'Lu Shi Yong', 'Trường Giang', 'Thanh Thúy', 'Đức Thịnh', 'Mai Tài Phến', 'Sam', 'Jun Phạm', 'Trung Dân', 'Hải Triều', 'Tiến Công', 'Puka', 'Ngọc Tưởng', 'Dustin Nguyễn', 'Thu Trang', 'Kiều Minh Tuấn', 'Hoàng Sơn', 'Nam Em', 'Tiểu Bảo Quốc', 'Đại Nghĩa', 'Lê Bình', 'Tiết Cương', 'Hoài Linh', 'Bạch Công Khanh', 'Thanh Vy', 'Celina Huỳnh', 'Lê Lộc', 'Xuân Nghị', 'Tấn Beo', 'Trung Dân', 'Bella Mai', 'Hứa Minh Đạt', 'Thân Thuý Hà', 'Tuấn Dũng', 'Trương Mỹ Nhân', 'Kent Phạm Tùng Anh', 'Xuân Phúc', 'Ngọc Châu', 'Thanh Hằng', 'Jun Vũ', 'Anh Thư', 'Mỹ Duyên', 'Hoàng Oanh', 'Trịnh Thảo', 'Hồng Ánh', 'Hoàng Yến Chibi', 'Mỹ Uyên', 'Khổng Tú Quỳnh', 'Tuyền Mập', 'Minh Thảo', 'NoActor', 'Trịnh Thăng Bình', 'Kiều Trinh Xíu', 'Coca Hoàng Gia Bảo', 'Hạ Vi', 'Hoàng Rapper', 'Hoàng Sơn', 'Tùng Leo', 'Võ Cảnh', 'Hoàng Phi', 'Phương Trinh Jolie', 'Chu Diệp Anh', 'Lou Hoàng', 'Ngọc Thanh Tâm', 'Hoài Lâm', 'Trang Trần', 'Đàm Vĩnh Hưng', 'Thúy Vy', 'Quỳnh Hương Venus', 'Huỳnh Hồng Loan', 'Gia Linh', 'Phạm Hoàng Nguyên', 'Gin Tuấn Kiệt', 'Hồng Vân', 'Cát Tường', 'Kiều Minh Tuấn', 'Kiều Minh Tuấn', 'Lý Hải', 'Huy Khánh', 'Song Luân', 'Nene', 'Tú Trinh', 'Tiết Cương', 'Cát Phượng', 'Phương Bình', 'Diệu Đức', 'Hoàng Mèo', 'Thanh Tân', 'Lương Mỹ', 'Phi Điểu', 'Jun Phạm', 'Khả Ngân', 'Lê Tam Triều Dâng', 'B Trần', 'Gin Tuấn Kiệt', 'NSƯT Mỹ Uyên', 'Chiều Xuân', 'Nhan Phúc Vinh', 'Hoàng Phi', 'Hiếu Nguyễn', 'Hùng Chilhyun', 'Rima Thanh Vy', 'Thanh Tú', 'Lâm Thắng', 'Võ Hoài Nam', 'NSUT Công Ninh', 'Trọng Hải', 'Diệu Nhi', 'Thuận Nguyễn', 'Khả Như', 'Khương Ngọc', 'La Thành', 'Gia Bảo', 'Đỗ Duy Nam', 'Hải Triều', 'Tiểu Bảo Quốc', 'Trung Dân', 'Phương Anh Đào', 'Noriki Takimoto', 'Norihiko Takimoto', 'chú chó Hana', 'Ben Phạm', 'Sayaka Mitsuta', 'Mizuki Miyauchi', 'Akira Hatsusegawa', 'Diễm Thi', 'Khánh Ngân', 'Takafumi Akutsu', 'NSUT Công Ninh', 'Mai Tài Phến', 'Lê Thùy LInh', 'Phương Anh Đào', 'Tiến Vũ', 'Misoa', 'Trang Hý', 'Đan Trường', 'Việt Hương', 'Hương Tràm', 'NSUT Công Ninh', 'Trung Dân', 'Hứa Vĩ Văn', 'Diễm My 9x', 'Kinh Quốc', 'Nguyễn Chánh Tín', 'Thương Tín', 'NSUT Công Ninh', 'Quang Sự', 'Minh Luân', 'Vĩnh Thuyên Kim', 'Hứa Minh Đạt', 'Mạc Văn Khoa', 'Lâm Vỹ Dạ', 'Wean Lê', 'Lê Hạ Anh', 'Nhan Phúc Vinh', 'Ngọc Thanh Tâm', 'Quỳnh Chi', 'Gin Tuấn Kiệt', 'Tùng Min', 'ST 365', 'Jang Mi', 'POM', 'Tiểu Bảo Quốc', 'Isaac', 'Liên Bỉnh Phát', 'Tú Quyên', 'Thanh Tú', 'Kiều Trinh', 'Thái Hoà', 'Phương Anh Đào', 'Thanh Trúc', 'Hứa Vĩ Văn', 'Vân Trang', 'Hồng Hạnh', 'Diễm My', 'Trung Dũng', 'Isaac', 'Phan Ngân', 'Suni Hạ Linh', 'Chí Tài', 'Phi Phụng', 'Hoàng Phi', 'Puka', 'Nabi Nhã Phương', 'bé Kim Thư', 'La Thành', 'Việt Hương', 'Ngô Kiến Huy', 'Trấn Thành', 'Mai Bảo Ngọc', 'Huỳnh Lập', 'Hứa Minh Đạt', 'Khả Như', 'Thúy Vân', 'Đình Quân', 'Nguyễn Anh Tú', 'NSUT Thanh Hằng', 'Đàm Phương Linh', 'NSND Ngọc Giàu', 'NSUT Thoại Mỹ', 'NSƯT Thanh Nam', 'Cẩm Hà', 'Lâm Thắng', 'Hồng Thanh', 'Phát La', 'Hamiza', 'Long Đẹp Trai', 'Sỹ Toàn', 'An Nguy', 'Kiều Minh Tuấn', 'Hữu Khang', 'Will 365', 'Chu Diệp Anh', 'Lilly Nguyễn', 'Hoàng Yến Chibi', 'Quang Đăng', 'Trương Thanh Long', 'Anh Phong le', 'Lê Quốc Phong', 'Ngân Khánh', 'Song Luân', 'Sĩ Thanh', 'Quang Minh', 'Hồng Đào', 'Liên Bỉnh Phát', 'Quách Ngọc Ngoan', 'Ngọc Diệp', 'Jun Vũ', 'Thanh Tú', 'Cường Seven', 'Trương Thế Vinh', 'Chiều Xuân', 'Bùi Bài Bình', 'Vũ Tuấn Việt', 'Francois Negret', 'Thanh Duy', 'Thanh Tú', 'Lý Bình', 'Đàm Phương Linh', 'Nguyễn Anh Tú', 'Tùng Maru', 'Lâm Văn Quốc', 'Nguyễn Gia Linh', 'Võ Ngọc Diệu Minh', 'Lê Ngọc Phương Quỳnh', 'Hứa Nhật Khánh Uyên', 'Mai Ngô', 'Quốc Thái', 'Nguyễn Anh Tú', 'Bích Ngọc', 'Khắc Minh', 'Thiên Nguyễn', 'Long Nguyen', 'NoActor', 'Đan Nguyên', 'Marcus Guilhem', 'Lilly Nguyễn', 'Lâm Vissay', 'Ninh Dương Lan Ngọc', 'Phương Lan', 'Thùy Anh', 'Thoại Tiên', 'Diễm My', 'Hứa Minh Đạt', 'Lê Xuân Tiền', 'Thái Hoà', 'Kaity Nguyễn', 'Kathy Uyên', 'Vân Trang', 'Trang Hý', 'Trịnh Thảo', 'Huy Khánh', 'Chí Tài', 'NSUT Thành Lộc', 'Hồng Vân', 'Tuyền Mập', 'Chí Tâm', 'Tùng Leo', 'Lê Bình', 'Hoàng Yến Chibi']\n"
     ]
    }
   ],
   "source": [
    "#Kien-Get actor\n",
    "rows2 = [];\n",
    "for result in results:\n",
    "    data = result.find('a')\n",
    "    #Get link film\n",
    "    link = 'https://moveek.com'+data.get('href')\n",
    "    #Get data from link\n",
    "    soup = readUrl(link)\n",
    "    resultFilms = soup.find('div','movie-header-wrapper')\n",
    "    print(link) \n",
    "    #2 - Get Actors\n",
    "    resultActorFilms = soup.find('div','movie-actors panel wrapper m-t')\n",
    "    listActor=[];\n",
    "    if(resultActorFilms == None) :\n",
    "        rows2.append('NoActor')\n",
    "    else :\n",
    "        actors = resultActorFilms.findAll('img')\n",
    "        for actor in actors:\n",
    "            rows2.append((actor.get('alt')))\n",
    "print(rows2)"
   ]
  },
  {
   "cell_type": "code",
   "execution_count": 34,
   "metadata": {},
   "outputs": [
    {
     "name": "stdout",
     "output_type": "stream",
     "text": [
      "['365', '9x', 'aki', 'akira', 'akutsu', 'an', 'anh', 'b', 'bella', 'ben', 'beo', 'brian', 'bài', 'bé', 'bê', 'bình', 'bích', 'bùi', 'bạch', 'bảo', 'bỉnh', 'celina', 'chae', 'chi', 'chibi', 'chilhuyn', 'chilhyun', 'chiều', 'chu', 'chánh', 'châu', 'chí', 'chó', 'chú', 'coca', 'cát', 'công', 'cương', 'cường', 'cảnh', 'cẩm', 'diễm', 'diệp', 'diệu', 'do', 'dustin', 'duy', 'duyên', 'dân', 'dâng', 'dũng', 'dương', 'dạ', 'e', 'em', 'francois', 'gia', 'giang', 'gin', 'giàu', 'guilhem', 'hamiza', 'hana', 'hatsusegawa', 'hiếu', 'hoà', 'hoài', 'hoàng', 'huy', 'huỳnh', 'hyung', 'hà', 'hòa', 'hùng', 'hý', 'hưng', 'hương', 'hạ', 'hạnh', 'hải', 'hằng', 'hồng', 'hứa', 'hữu', 'isaac', 'jang', 'jay', 'jin', 'jolie', 'ju', 'jun', 'kaity', 'kathy', 'kent', 'kha', 'khang', 'khanh', 'khoa', 'khánh', 'khương', 'khả', 'khắc', 'khổng', 'kim', 'kinh', 'kiến', 'kiều', 'kiệt', 'la', 'lan', 'le', 'leo', 'lilly', 'linh', 'liên', 'loan', 'long', 'lou', 'lu', 'lung', 'luân', 'ly', 'lâm', 'lê', 'lý', 'lương', 'lập', 'lộc', 'mai', 'marcus', 'maru', 'mi', 'min', 'minh', 'misoa', 'mitsuta', 'miyauchi', 'mizuki', 'my', 'myung-hun', 'mèo', 'mạc', 'mập', 'mỹ', 'na', 'nabi', 'nam', 'negret', 'nene', 'nghĩa', 'nghị', 'ngoan', 'nguy', 'nguyen', 'nguyên', 'nguyễn', 'ngân', 'ngô', 'ngọc', 'nhan', 'nhi', 'nhân', 'nhã', 'như', 'nhất', 'nhật', 'ninh', 'noactor', 'norihiko', 'noriki', 'nsnd', 'nsut', 'nsưt', 'oanh', 'phan', 'phi', 'phong', 'phát', 'phúc', 'phương', 'phượng', 'phạm', 'phến', 'phụng', 'pom', 'pu', 'puka', 'quang', 'quyên', 'quách', 'quân', 'quý', 'quốc', 'quỳnh', 'rapper', 'rima', 'sam', 'san', 'sayaka', 'seven', 'shi', 'song', 'st', 'sun', 'suni', 'sĩ', 'sơn', 'sự', 'sỹ', 'tai', 'takafumi', 'takimoto', 'tam', 'thanh', 'thi', 'thiên', 'thoại', 'thu', 'thuyên', 'thuý', 'thuận', 'thành', 'thái', 'thân', 'thùy', 'thúy', 'thăng', 'thơ', 'thư', 'thương', 'thảo', 'thắng', 'thế', 'thịnh', 'tiên', 'tiến', 'tiết', 'tiền', 'tiểu', 'toàn', 'trai', 'trang', 'trinh', 'triều', 'trung', 'tràm', 'trí', 'trúc', 'trương', 'trường', 'trấn', 'trần', 'trịnh', 'trọng', 'tuyền', 'tuấn', 'tài', 'tâm', 'tân', 'tín', 'tùng', 'tú', 'tường', 'tưởng', 'tấn', 'uyên', 'venus', 'vi', 'vinh', 'vissay', 'việt', 'vy', 'vân', 'võ', 'văn', 'vĩ', 'vĩnh', 'vũ', 'vỹ', 'wai', 'wean', 'wei', 'will', 'xuân', 'xíu', 'yeon', 'yong', 'yến', 'ánh', 'đan', 'điểu', 'đàm', 'đào', 'đình', 'đông', 'đăng', 'đại', 'đạt', 'đẹp', 'đỗ', 'đức']\n"
     ]
    }
   ],
   "source": [
    "#trieu \n",
    "resultActor = []\n",
    "for row2 in rows2:\n",
    "    if len(row2) is not 0:\n",
    "        split_name = row2.split()\n",
    "        for name in split_name:\n",
    "            resultActor.append(name.lower())\n",
    "resultActor = sorted(list(set(resultActor)))\n",
    "print(resultActor)"
   ]
  },
  {
   "cell_type": "code",
   "execution_count": null,
   "metadata": {},
   "outputs": [],
   "source": []
  }
 ],
 "metadata": {
  "kernelspec": {
   "display_name": "Python 3",
   "language": "python",
   "name": "python3"
  },
  "language_info": {
   "codemirror_mode": {
    "name": "ipython",
    "version": 3
   },
   "file_extension": ".py",
   "mimetype": "text/x-python",
   "name": "python",
   "nbconvert_exporter": "python",
   "pygments_lexer": "ipython3",
   "version": "3.6.5"
  }
 },
 "nbformat": 4,
 "nbformat_minor": 2
}
