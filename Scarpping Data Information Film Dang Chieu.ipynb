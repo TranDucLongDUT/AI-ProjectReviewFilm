{
 "cells": [
  {
   "cell_type": "code",
   "execution_count": 16,
   "metadata": {},
   "outputs": [],
   "source": [
    "import bs4\n",
    "from urllib.request import urlopen\n",
    "import csv"
   ]
  },
  {
   "cell_type": "code",
   "execution_count": 17,
   "metadata": {},
   "outputs": [],
   "source": [
    "def readUrl(url):\n",
    "    web_data = urlopen(url)\n",
    "    html = web_data.read()\n",
    "    web_data.close()\n",
    "    data = bs4.BeautifulSoup(html, 'html.parser')\n",
    "    return data"
   ]
  },
  {
   "cell_type": "code",
   "execution_count": 18,
   "metadata": {},
   "outputs": [
    {
     "name": "stdout",
     "output_type": "stream",
     "text": [
      "43\n"
     ]
    }
   ],
   "source": [
    "url = \"https://moveek.com/phim-viet-nam/\" \n",
    "soup = readUrl(url) \n",
    "results = soup.findAll('div','panel panel-post panel-movie-grid') \n",
    "print(len(results))"
   ]
  },
  {
   "cell_type": "code",
   "execution_count": 5,
   "metadata": {},
   "outputs": [
    {
     "name": "stdout",
     "output_type": "stream",
     "text": [
      "Nguyễn Quang Tuyến\n"
     ]
    }
   ],
   "source": [
    "#Get Name\n",
    "def getName(link):\n",
    "    soup = readUrl(link)\n",
    "    resultFilms = soup.find('div','movie-header-wrapper') \n",
    "    srcName = resultFilms.find('img')\n",
    "    name = srcName.get('alt')\n",
    "    return name;\n",
    "\n",
    "#Get percent \n",
    "def getPercent(link):\n",
    "    soup2 = readUrl(link)\n",
    "    resultFilms = soup2.find('div','movie-header-wrapper')\n",
    "    #Get percents\n",
    "    percent = resultFilms.find('div','action chart-pie chart-pie-small pull-left') \n",
    "    return percent.getText();\n",
    "\n",
    "#Get Director \n",
    "def getDirector(link):\n",
    "    soup3 = readUrl(link)\n",
    "    resultFilms = soup3.find('div','movie-header-wrapper') \n",
    "    srcDirector = resultFilms.findAll('p','text-white')\n",
    "    director = srcDirector[len(srcDirector)-1].find('a').getText();\n",
    "    return director\n",
    "\n",
    "#Get Description\n",
    "def getDescription(link):\n",
    "    soup = readUrl(link)\n",
    "    resultDescription = soup.find('div','synopsis m-t m-b-xs')\n",
    "    description = resultDescription.getText()\n",
    "    return description\n",
    "    \n",
    "#Get actor\n",
    "def getActor(link):\n",
    "    soup = readUrl(link)\n",
    "    resultActorFilms = soup.find('div','movie-actors panel wrapper m-t')\n",
    "    actors = resultActorFilms.findAll('img')\n",
    "    data = []\n",
    "    for actor in actors:\n",
    "        data.append(actor.get('alt'))\n",
    "    return data\n",
    "\n",
    "#Get time\n",
    "def getTime(link) :\n",
    "    soup = readUrl(link)\n",
    "    resultTime = soup.find('div','movie-header-wrapper')\n",
    "    srcTime = resultTime.find('a','action action-imdb btn btn-rounded btn-lg btn-icon btn-default')\n",
    "    time = srcTime.getText()\n",
    "    return time\n",
    "#example\n",
    "link2 = 'https://moveek.com/phim/cam-bay-hoi-tho-cua-quy/'\n",
    "name = getName(link2)\n",
    "percent = getPercent(link2)\n",
    "director = getDirector(link2)\n",
    "description = getDescription(link2)\n",
    "actors = getActor(link2)\n",
    "time = getTime(link2)\n",
    "# print(name)\n",
    "# print(percent)\n",
    "print(director)\n",
    "# print(description)\n",
    "# print(time)\n",
    "\n",
    "# actors"
   ]
  },
  {
   "cell_type": "code",
   "execution_count": 19,
   "metadata": {},
   "outputs": [
    {
     "name": "stdout",
     "output_type": "stream",
     "text": [
      "https://moveek.com/phim/cam-bay-hoi-tho-cua-quy/\n",
      "https://moveek.com/phim/o-day-co-nang/\n",
      "https://moveek.com/phim/xuong-13/\n",
      "https://moveek.com/phim/lala-hay-de-em-yeu-anh/\n",
      "https://moveek.com/phim/the-vietnamese-bride/\n",
      "https://moveek.com/phim/sieu-sao-sieu-ngo/\n",
      "https://moveek.com/phim/ve-que-an-tet/\n",
      "https://moveek.com/phim/798-muoi/\n",
      "https://moveek.com/phim/dich-ton-doc-dac/\n",
      "https://moveek.com/phim/thu-yeu-roi-biet/\n",
      "https://moveek.com/phim/thang-nam-ruc-ro/\n",
      "https://moveek.com/phim/phan-van-khai-nguoi-con-dat-thep/\n",
      "https://moveek.com/phim/ong-ngoai-tuoi-30/\n",
      "https://moveek.com/phim/yeu-em-bat-chap/\n",
      "https://moveek.com/phim/ha-cuoi-tinh-dau/\n",
      "https://moveek.com/phim/lat-mat-3-ba-chang-khuyet/\n",
      "https://moveek.com/phim/100-ngay-ben-em/\n",
      "https://moveek.com/phim/11-niem-hy-vong/\n",
      "https://moveek.com/phim/yeu-nu-sieu-quay/\n",
      "https://moveek.com/phim/nham-mat-thay-mua-he/\n",
      "https://moveek.com/phim/em-gai-mua/\n",
      "https://moveek.com/phim/ong-kinh-sat-nhan/\n",
      "https://moveek.com/phim/lo-mat/\n",
      "https://moveek.com/phim/truong-hoc-ba-vuong/\n",
      "https://moveek.com/phim/tim-vo-cho-ba/\n",
      "https://moveek.com/phim/song-lang/\n",
      "https://moveek.com/phim/chang-vo-cua-em/\n",
      "https://moveek.com/phim/mua-viet-tinh-ca/\n",
      "https://moveek.com/phim/hoan-doi-1/\n",
      "https://moveek.com/phim/bao-gio-het-e/\n",
      "https://moveek.com/phim/chu-oi-dung-lay-me-con/\n",
      "https://moveek.com/phim/ke-hoach-doi-chong/\n",
      "https://moveek.com/phim/finding-phong/\n",
      "https://moveek.com/phim/quy-co-thua-ke/\n",
      "https://moveek.com/phim/nguoi-bat-tu/\n",
      "https://moveek.com/phim/loi-ket-ban-chet-choc/\n",
      "https://moveek.com/phim/thach-thao/\n",
      "https://moveek.com/phim/vai-dien-doi-doi/\n",
      "https://moveek.com/phim/chi-tro-ly-cua-anh/\n",
      "https://moveek.com/phim/canh-dieu-mua/\n",
      "https://moveek.com/phim/gai-gia-lam-chieu-2/\n",
      "https://moveek.com/phim/hon-papa-da-con-gai/\n",
      "https://moveek.com/phim/thien-linh-cai/\n"
     ]
    }
   ],
   "source": [
    "rows = [];\n",
    "rows.append(['Film', 'Imdb','Director','Description','Star', 'Time'])\n",
    "for result in results:\n",
    "    data = result.find('a')\n",
    "    \n",
    "    #Get link film\n",
    "    link = 'https://moveek.com'+data.get('href')\n",
    "    #Get data from link\n",
    "    soup = readUrl(link)\n",
    "    resultFilms = soup.find('div','movie-header-wrapper')\n",
    "    print(link)\n",
    "    \n",
    "    #1- Get Namme Film\n",
    "    srcName = resultFilms.find('img')\n",
    "    name = srcName.get('alt')\n",
    "    \n",
    "    #2 - Get percents\n",
    "    percent = resultFilms.find('div','action chart-pie chart-pie-small pull-left')\n",
    "    if(percent == None) :\n",
    "        percent = '50%'\n",
    "    else :\n",
    "        percent = percent.getText()\n",
    "        \n",
    "    #3 - Get director\n",
    "    srcDirector = resultFilms.findAll('p','text-white')\n",
    "    director = srcDirector[len(srcDirector)-1].find('a');\n",
    "    if(director == None):\n",
    "        director = ''\n",
    "    else:\n",
    "        director = director.getText()\n",
    "    \n",
    "    #4 - Get description\n",
    "    description = soup.find('div','synopsis m-t m-b-xs')\n",
    "    if(description == None):\n",
    "        description=''\n",
    "    else :\n",
    "        description = description.getText()\n",
    "\n",
    "    #5 Get Time\n",
    "    time = resultFilms.find('a','action action-imdb btn btn-rounded btn-lg btn-icon btn-default')\n",
    "    if(time == None):\n",
    "        time = ''\n",
    "    else :\n",
    "        time = time.getText()\n",
    "    \n",
    "    #6 - Get Actors\n",
    "    resultActorFilms = soup.find('div','movie-actors panel wrapper m-t')\n",
    "    listActor=[];\n",
    "    if(resultActorFilms == None) :\n",
    "        listActor= 'No actor'\n",
    "    else :\n",
    "        actors = resultActorFilms.findAll('img')\n",
    "        for actor in actors:\n",
    "            listActor.append(actor.get('alt'))\n",
    "    rows.append([name,''+percent.strip(), director,''+description.strip(),listActor,time])"
   ]
  },
  {
   "cell_type": "code",
   "execution_count": 20,
   "metadata": {},
   "outputs": [
    {
     "name": "stdout",
     "output_type": "stream",
     "text": [
      "Success\n"
     ]
    }
   ],
   "source": [
    "# Create csv and write rows to output file\n",
    "# print(rows)\n",
    "with open('ScrappingFullDataTrain.csv','w', newline='',encoding=\"utf-8\") as f_output:\n",
    "    csv_output = csv.writer(f_output)\n",
    "    csv_output.writerows(rows)\n",
    "print('Success')"
   ]
  },
  {
   "cell_type": "code",
   "execution_count": 11,
   "metadata": {},
   "outputs": [
    {
     "name": "stdout",
     "output_type": "stream",
     "text": [
      "https://moveek.com/phim/cam-bay-hoi-tho-cua-quy/\n",
      "https://moveek.com/phim/o-day-co-nang/\n",
      "https://moveek.com/phim/xuong-13/\n",
      "https://moveek.com/phim/lala-hay-de-em-yeu-anh/\n",
      "https://moveek.com/phim/the-vietnamese-bride/\n",
      "https://moveek.com/phim/sieu-sao-sieu-ngo/\n",
      "https://moveek.com/phim/ve-que-an-tet/\n",
      "https://moveek.com/phim/798-muoi/\n",
      "https://moveek.com/phim/dich-ton-doc-dac/\n",
      "https://moveek.com/phim/thu-yeu-roi-biet/\n",
      "https://moveek.com/phim/thang-nam-ruc-ro/\n",
      "https://moveek.com/phim/phan-van-khai-nguoi-con-dat-thep/\n",
      "https://moveek.com/phim/ong-ngoai-tuoi-30/\n",
      "https://moveek.com/phim/yeu-em-bat-chap/\n",
      "https://moveek.com/phim/ha-cuoi-tinh-dau/\n",
      "https://moveek.com/phim/lat-mat-3-ba-chang-khuyet/\n",
      "https://moveek.com/phim/100-ngay-ben-em/\n",
      "https://moveek.com/phim/11-niem-hy-vong/\n",
      "https://moveek.com/phim/yeu-nu-sieu-quay/\n",
      "https://moveek.com/phim/nham-mat-thay-mua-he/\n",
      "https://moveek.com/phim/em-gai-mua/\n",
      "https://moveek.com/phim/ong-kinh-sat-nhan/\n",
      "https://moveek.com/phim/lo-mat/\n",
      "https://moveek.com/phim/truong-hoc-ba-vuong/\n",
      "https://moveek.com/phim/tim-vo-cho-ba/\n",
      "https://moveek.com/phim/song-lang/\n",
      "https://moveek.com/phim/chang-vo-cua-em/\n",
      "https://moveek.com/phim/mua-viet-tinh-ca/\n",
      "https://moveek.com/phim/hoan-doi-1/\n",
      "https://moveek.com/phim/bao-gio-het-e/\n",
      "https://moveek.com/phim/chu-oi-dung-lay-me-con/\n",
      "https://moveek.com/phim/ke-hoach-doi-chong/\n",
      "https://moveek.com/phim/finding-phong/\n",
      "https://moveek.com/phim/quy-co-thua-ke/\n",
      "https://moveek.com/phim/nguoi-bat-tu/\n",
      "https://moveek.com/phim/loi-ket-ban-chet-choc/\n",
      "https://moveek.com/phim/thach-thao/\n",
      "https://moveek.com/phim/vai-dien-doi-doi/\n",
      "https://moveek.com/phim/chi-tro-ly-cua-anh/\n",
      "https://moveek.com/phim/canh-dieu-mua/\n",
      "https://moveek.com/phim/gai-gia-lam-chieu-2/\n",
      "https://moveek.com/phim/hon-papa-da-con-gai/\n",
      "https://moveek.com/phim/thien-linh-cai/\n"
     ]
    }
   ],
   "source": [
    "#Kien\n",
    "rows = [];\n",
    "for result in results:\n",
    "    data = result.find('a')\n",
    "    #Get link film\n",
    "    link = 'https://moveek.com'+data.get('href')\n",
    "    #Get data from link\n",
    "    soup = readUrl(link)\n",
    "    resultFilms = soup.find('div','movie-header-wrapper')\n",
    "    print(link)\n",
    "    #3 - Get director\n",
    "    srcDirector = resultFilms.findAll('p','text-white')\n",
    "    director = srcDirector[len(srcDirector)-1].find('a');\n",
    "    if(director == None):\n",
    "        director = ''\n",
    "    else:\n",
    "        director = director.getText()\n",
    "    rows.append(director)\n"
   ]
  },
  {
   "cell_type": "code",
   "execution_count": 15,
   "metadata": {},
   "outputs": [
    {
     "name": "stdout",
     "output_type": "stream",
     "text": [
      "['Nguyễn Quang Tuyến', 'Đỗ Nam', 'Phan Minh', 'Han Sang-hee', 'Tsai Lex', 'Đức Thịnh', 'Nguyễn Hoàng Anh', 'Dustin Nguyễn', 'Trần Ngọc Giàu', 'Nguyễn Hà', 'Nguyễn Quang Dũng', 'Lâm Tư', 'Võ Thanh Hòa', 'Văn Công Viễn', 'Trương Quang Thịnh', 'Lý Hải', 'Vũ Ngọc Phượng', 'Robie Trường', 'Nguyễn Ngọc Hùng', 'Cao Thúy Nhi', 'Kawaii Nguyễn Tuấn Anh', 'Hứa Vĩ Văn', 'Vĩnh Thuyên', 'Duy Joseph', 'Lương Trung Tín', 'Leon Quang Lê', 'Charlie Nguyễn', 'Thắng Vũ', 'Võ Thanh Hòa', 'Nguyễn Thành Vinh', 'Đinh Tuấn Vũ', 'Trần Nhân Kiên', 'Swann Dubus', 'Nguyễn Hoàng Duy', 'Victor Vũ', 'Roland Nguyễn Nhân', '', 'Nguyễn Đức Minh', '', 'Cường Ngô', 'Bảo Nhân', 'Ken Ochiai', 'Hàm Trần']\n",
      "Success\n"
     ]
    }
   ],
   "source": [
    "#Kien\n",
    "\n",
    "print(rows)\n",
    "with open('KienTrain.csv','w', newline='',encoding=\"utf-8-sig\") as f_output:\n",
    "    csv_output = csv.writer(f_output)\n",
    "    csv_output.writerows(rows)\n",
    "print('Success')"
   ]
  },
  {
   "cell_type": "code",
   "execution_count": null,
   "metadata": {},
   "outputs": [],
   "source": []
  }
 ],
 "metadata": {
  "kernelspec": {
   "display_name": "Python 3",
   "language": "python",
   "name": "python3"
  },
  "language_info": {
   "codemirror_mode": {
    "name": "ipython",
    "version": 3
   },
   "file_extension": ".py",
   "mimetype": "text/x-python",
   "name": "python",
   "nbconvert_exporter": "python",
   "pygments_lexer": "ipython3",
   "version": "3.6.5"
  }
 },
 "nbformat": 4,
 "nbformat_minor": 2
}
