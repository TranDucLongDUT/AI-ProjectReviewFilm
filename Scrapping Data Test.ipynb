{
 "cells": [
  {
   "cell_type": "code",
   "execution_count": 1,
   "metadata": {},
   "outputs": [],
   "source": [
    "import bs4\n",
    "from urllib.request import urlopen\n",
    "import csv"
   ]
  },
  {
   "cell_type": "code",
   "execution_count": 2,
   "metadata": {},
   "outputs": [],
   "source": [
    "def readUrl(url):\n",
    "    web_data = urlopen(url)\n",
    "    html = web_data.read()\n",
    "    web_data.close()\n",
    "    data = bs4.BeautifulSoup(html, 'html.parser')\n",
    "    return data"
   ]
  },
  {
   "cell_type": "code",
   "execution_count": 3,
   "metadata": {},
   "outputs": [
    {
     "name": "stdout",
     "output_type": "stream",
     "text": [
      "72\n"
     ]
    }
   ],
   "source": [
    "url = \"https://moveek.com/phim-viet-nam-2019/\" \n",
    "soup = readUrl(url) \n",
    "results = soup.findAll('div','panel panel-post panel-movie-grid') \n",
    "print(len(results))"
   ]
  },
  {
   "cell_type": "code",
   "execution_count": 4,
   "metadata": {},
   "outputs": [
    {
     "name": "stdout",
     "output_type": "stream",
     "text": [
      "Lê Thiện Viễn\n",
      "['Ngọc Trinh', 'Việt Hương', 'Chí Tài', 'Diệu Nhi', 'La Thành', 'Huỳnh Lập', 'Lâm Vinh Hải', 'Quang Đại', 'Thủy Tiên', 'Tài Smile']\n"
     ]
    }
   ],
   "source": [
    "#Get Director\n",
    "def getDirector(link):\n",
    "    soup3 = readUrl(link)\n",
    "    resultFilms = soup3.find('div','movie-header-wrapper') \n",
    "    srcDirector = resultFilms.findAll('p','text-white')\n",
    "    director = srcDirector[len(srcDirector)-1].find('a').getText();\n",
    "    return director;\n",
    "#Get actor\n",
    "def getActor(link):\n",
    "    soup2 = readUrl(link)\n",
    "    resultActorFilms = soup2.find('div','movie-actors panel wrapper m-t')\n",
    "    actors = resultActorFilms.findAll('img')\n",
    "    data = []\n",
    "    for actor in actors:\n",
    "        data.append(actor.get('alt'))\n",
    "    return data\n",
    "#example\n",
    "link2 = 'https://moveek.com/phim/vu-quy-dai-nao/'\n",
    "director = getDirector(link2)\n",
    "actor = getActor(link2)\n",
    "print(director)\n",
    "print(actor)"
   ]
  },
  {
   "cell_type": "code",
   "execution_count": 5,
   "metadata": {},
   "outputs": [
    {
     "name": "stdout",
     "output_type": "stream",
     "text": [
      "https://moveek.com/phim/thanh-pho-ngu-gat/\n",
      "https://moveek.com/phim/3d-cung-tam-ke/\n",
      "https://moveek.com/phim/tao-quay/\n",
      "https://moveek.com/phim/vu-quy-dai-nao/\n",
      "https://moveek.com/phim/cua-lai-vo-bau/\n",
      "https://moveek.com/phim/trang-quynh/\n",
      "https://moveek.com/phim/hai-phuong/\n",
      "https://moveek.com/phim/lat-mat-4/\n",
      "https://moveek.com/phim/90-ngay-ha/\n",
      "https://moveek.com/phim/vu-khuc-thanh-xuan/\n",
      "https://moveek.com/phim/chi-muoi-ba/\n",
      "https://moveek.com/phim/ngoi-nha-buom-buom/\n",
      "https://moveek.com/phim/thien-than-nho-cua-toi/\n",
      "https://moveek.com/phim/thien-duong/\n",
      "https://moveek.com/phim/nguoi-lam-phao-hoa/\n",
      "https://moveek.com/phim/muc-tieu-chet/\n",
      "https://moveek.com/phim/nhan-duyen-anh-mai-ben-em/\n",
      "https://moveek.com/phim/ghen/\n",
      "https://moveek.com/phim/ngoi-khoc-tren-cay/\n",
      "https://moveek.com/phim/moi-tinh-dau-cua-toi/\n",
      "https://moveek.com/phim/ba-dieu-uoc/\n",
      "https://moveek.com/phim/gio-sao-day/\n",
      "https://moveek.com/phim/hanh-phuc-khong-danh-cho-tinh-nhan/\n",
      "https://moveek.com/phim/benh-vien-ma-2/\n",
      "https://moveek.com/phim/mua-tu-dang-yeu-em/\n",
      "https://moveek.com/phim/giac-mo-thu-7/\n",
      "https://moveek.com/phim/boi-sai-gon-nhieu-nang/\n",
      "https://moveek.com/phim/trang-ti/\n",
      "https://moveek.com/phim/yolo/\n",
      "https://moveek.com/phim/su-mang-sinh-tu/\n",
      "https://moveek.com/phim/a-xe-om-va-ga-dung-duong/\n",
      "https://moveek.com/phim/thich-la-nhich/\n",
      "https://moveek.com/phim/da-khuc/\n",
      "https://moveek.com/phim/yeu-anh-nhe-chang-trai/\n",
      "https://moveek.com/phim/nguoi-phan-xu/\n",
      "https://moveek.com/phim/doi-thu/\n",
      "https://moveek.com/phim/gameshow-tu-than/\n",
      "https://moveek.com/phim/ngoc-oi-tuoi-17/\n",
      "https://moveek.com/phim/tro-choi-tu-than/\n",
      "https://moveek.com/phim/son-than/\n",
      "https://moveek.com/phim/nguoi-yeu-oi/\n",
      "https://moveek.com/phim/dong-pham-an-danh/\n",
      "https://moveek.com/phim/the-dreamer/\n",
      "https://moveek.com/phim/dat-rung-phuong-nam/\n",
      "https://moveek.com/phim/nguoi-la-oi-yeu-mat-roi/\n",
      "https://moveek.com/phim/son-tinh-thuy-tinh/\n",
      "https://moveek.com/phim/binh-tinh-ma-yeu/\n",
      "https://moveek.com/phim/uoc-hen-mua-thu/\n",
      "https://moveek.com/phim/578-movies/\n",
      "https://moveek.com/phim/chuyen-xe-hanh-phuc/\n",
      "https://moveek.com/phim/em-tren-18/\n",
      "https://moveek.com/phim/em-dep-em-co-quyen/\n",
      "https://moveek.com/phim/hen-yeu/\n",
      "https://moveek.com/phim/mat-troi-con-o-dau/\n",
      "https://moveek.com/phim/scandal-3/\n",
      "https://moveek.com/phim/50-first-dates-viet-nam/\n",
      "https://moveek.com/phim/sam-hoi/\n",
      "https://moveek.com/phim/thua-me-con-di/\n",
      "https://moveek.com/phim/yeu-em-anh-cham-vao-dau/\n",
      "https://moveek.com/phim/tuyet-voi-khi-o-ben-em/\n",
      "https://moveek.com/phim/mua-he-nam-ay/\n",
      "https://moveek.com/phim/cha-ma/\n",
      "https://moveek.com/phim/nguoi-vo-ba/\n",
      "https://moveek.com/phim/ca-chon-anh-dung-di/\n",
      "https://moveek.com/phim/yeu-nham-dai-ca/\n",
      "https://moveek.com/phim/thang-ngay-thanh-xuan-ay/\n",
      "https://moveek.com/phim/tim-han-vet-seo/\n",
      "https://moveek.com/phim/thay-oi-em-co-bau/\n",
      "https://moveek.com/phim/trai-tim-quai-vat/\n",
      "https://moveek.com/phim/my-nhan-than-sach/\n",
      "https://moveek.com/phim/ra-gieng-anh-cuoi-em/\n",
      "https://moveek.com/phim/bong-hong-lua/\n"
     ]
    }
   ],
   "source": [
    "rows = [];\n",
    "i = 1;\n",
    "rows.append(['Film','Director','Star'])\n",
    "for result in results:\n",
    "    data = result.find('a') \n",
    "    #Get link film\n",
    "    link = 'https://moveek.com'+data.get('href')\n",
    "    #Get data from link\n",
    "    soup2 = readUrl(link)\n",
    "    resultFilms = soup2.find('div','movie-header-wrapper')\n",
    "    print(link)\n",
    "    \n",
    "    #1 - Get director\n",
    "    srcDirector = resultFilms.findAll('p','text-white')\n",
    "    director = srcDirector[len(srcDirector)-1].find('a');\n",
    "    if(director == None):\n",
    "        director = ''\n",
    "    else:\n",
    "        director = director.getText()\n",
    "        \n",
    "    #2 - Get Actors\n",
    "    soup3 = readUrl(link)\n",
    "    resultActorFilms = soup2.find('div','movie-actors panel wrapper m-t')\n",
    "    \n",
    "    if(resultActorFilms == None) :\n",
    "        rows.append([director,'No actor'])\n",
    "    else :\n",
    "        actors = resultActorFilms.findAll('img')\n",
    "        for actor in actors:\n",
    "            rows.append([director,actor.get('alt')])\n"
   ]
  },
  {
   "cell_type": "code",
   "execution_count": 7,
   "metadata": {},
   "outputs": [
    {
     "name": "stdout",
     "output_type": "stream",
     "text": [
      "Success\n"
     ]
    }
   ],
   "source": [
    "# Create csv and write rows to output file\n",
    "# print(rows)\n",
    "with open('ScrappingDataTest.csv','w', newline='',encoding=\"utf-8\") as f_output:\n",
    "    csv_output = csv.writer(f_output)\n",
    "    csv_output.writerows(rows)\n",
    "print('Success')"
   ]
  },
  {
   "cell_type": "code",
   "execution_count": null,
   "metadata": {},
   "outputs": [],
   "source": []
  }
 ],
 "metadata": {
  "kernelspec": {
   "display_name": "Python 3",
   "language": "python",
   "name": "python3"
  },
  "language_info": {
   "codemirror_mode": {
    "name": "ipython",
    "version": 3
   },
   "file_extension": ".py",
   "mimetype": "text/x-python",
   "name": "python",
   "nbconvert_exporter": "python",
   "pygments_lexer": "ipython3",
   "version": "3.6.5"
  }
 },
 "nbformat": 4,
 "nbformat_minor": 2
}
