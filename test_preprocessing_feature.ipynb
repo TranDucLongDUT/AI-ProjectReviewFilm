{
 "cells": [
  {
   "cell_type": "code",
   "execution_count": 5,
   "metadata": {},
   "outputs": [],
   "source": [
    "import tensorflow as tf\n",
    "import numpy as np\n",
    "import pandas as pd"
   ]
  },
  {
   "cell_type": "code",
   "execution_count": 6,
   "metadata": {},
   "outputs": [],
   "source": [
    "import bs4\n",
    "from urllib.request import urlopen\n",
    "import csv "
   ]
  },
  {
   "cell_type": "code",
   "execution_count": 7,
   "metadata": {},
   "outputs": [],
   "source": [
    "def readUrl(url):\n",
    "    web_data = urlopen(url)\n",
    "    html = web_data.read()\n",
    "    web_data.close()\n",
    "    data = bs4.BeautifulSoup(html, 'html.parser')\n",
    "    return data"
   ]
  },
  {
   "cell_type": "code",
   "execution_count": 8,
   "metadata": {},
   "outputs": [
    {
     "name": "stdout",
     "output_type": "stream",
     "text": [
      "43\n"
     ]
    }
   ],
   "source": [
    "url = \"https://moveek.com/phim-viet-nam/\" \n",
    "soup = readUrl(url) \n",
    "results = soup.findAll('div','panel panel-post panel-movie-grid') \n",
    "print(len(results))"
   ]
  },
  {
   "cell_type": "code",
   "execution_count": 9,
   "metadata": {},
   "outputs": [
    {
     "name": "stdout",
     "output_type": "stream",
     "text": [
      "https://moveek.com/phim/cam-bay-hoi-tho-cua-quy/\n",
      "https://moveek.com/phim/o-day-co-nang/\n",
      "https://moveek.com/phim/xuong-13/\n",
      "https://moveek.com/phim/lala-hay-de-em-yeu-anh/\n",
      "https://moveek.com/phim/the-vietnamese-bride/\n",
      "https://moveek.com/phim/sieu-sao-sieu-ngo/\n",
      "https://moveek.com/phim/ve-que-an-tet/\n",
      "https://moveek.com/phim/798-muoi/\n",
      "https://moveek.com/phim/dich-ton-doc-dac/\n",
      "https://moveek.com/phim/thu-yeu-roi-biet/\n",
      "https://moveek.com/phim/thang-nam-ruc-ro/\n",
      "https://moveek.com/phim/phan-van-khai-nguoi-con-dat-thep/\n",
      "https://moveek.com/phim/ong-ngoai-tuoi-30/\n",
      "https://moveek.com/phim/yeu-em-bat-chap/\n",
      "https://moveek.com/phim/ha-cuoi-tinh-dau/\n",
      "https://moveek.com/phim/lat-mat-3-ba-chang-khuyet/\n",
      "https://moveek.com/phim/100-ngay-ben-em/\n",
      "https://moveek.com/phim/11-niem-hy-vong/\n",
      "https://moveek.com/phim/yeu-nu-sieu-quay/\n",
      "https://moveek.com/phim/nham-mat-thay-mua-he/\n",
      "https://moveek.com/phim/em-gai-mua/\n",
      "https://moveek.com/phim/ong-kinh-sat-nhan/\n",
      "https://moveek.com/phim/lo-mat/\n",
      "https://moveek.com/phim/truong-hoc-ba-vuong/\n",
      "https://moveek.com/phim/tim-vo-cho-ba/\n",
      "https://moveek.com/phim/song-lang/\n",
      "https://moveek.com/phim/chang-vo-cua-em/\n",
      "https://moveek.com/phim/mua-viet-tinh-ca/\n",
      "https://moveek.com/phim/hoan-doi-1/\n",
      "https://moveek.com/phim/bao-gio-het-e/\n",
      "https://moveek.com/phim/chu-oi-dung-lay-me-con/\n",
      "https://moveek.com/phim/ke-hoach-doi-chong/\n",
      "https://moveek.com/phim/finding-phong/\n",
      "https://moveek.com/phim/quy-co-thua-ke/\n",
      "https://moveek.com/phim/nguoi-bat-tu/\n",
      "https://moveek.com/phim/loi-ket-ban-chet-choc/\n",
      "https://moveek.com/phim/thach-thao/\n",
      "https://moveek.com/phim/vai-dien-doi-doi/\n",
      "https://moveek.com/phim/chi-tro-ly-cua-anh/\n",
      "https://moveek.com/phim/canh-dieu-mua/\n",
      "https://moveek.com/phim/gai-gia-lam-chieu-2/\n",
      "https://moveek.com/phim/hon-papa-da-con-gai/\n",
      "https://moveek.com/phim/thien-linh-cai/\n"
     ]
    }
   ],
   "source": [
    "rows = [];\n",
    "rows.append(['Imdb','Director','Star'])\n",
    "for result in results:\n",
    "    data = result.find('a') \n",
    "    \n",
    "    #Get link film\n",
    "    link = 'https://moveek.com'+data.get('href')\n",
    "    #Get data from link\n",
    "    soup = readUrl(link)\n",
    "    resultFilms = soup.find('div','movie-header-wrapper')\n",
    "    print(link)\n",
    "    \n",
    "    #2 - Get percents\n",
    "    percent = resultFilms.find('div','action chart-pie chart-pie-small pull-left')\n",
    "    if(percent == None) :\n",
    "        percent = '5'\n",
    "    else :\n",
    "        percent = percent.getText().replace(\"%\",\"\")\n",
    "        percent = int(percent)/10\n",
    "#     print(percent)\n",
    "        \n",
    "    #3 - Get director\n",
    "    srcDirector = resultFilms.findAll('p','text-white')\n",
    "    director = srcDirector[len(srcDirector)-1].find('a');\n",
    "    if(director == None):\n",
    "        director = ''\n",
    "    else:\n",
    "        director = director.getText() \n",
    "    \n",
    "    #4 - Get Actors\n",
    "    resultActorFilms = soup.find('div','movie-actors panel wrapper m-t')\n",
    "    listActor=[];\n",
    "    if(resultActorFilms == None or director=='') : \n",
    "        listActor='No Actor'\n",
    "    else :\n",
    "        actors = resultActorFilms.findAll('img')\n",
    "        for actor in actors:\n",
    "            rows.append([percent, director,actor.get('alt')])"
   ]
  },
  {
   "cell_type": "code",
   "execution_count": 105,
   "metadata": {},
   "outputs": [],
   "source": [
    "# print(tf.feature_column.categorical_column_with_vocabulary_list())"
   ]
  },
  {
   "cell_type": "code",
   "execution_count": 10,
   "metadata": {},
   "outputs": [
    {
     "name": "stdout",
     "output_type": "stream",
     "text": [
      "[8.0, 8.0, 8.0, 8.0, 8.0, 8.0, 8.0, 7.9, 7.9, 7.9, 7.9, 7.9, 7.9, 7.9, 7.9, 7.9, 7.9, 5.0, 5.0, 5.0, 5.0, 4.0, 4.0, 4.0, 4.0, '5', '5', '5', '5', '5', '5', '5', '5', 9.1, 9.1, 9.1, 9.1, 9.1, 8.8, 8.8, 8.8, 8.8, 8.8, 8.8, 8.2, 8.2, 8.2, 8.2, 8.2, 8.2, 8.2, 8.2, 8.2, 6.0, 6.0, 6.0, 6.0, 6.0, 6.0, 6.0, 6.0, 6.0, 6.0, 6.0, 6.0, 2.9, 2.9, 2.9, 2.9, 9.3, 9.3, 9.3, 9.3, 9.3, 9.3, 9.3, 9.3, 9.3, 9.3, 9.3, 9.3, 8.2, 8.2, 8.2, 8.2, 8.2, 8.2, 8.2, 8.2, 8.2, 8.2, 8.2, 8.2, 4.7, 4.7, 4.7, 4.7, 4.7, '5', '5', '5', '5', '5', '5', '5', '5', 8.1, 8.1, 8.1, 8.1, 8.1, 8.1, 8.1, 8.1, 8.1, 8.1, 8.1, 8.1, 8.1, 8.1, 8.1, 8.1, 8.1, 8.1, 8.1, 8.1, 8.1, 7.4, 7.4, 7.4, 7.4, 7.4, 7.4, 7.4, 7.4, 7.4, 7.4, 5.0, 5.0, 5.0, 5.0, 5.0, 5.0, 5.0, 5.0, 5.0, 5.0, 8.7, 8.7, 8.7, 8.7, 8.7, 8.7, 8.7, 8.7, 8.7, 8.7, 8.7, 8.7, 6.8, 6.8, 6.8, 6.8, 6.8, 6.8, 6.8, 6.8, 6.8, 6.8, 6.8, 8.3, 8.3, 8.3, 8.3, 8.3, 8.3, 8.3, 2.5, 2.5, 2.5, 2.5, 2.5, 3.6, 3.6, 3.6, 3.6, 3.6, 3.6, 3.6, 7.3, 7.3, 7.3, 7.3, 10.0, 10.0, 10.0, 10.0, 10.0, 9.5, 9.5, 9.5, 9.5, 9.5, 9.5, 9.5, 9.5, 9.2, 9.2, 9.2, 9.2, 9.2, 9.2, 9.2, 9.3, 9.3, 9.3, 9.3, 9.3, 9.3, 9.3, 9.3, 9.3, 9.3, 9.1, 9.1, 9.1, 9.1, 9.1, 9.1, 9.1, 9.1, 9.1, 9.1, 9.1, 9.1, 9.1, 9.1, 9.1, 1.0, 1.0, 1.0, 1.0, 1.0, 1.0, 7.7, 7.7, 7.7, '5', '5', 6.7, 6.7, 6.7, 6.7, 6.7, 6.7, 7.1, 7.1, 7.1, 7.1, 7.1, 7.1, 7.1, 7.1, 7.1, 7.1, 8.2, 8.2, 8.2, 8.2, 8.2, '5', '5', '5', '5', '5', '5', '5', '5', '5', '5', '5', '5', '5', '5', '5', '5', '5', '5', '5', '5', '5', '5', '5', '5', '5', '5', '5', '5', '5']\n"
     ]
    }
   ],
   "source": [
    "directors = []\n",
    "actors = []\n",
    "point = []\n",
    "for row in rows[1:]:\n",
    "    directors.append(row[1])\n",
    "    actors.append(row[2])\n",
    "    point.append(row[0])\n",
    "print(point)\n",
    "# print (actors)"
   ]
  },
  {
   "cell_type": "code",
   "execution_count": 11,
   "metadata": {},
   "outputs": [
    {
     "name": "stdout",
     "output_type": "stream",
     "text": [
      "Success\n"
     ]
    }
   ],
   "source": [
    "# print(rows)\n",
    "with open('data_train_2.csv','w', newline='',encoding=\"utf-8-sig\") as f_output:\n",
    "    csv_output = csv.writer(f_output)\n",
    "    csv_output.writerows(rows)\n",
    "print('Success')"
   ]
  },
  {
   "cell_type": "code",
   "execution_count": 12,
   "metadata": {},
   "outputs": [
    {
     "name": "stdout",
     "output_type": "stream",
     "text": [
      "INFO:tensorflow:Using default config.\n",
      "INFO:tensorflow:Using config: {'_model_dir': 'linear regressor', '_tf_random_seed': None, '_save_summary_steps': 100, '_save_checkpoints_steps': None, '_save_checkpoints_secs': 600, '_session_config': None, '_keep_checkpoint_max': 5, '_keep_checkpoint_every_n_hours': 10000, '_log_step_count_steps': 100, '_train_distribute': None, '_device_fn': None, '_service': None, '_cluster_spec': <tensorflow.python.training.server_lib.ClusterSpec object at 0x000001CF5831AC18>, '_task_type': 'worker', '_task_id': 0, '_global_id_in_cluster': 0, '_master': '', '_evaluation_master': '', '_is_chief': True, '_num_ps_replicas': 0, '_num_worker_replicas': 1}\n",
      "<tensorflow.python.estimator.canned.linear.LinearRegressor object at 0x000001CF582ED0B8>\n"
     ]
    }
   ],
   "source": [
    "X_features = pd.read_csv('data_train_2.csv', usecols = ['Director','Star']) \n",
    "X_train = X_features\n",
    "# print(X_train)\n",
    "# print(y_train)\n",
    "use_feature_columns = ['Director','Star']\n",
    "features = [tf.feature_column.categorical_column_with_vocabulary_list(key = column, vocabulary_list = X_features[column].unique()) \n",
    "                        for column in use_feature_columns]\n",
    "linear_features = features\n",
    "linear_regressor = tf.estimator.LinearRegressor(feature_columns=linear_features,\n",
    "                                                model_dir = 'linear regressor')\n",
    "print(linear_regressor)"
   ]
  },
  {
   "cell_type": "code",
   "execution_count": 13,
   "metadata": {},
   "outputs": [],
   "source": [
    "y_train = pd.read_csv('data_train_2.csv',usecols=['Imdb'])\n",
    "# X_features = pd.read_csv('data_train_2.csv', usecols = ['Director','Star'])\n"
   ]
  },
  {
   "cell_type": "code",
   "execution_count": 14,
   "metadata": {},
   "outputs": [],
   "source": [
    "training_input = tf.estimator.inputs.pandas_input_fn(x = X_train,\n",
    "                                                        y=y_train,\n",
    "                                                        batch_size=32,\n",
    "                                                        shuffle= True,\n",
    "                                                        num_epochs = None)"
   ]
  },
  {
   "cell_type": "code",
   "execution_count": 15,
   "metadata": {},
   "outputs": [
    {
     "name": "stdout",
     "output_type": "stream",
     "text": [
      "INFO:tensorflow:Calling model_fn.\n",
      "INFO:tensorflow:Done calling model_fn.\n",
      "INFO:tensorflow:Create CheckpointSaverHook.\n",
      "INFO:tensorflow:Graph was finalized.\n",
      "INFO:tensorflow:Restoring parameters from linear regressor\\model.ckpt-12000\n",
      "INFO:tensorflow:Running local_init_op.\n",
      "INFO:tensorflow:Done running local_init_op.\n",
      "INFO:tensorflow:Saving checkpoints for 12000 into linear regressor\\model.ckpt.\n",
      "INFO:tensorflow:loss = 0.20693806, step = 12001\n",
      "INFO:tensorflow:global_step/sec: 290.529\n",
      "INFO:tensorflow:loss = 0.2863382, step = 12101 (0.344 sec)\n",
      "INFO:tensorflow:global_step/sec: 406.63\n",
      "INFO:tensorflow:loss = 0.5868559, step = 12201 (0.252 sec)\n",
      "INFO:tensorflow:global_step/sec: 400.158\n",
      "INFO:tensorflow:loss = 0.38134924, step = 12301 (0.244 sec)\n",
      "INFO:tensorflow:global_step/sec: 402.275\n",
      "INFO:tensorflow:loss = 0.6967465, step = 12401 (0.249 sec)\n",
      "INFO:tensorflow:global_step/sec: 469.456\n",
      "INFO:tensorflow:loss = 0.15513323, step = 12501 (0.213 sec)\n",
      "INFO:tensorflow:global_step/sec: 416.499\n",
      "INFO:tensorflow:loss = 0.1511349, step = 12601 (0.240 sec)\n",
      "INFO:tensorflow:global_step/sec: 415.413\n",
      "INFO:tensorflow:loss = 0.3477679, step = 12701 (0.256 sec)\n",
      "INFO:tensorflow:global_step/sec: 428.391\n",
      "INFO:tensorflow:loss = 0.21765621, step = 12801 (0.218 sec)\n",
      "INFO:tensorflow:global_step/sec: 330.372\n",
      "INFO:tensorflow:loss = 0.12688345, step = 12901 (0.303 sec)\n",
      "INFO:tensorflow:global_step/sec: 415.777\n",
      "INFO:tensorflow:loss = 0.34407136, step = 13001 (0.241 sec)\n",
      "INFO:tensorflow:global_step/sec: 320.346\n",
      "INFO:tensorflow:loss = 0.34048635, step = 13101 (0.315 sec)\n",
      "INFO:tensorflow:global_step/sec: 437.981\n",
      "INFO:tensorflow:loss = 0.23318335, step = 13201 (0.225 sec)\n",
      "INFO:tensorflow:global_step/sec: 416.605\n",
      "INFO:tensorflow:loss = 0.17672405, step = 13301 (0.248 sec)\n",
      "INFO:tensorflow:global_step/sec: 276.78\n",
      "INFO:tensorflow:loss = 0.39870447, step = 13401 (0.359 sec)\n",
      "INFO:tensorflow:global_step/sec: 398.635\n",
      "INFO:tensorflow:loss = 0.1338895, step = 13501 (0.248 sec)\n",
      "INFO:tensorflow:global_step/sec: 408.397\n",
      "INFO:tensorflow:loss = 0.13416244, step = 13601 (0.243 sec)\n",
      "INFO:tensorflow:global_step/sec: 332.524\n",
      "INFO:tensorflow:loss = 0.21421833, step = 13701 (0.305 sec)\n",
      "INFO:tensorflow:global_step/sec: 333.526\n",
      "INFO:tensorflow:loss = 0.34717816, step = 13801 (0.297 sec)\n",
      "INFO:tensorflow:global_step/sec: 371.692\n",
      "INFO:tensorflow:loss = 0.36147505, step = 13901 (0.272 sec)\n",
      "INFO:tensorflow:Saving checkpoints for 14000 into linear regressor\\model.ckpt.\n",
      "INFO:tensorflow:Loss for final step: 0.33826792.\n"
     ]
    },
    {
     "data": {
      "text/plain": [
       "<tensorflow.python.estimator.canned.linear.LinearRegressor at 0x1cf582ed0b8>"
      ]
     },
     "execution_count": 15,
     "metadata": {},
     "output_type": "execute_result"
    }
   ],
   "source": [
    "linear_regressor.train(input_fn = training_input,steps=2000)"
   ]
  },
  {
   "cell_type": "code",
   "execution_count": 16,
   "metadata": {},
   "outputs": [
    {
     "name": "stdout",
     "output_type": "stream",
     "text": [
      "72\n"
     ]
    }
   ],
   "source": [
    "url = \"https://moveek.com/phim-viet-nam-2019/\" \n",
    "soup = readUrl(url) \n",
    "results = soup.findAll('div','panel panel-post panel-movie-grid') \n",
    "print(len(results))"
   ]
  },
  {
   "cell_type": "code",
   "execution_count": 17,
   "metadata": {},
   "outputs": [
    {
     "name": "stdout",
     "output_type": "stream",
     "text": [
      "https://moveek.com/phim/thanh-pho-ngu-gat/\n",
      "https://moveek.com/phim/3d-cung-tam-ke/\n",
      "https://moveek.com/phim/tao-quay/\n",
      "https://moveek.com/phim/vu-quy-dai-nao/\n",
      "https://moveek.com/phim/cua-lai-vo-bau/\n",
      "https://moveek.com/phim/trang-quynh/\n",
      "https://moveek.com/phim/hai-phuong/\n",
      "https://moveek.com/phim/lat-mat-4/\n",
      "https://moveek.com/phim/90-ngay-ha/\n",
      "https://moveek.com/phim/vu-khuc-thanh-xuan/\n",
      "https://moveek.com/phim/chi-muoi-ba/\n",
      "https://moveek.com/phim/ngoi-nha-buom-buom/\n",
      "https://moveek.com/phim/thien-than-nho-cua-toi/\n",
      "https://moveek.com/phim/thien-duong/\n",
      "https://moveek.com/phim/nguoi-lam-phao-hoa/\n",
      "https://moveek.com/phim/muc-tieu-chet/\n",
      "https://moveek.com/phim/nhan-duyen-anh-mai-ben-em/\n",
      "https://moveek.com/phim/ghen/\n",
      "https://moveek.com/phim/ngoi-khoc-tren-cay/\n",
      "https://moveek.com/phim/moi-tinh-dau-cua-toi/\n",
      "https://moveek.com/phim/ba-dieu-uoc/\n",
      "https://moveek.com/phim/gio-sao-day/\n",
      "https://moveek.com/phim/hanh-phuc-khong-danh-cho-tinh-nhan/\n",
      "https://moveek.com/phim/benh-vien-ma-2/\n",
      "https://moveek.com/phim/mua-tu-dang-yeu-em/\n",
      "https://moveek.com/phim/giac-mo-thu-7/\n",
      "https://moveek.com/phim/boi-sai-gon-nhieu-nang/\n",
      "https://moveek.com/phim/trang-ti/\n",
      "https://moveek.com/phim/yolo/\n",
      "https://moveek.com/phim/su-mang-sinh-tu/\n",
      "https://moveek.com/phim/a-xe-om-va-ga-dung-duong/\n",
      "https://moveek.com/phim/thich-la-nhich/\n",
      "https://moveek.com/phim/da-khuc/\n",
      "https://moveek.com/phim/yeu-anh-nhe-chang-trai/\n",
      "https://moveek.com/phim/nguoi-phan-xu/\n",
      "https://moveek.com/phim/doi-thu/\n",
      "https://moveek.com/phim/gameshow-tu-than/\n",
      "https://moveek.com/phim/ngoc-oi-tuoi-17/\n",
      "https://moveek.com/phim/tro-choi-tu-than/\n",
      "https://moveek.com/phim/son-than/\n",
      "https://moveek.com/phim/nguoi-yeu-oi/\n",
      "https://moveek.com/phim/dong-pham-an-danh/\n",
      "https://moveek.com/phim/the-dreamer/\n",
      "https://moveek.com/phim/dat-rung-phuong-nam/\n",
      "https://moveek.com/phim/nguoi-la-oi-yeu-mat-roi/\n",
      "https://moveek.com/phim/son-tinh-thuy-tinh/\n",
      "https://moveek.com/phim/binh-tinh-ma-yeu/\n",
      "https://moveek.com/phim/uoc-hen-mua-thu/\n",
      "https://moveek.com/phim/578-movies/\n",
      "https://moveek.com/phim/chuyen-xe-hanh-phuc/\n",
      "https://moveek.com/phim/em-tren-18/\n",
      "https://moveek.com/phim/em-dep-em-co-quyen/\n",
      "https://moveek.com/phim/hen-yeu/\n",
      "https://moveek.com/phim/mat-troi-con-o-dau/\n",
      "https://moveek.com/phim/scandal-3/\n",
      "https://moveek.com/phim/50-first-dates-viet-nam/\n",
      "https://moveek.com/phim/sam-hoi/\n",
      "https://moveek.com/phim/thua-me-con-di/\n",
      "https://moveek.com/phim/yeu-em-anh-cham-vao-dau/\n",
      "https://moveek.com/phim/tuyet-voi-khi-o-ben-em/\n",
      "https://moveek.com/phim/mua-he-nam-ay/\n",
      "https://moveek.com/phim/cha-ma/\n",
      "https://moveek.com/phim/nguoi-vo-ba/\n",
      "https://moveek.com/phim/ca-chon-anh-dung-di/\n",
      "https://moveek.com/phim/yeu-nham-dai-ca/\n",
      "https://moveek.com/phim/thang-ngay-thanh-xuan-ay/\n",
      "https://moveek.com/phim/tim-han-vet-seo/\n",
      "https://moveek.com/phim/thay-oi-em-co-bau/\n",
      "https://moveek.com/phim/trai-tim-quai-vat/\n",
      "https://moveek.com/phim/my-nhan-than-sach/\n",
      "https://moveek.com/phim/ra-gieng-anh-cuoi-em/\n",
      "https://moveek.com/phim/bong-hong-lua/\n"
     ]
    }
   ],
   "source": [
    "rows2 = [];\n",
    "rows2.append(['Director','Star'])\n",
    "for result in results:\n",
    "    data = result.find('a') \n",
    "    #Get link film\n",
    "    link = 'https://moveek.com'+data.get('href')\n",
    "    #Get data from link\n",
    "    soup = readUrl(link)\n",
    "    resultFilms = soup.find('div','movie-header-wrapper')\n",
    "    print(link)  \n",
    "    \n",
    "    #2 - Get director\n",
    "    srcDirector = resultFilms.findAll('p','text-white')\n",
    "    director = srcDirector[len(srcDirector)-1].find('a');\n",
    "    if(director == None):\n",
    "        director = ''\n",
    "    else:\n",
    "        director = director.getText()\n",
    "         \n",
    "    #5 - Get Actors\n",
    "    soup3 = readUrl(link)\n",
    "    resultActorFilms = soup.find('div','movie-actors panel wrapper m-t')\n",
    "    listActor=[];\n",
    "\n",
    "    if(resultActorFilms == None or director == '') :\n",
    "        listActor='No Actor';\n",
    "    else :\n",
    "        actors = resultActorFilms.findAll('img')\n",
    "        for actor in actors:\n",
    "            rows2.append([director,actor.get('alt')])\n"
   ]
  },
  {
   "cell_type": "code",
   "execution_count": 23,
   "metadata": {},
   "outputs": [],
   "source": [
    "#Kien\n",
    "X_test = pd.read_csv('data_test_2.csv', usecols = ['Director','Star']) \n",
    "predicts = linear_regressor.predict(X_test) \n",
    "# predictions_dict = next(predicts)\n",
    "# pred = list(predicts)"
   ]
  },
  {
   "cell_type": "code",
   "execution_count": null,
   "metadata": {},
   "outputs": [],
   "source": []
  }
 ],
 "metadata": {
  "kernelspec": {
   "display_name": "Python 3",
   "language": "python",
   "name": "python3"
  },
  "language_info": {
   "codemirror_mode": {
    "name": "ipython",
    "version": 3
   },
   "file_extension": ".py",
   "mimetype": "text/x-python",
   "name": "python",
   "nbconvert_exporter": "python",
   "pygments_lexer": "ipython3",
   "version": "3.6.5"
  }
 },
 "nbformat": 4,
 "nbformat_minor": 2
}
