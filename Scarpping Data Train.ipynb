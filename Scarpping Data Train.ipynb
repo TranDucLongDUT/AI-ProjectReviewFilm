{
 "cells": [
  {
   "cell_type": "code",
   "execution_count": 5,
   "metadata": {},
   "outputs": [],
   "source": [
    "import bs4\n",
    "from urllib.request import urlopen\n",
    "import csv"
   ]
  },
  {
   "cell_type": "code",
   "execution_count": 6,
   "metadata": {},
   "outputs": [],
   "source": [
    "def readUrl(url):\n",
    "    web_data = urlopen(url)\n",
    "    html = web_data.read()\n",
    "    web_data.close()\n",
    "    data = bs4.BeautifulSoup(html, 'html.parser')\n",
    "    return data"
   ]
  },
  {
   "cell_type": "code",
   "execution_count": 7,
   "metadata": {},
   "outputs": [
    {
     "name": "stdout",
     "output_type": "stream",
     "text": [
      "43\n"
     ]
    }
   ],
   "source": [
    "url = \"https://moveek.com/phim-viet-nam/\" \n",
    "soup = readUrl(url) \n",
    "results = soup.findAll('div','panel panel-post panel-movie-grid') \n",
    "print(len(results))"
   ]
  },
  {
   "cell_type": "code",
   "execution_count": 5,
   "metadata": {},
   "outputs": [
    {
     "name": "stdout",
     "output_type": "stream",
     "text": [
      "\n",
      "\n",
      "80%\n",
      "\n",
      "\n",
      "Nguyễn Quang Tuyến\n",
      "['Nhật Kim Anh', 'Đông Dương', 'Xuân Phúc', 'Quang Hòa', 'Lâm Trí', 'Hoàng Tiến Dũng', 'Hùng Chilhuyn']\n"
     ]
    }
   ],
   "source": [
    "#Get percent \n",
    "def getPercent(link):\n",
    "    soup2 = readUrl(link)\n",
    "    resultFilms = soup2.find('div','movie-header-wrapper')\n",
    "    #Get percents\n",
    "    percent = resultFilms.find('div','action chart-pie chart-pie-small pull-left') \n",
    "    return percent.getText();\n",
    "\n",
    "#Get Director \n",
    "def getDirector(link):\n",
    "    soup3 = readUrl(link)\n",
    "    resultFilms = soup3.find('div','movie-header-wrapper') \n",
    "    srcDirector = resultFilms.findAll('p','text-white')\n",
    "    director = srcDirector[len(srcDirector)-1].find('a').getText();\n",
    "    return director\n",
    "#Get actor\n",
    "def getActor(link):\n",
    "    soup = readUrl(link)\n",
    "    resultActorFilms = soup.find('div','movie-actors panel wrapper m-t')\n",
    "    actors = resultActorFilms.findAll('img')\n",
    "    data = []\n",
    "    for actor in actors:\n",
    "        data.append(actor.get('alt'))\n",
    "    return data\n",
    "#example\n",
    "link2 = 'https://moveek.com/phim/cam-bay-hoi-tho-cua-quy/'\n",
    "percent = getPercent(link2)\n",
    "director = getDirector(link2)\n",
    "actor = getActor(link2)\n",
    "print(percent)\n",
    "print(director)\n",
    "print(actor)"
   ]
  },
  {
   "cell_type": "code",
   "execution_count": 10,
   "metadata": {},
   "outputs": [
    {
     "name": "stdout",
     "output_type": "stream",
     "text": [
      "8.0\n",
      "7.9\n",
      "5.0\n",
      "4.0\n",
      "5\n",
      "9.1\n",
      "8.8\n",
      "8.2\n",
      "6.0\n",
      "2.9\n",
      "9.3\n",
      "5\n",
      "8.2\n",
      "4.7\n",
      "5\n",
      "8.1\n",
      "8.1\n",
      "7.4\n",
      "5.0\n",
      "8.7\n",
      "6.8\n",
      "8.3\n",
      "2.5\n",
      "3.6\n",
      "7.3\n",
      "10.0\n",
      "9.5\n",
      "9.2\n",
      "9.3\n",
      "9.1\n",
      "1.0\n",
      "7.7\n",
      "5\n",
      "6.7\n",
      "7.1\n",
      "8.2\n",
      "5\n",
      "5\n",
      "5\n",
      "5\n",
      "5\n",
      "5\n",
      "5\n"
     ]
    }
   ],
   "source": [
    "rows = [];\n",
    "rows.append(['Film', 'Imdb','Director','Description','Star', 'Time', 'Poster', 'Date'])\n",
    "for result in results:\n",
    "    data = result.find('a')\n",
    "    \n",
    "    #Get link film\n",
    "    link = 'https://moveek.com'+data.get('href')\n",
    "    #Get data from link\n",
    "    soup = readUrl(link)\n",
    "    resultFilms = soup.find('div','movie-header-wrapper') \n",
    "    \n",
    "    #2 - Get percents\n",
    "    percent = resultFilms.find('div','action chart-pie chart-pie-small pull-left')\n",
    "    if(percent == None) :\n",
    "        percent = '5'\n",
    "    else :\n",
    "        percent = percent.getText().replace(\"%\",\"\")\n",
    "        percent = int(percent)/10\n",
    "    print(percent) \n",
    "        \n",
    "    #3 - Get director\n",
    "    srcDirector = resultFilms.findAll('p','text-white')\n",
    "    director = srcDirector[len(srcDirector)-1].find('a');\n",
    "    if(director == None):\n",
    "        director = ''\n",
    "    else:\n",
    "        director = director.getText()\n",
    "    \n",
    "    #6 - Get Actors\n",
    "    resultActorFilms = soup.find('div','movie-actors panel wrapper m-t')\n",
    "    listActor=[];\n",
    "    if(resultActorFilms == None) :\n",
    "        listActor= 'No actor'\n",
    "    else :\n",
    "        actors = resultActorFilms.findAll('img')\n",
    "        for actor in actors:\n",
    "            rows.append([percent, director])"
   ]
  },
  {
   "cell_type": "code",
   "execution_count": 12,
   "metadata": {},
   "outputs": [
    {
     "name": "stdout",
     "output_type": "stream",
     "text": [
      "Success\n"
     ]
    }
   ],
   "source": [
    "# Create csv and write rows to output file\n",
    "with open('percent.csv','w', newline='',encoding=\"utf-8-sig\") as f_output:\n",
    "    csv_output = csv.writer(f_output)\n",
    "    csv_output.writerows(rows)\n",
    "print('Success')"
   ]
  },
  {
   "cell_type": "code",
   "execution_count": null,
   "metadata": {},
   "outputs": [],
   "source": []
  }
 ],
 "metadata": {
  "kernelspec": {
   "display_name": "Python 3",
   "language": "python",
   "name": "python3"
  },
  "language_info": {
   "codemirror_mode": {
    "name": "ipython",
    "version": 3
   },
   "file_extension": ".py",
   "mimetype": "text/x-python",
   "name": "python",
   "nbconvert_exporter": "python",
   "pygments_lexer": "ipython3",
   "version": "3.6.5"
  }
 },
 "nbformat": 4,
 "nbformat_minor": 2
}
