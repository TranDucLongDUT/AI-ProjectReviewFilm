{
 "cells": [
  {
   "cell_type": "code",
   "execution_count": 10,
   "metadata": {},
   "outputs": [],
   "source": [
    "import bs4\n",
    "from urllib.request import urlopen\n",
    "import csv"
   ]
  },
  {
   "cell_type": "code",
   "execution_count": 11,
   "metadata": {},
   "outputs": [],
   "source": [
    "def readUrl(url):\n",
    "    web_data = urlopen(url)\n",
    "    html = web_data.read()\n",
    "    web_data.close()\n",
    "    data = bs4.BeautifulSoup(html, 'html.parser')\n",
    "    return data"
   ]
  },
  {
   "cell_type": "code",
   "execution_count": 12,
   "metadata": {},
   "outputs": [
    {
     "name": "stdout",
     "output_type": "stream",
     "text": [
      "43\n"
     ]
    }
   ],
   "source": [
    "url = \"https://moveek.com/phim-viet-nam/\" \n",
    "soup = readUrl(url) \n",
    "results = soup.findAll('div','panel panel-post panel-movie-grid') \n",
    "print(len(results))"
   ]
  },
  {
   "cell_type": "code",
   "execution_count": 5,
   "metadata": {},
   "outputs": [
    {
     "name": "stdout",
     "output_type": "stream",
     "text": [
      "\n",
      "\n",
      "80%\n",
      "\n",
      "\n",
      "Nguyễn Quang Tuyến\n",
      "['Nhật Kim Anh', 'Đông Dương', 'Xuân Phúc', 'Quang Hòa', 'Lâm Trí', 'Hoàng Tiến Dũng', 'Hùng Chilhuyn']\n"
     ]
    }
   ],
   "source": [
    "#Get percent \n",
    "def getPercent(link):\n",
    "    soup2 = readUrl(link)\n",
    "    resultFilms = soup2.find('div','movie-header-wrapper')\n",
    "    #Get percents\n",
    "    percent = resultFilms.find('div','action chart-pie chart-pie-small pull-left') \n",
    "    return percent.getText();\n",
    "\n",
    "#Get Director \n",
    "def getDirector(link):\n",
    "    soup3 = readUrl(link)\n",
    "    resultFilms = soup3.find('div','movie-header-wrapper') \n",
    "    srcDirector = resultFilms.findAll('p','text-white')\n",
    "    director = srcDirector[len(srcDirector)-1].find('a').getText();\n",
    "    return director\n",
    "#Get actor\n",
    "def getActor(link):\n",
    "    soup = readUrl(link)\n",
    "    resultActorFilms = soup.find('div','movie-actors panel wrapper m-t')\n",
    "    actors = resultActorFilms.findAll('img')\n",
    "    data = []\n",
    "    for actor in actors:\n",
    "        data.append(actor.get('alt'))\n",
    "    return data\n",
    "#example\n",
    "link2 = 'https://moveek.com/phim/cam-bay-hoi-tho-cua-quy/'\n",
    "percent = getPercent(link2)\n",
    "director = getDirector(link2)\n",
    "actor = getActor(link2)\n",
    "print(percent)\n",
    "print(director)\n",
    "print(actor)"
   ]
  },
  {
   "cell_type": "code",
   "execution_count": 13,
   "metadata": {},
   "outputs": [
    {
     "name": "stdout",
     "output_type": "stream",
     "text": [
      "https://moveek.com/phim/cam-bay-hoi-tho-cua-quy/\n",
      "https://moveek.com/phim/o-day-co-nang/\n",
      "https://moveek.com/phim/xuong-13/\n",
      "https://moveek.com/phim/lala-hay-de-em-yeu-anh/\n",
      "https://moveek.com/phim/the-vietnamese-bride/\n",
      "https://moveek.com/phim/sieu-sao-sieu-ngo/\n",
      "https://moveek.com/phim/ve-que-an-tet/\n",
      "https://moveek.com/phim/798-muoi/\n",
      "https://moveek.com/phim/dich-ton-doc-dac/\n",
      "https://moveek.com/phim/thu-yeu-roi-biet/\n",
      "https://moveek.com/phim/thang-nam-ruc-ro/\n",
      "https://moveek.com/phim/phan-van-khai-nguoi-con-dat-thep/\n",
      "https://moveek.com/phim/ong-ngoai-tuoi-30/\n",
      "https://moveek.com/phim/yeu-em-bat-chap/\n",
      "https://moveek.com/phim/ha-cuoi-tinh-dau/\n",
      "https://moveek.com/phim/lat-mat-3-ba-chang-khuyet/\n",
      "https://moveek.com/phim/100-ngay-ben-em/\n",
      "https://moveek.com/phim/11-niem-hy-vong/\n",
      "https://moveek.com/phim/yeu-nu-sieu-quay/\n",
      "https://moveek.com/phim/nham-mat-thay-mua-he/\n",
      "https://moveek.com/phim/em-gai-mua/\n",
      "https://moveek.com/phim/ong-kinh-sat-nhan/\n",
      "https://moveek.com/phim/lo-mat/\n",
      "https://moveek.com/phim/truong-hoc-ba-vuong/\n",
      "https://moveek.com/phim/tim-vo-cho-ba/\n",
      "https://moveek.com/phim/song-lang/\n",
      "https://moveek.com/phim/chang-vo-cua-em/\n",
      "https://moveek.com/phim/mua-viet-tinh-ca/\n",
      "https://moveek.com/phim/hoan-doi-1/\n",
      "https://moveek.com/phim/bao-gio-het-e/\n",
      "https://moveek.com/phim/chu-oi-dung-lay-me-con/\n",
      "https://moveek.com/phim/ke-hoach-doi-chong/\n",
      "https://moveek.com/phim/finding-phong/\n",
      "https://moveek.com/phim/quy-co-thua-ke/\n",
      "https://moveek.com/phim/nguoi-bat-tu/\n",
      "https://moveek.com/phim/loi-ket-ban-chet-choc/\n",
      "https://moveek.com/phim/thach-thao/\n",
      "https://moveek.com/phim/vai-dien-doi-doi/\n",
      "https://moveek.com/phim/chi-tro-ly-cua-anh/\n",
      "https://moveek.com/phim/canh-dieu-mua/\n",
      "https://moveek.com/phim/gai-gia-lam-chieu-2/\n",
      "https://moveek.com/phim/hon-papa-da-con-gai/\n",
      "https://moveek.com/phim/thien-linh-cai/\n"
     ]
    }
   ],
   "source": [
    "rows = [];\n",
    "rows.append(['Imdb','Director','Star'])\n",
    "for result in results:\n",
    "    data = result.find('a') \n",
    "    \n",
    "    #Get link film\n",
    "    link = 'https://moveek.com'+data.get('href')\n",
    "    #Get data from link\n",
    "    soup = readUrl(link)\n",
    "    resultFilms = soup.find('div','movie-header-wrapper')\n",
    "    print(link)\n",
    "     \n",
    "    #2 - Get percents\n",
    "    percent = resultFilms.find('div','action chart-pie chart-pie-small pull-left')\n",
    "    if(percent == None) :\n",
    "        percent = '50%'\n",
    "    else :\n",
    "        percent = percent.getText()\n",
    "        \n",
    "    #3 - Get director\n",
    "    srcDirector = resultFilms.findAll('p','text-white')\n",
    "    director = srcDirector[len(srcDirector)-1].find('a');\n",
    "    if(director == None):\n",
    "        director = ''\n",
    "    else:\n",
    "        director = director.getText() \n",
    "    \n",
    "    #4 - Get Actors\n",
    "    resultActorFilms = soup.find('div','movie-actors panel wrapper m-t')\n",
    "    listActor=[];\n",
    "    if(resultActorFilms == None) : \n",
    "        rows.append([''+percent.strip(), director,'No Actor'])\n",
    "    else :\n",
    "        actors = resultActorFilms.findAll('img')\n",
    "        for actor in actors:\n",
    "            rows.append([''+percent.strip(), director,actor.get('alt')])"
   ]
  },
  {
   "cell_type": "code",
   "execution_count": 14,
   "metadata": {},
   "outputs": [
    {
     "name": "stdout",
     "output_type": "stream",
     "text": [
      "Success\n"
     ]
    }
   ],
   "source": [
    "# Create csv and write rows to output file\n",
    "# print(rows)\n",
    "with open('ScrappingDataTrain.csv','w', newline='',encoding=\"utf-8\") as f_output:\n",
    "    csv_output = csv.writer(f_output)\n",
    "    csv_output.writerows(rows)\n",
    "print('Success')"
   ]
  },
  {
   "cell_type": "code",
   "execution_count": null,
   "metadata": {},
   "outputs": [],
   "source": []
  }
 ],
 "metadata": {
  "kernelspec": {
   "display_name": "Python 3",
   "language": "python",
   "name": "python3"
  },
  "language_info": {
   "codemirror_mode": {
    "name": "ipython",
    "version": 3
   },
   "file_extension": ".py",
   "mimetype": "text/x-python",
   "name": "python",
   "nbconvert_exporter": "python",
   "pygments_lexer": "ipython3",
   "version": "3.6.5"
  }
 },
 "nbformat": 4,
 "nbformat_minor": 2
}
